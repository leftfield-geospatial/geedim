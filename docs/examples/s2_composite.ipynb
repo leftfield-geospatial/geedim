{
 "cells": [
  {
   "cell_type": "markdown",
   "metadata": {},
   "source": [
    "## Sentinel-2 cloud/shadow-free composite\n",
    "\n",
    "This example creates and downloads a large cloud/shadow free composite from a year of Sentinel-2 SR imagery.  The area of interest is over Accra, Ghana.  It demonstrates approaches for staying within Earth Engine computational and memory limits, and for compositing heavily clouded areas. \n",
    "\n",
    "CLI commands equivalent to the API code snippets are given in the comments where possible.\n",
    "\n",
    "### Setup\n",
    "\n",
    "`geemap` is required to run the notebook.  You can uncomment the cell below to install it, if it isn't installed already."
   ]
  },
  {
   "cell_type": "code",
   "execution_count": 1,
   "metadata": {},
   "outputs": [],
   "source": [
    "# geemap should be installed if it isn't already.\n",
    "# import sys\n",
    "# if 'conda' in sys.prefix:\n",
    "#     # install into the conda environment the notebook is being run from\n",
    "#     !conda install --yes --prefix {sys.prefix} -c conda-forge geemap\n",
    "# else:\n",
    "#     # install into the python environment the notebook is being run from\n",
    "#     !{sys.executable} -m pip install geemap"
   ]
  },
  {
   "cell_type": "code",
   "execution_count": 2,
   "metadata": {},
   "outputs": [],
   "source": [
    "import logging\n",
    "import ee\n",
    "import geedim as gd\n",
    "import geemap.foliumap as geemap\n",
    "\n",
    "# initialise earth engine with the high-volume endpoint\n",
    "gd.Initialize()"
   ]
  },
  {
   "cell_type": "markdown",
   "metadata": {},
   "source": [
    "### Create and search a Sentinel-2 SR collection\n",
    "\n",
    "In this step we search for images to composite, over the area and time period of interest.  \n",
    "\n",
    "Searching and compositing Sentinel-2 collections over large areas or time spans can be time-consuming due to the computational burden of cloud/shadow masking, when it is used.  To reduce the number of images requiring cloud/shadow masks in the search, we specify a `custom_filter` that places an upper limit on the already existing `CLOUDY_PIXEL_PERCENTAGE` [image granule property](https://developers.google.com/earth-engine/datasets/catalog/COPERNICUS_S2_SR_HARMONIZED#image-properties).  This `custom_filter` is fast to apply.  \n",
    "\n",
    "While the `custom_filter` applies to properties of the image granule, the `fill_portion` and `cloudless_portion` filters apply to `geedim` calculated portions of the search region.   Here they are used to limit the search results to relatively large and cloud/shadow-free image portions.  \n",
    "\n",
    "By default, the [cloud-score](../api.rst#cloudmaskmethod) method is used for Sentinel-2 cloud/shadow masking. We specify a [cloud score threshold](../api.rst#MaskedImage) of 0.7 (`score=0.7`) for the search."
   ]
  },
  {
   "cell_type": "code",
   "execution_count": 3,
   "metadata": {},
   "outputs": [
    {
     "data": {
      "text/html": [
       "\n",
       "            <style>\n",
       "                .geemap-dark {\n",
       "                    --jp-widgets-color: white;\n",
       "                    --jp-widgets-label-color: white;\n",
       "                    --jp-ui-font-color1: white;\n",
       "                    --jp-layout-color2: #454545;\n",
       "                    background-color: #383838;\n",
       "                }\n",
       "\n",
       "                .geemap-dark .jupyter-button {\n",
       "                    --jp-layout-color3: #383838;\n",
       "                }\n",
       "\n",
       "                .geemap-colab {\n",
       "                    background-color: var(--colab-primary-surface-color, white);\n",
       "                }\n",
       "\n",
       "                .geemap-colab .jupyter-button {\n",
       "                    --jp-layout-color3: var(--colab-primary-surface-color, white);\n",
       "                }\n",
       "            </style>\n",
       "            "
      ],
      "text/plain": [
       "<IPython.core.display.HTML object>"
      ]
     },
     "metadata": {},
     "output_type": "display_data"
    },
    {
     "name": "stdout",
     "output_type": "stream",
     "text": [
      "Found 31 images.\n",
      "Image property descriptions:\n",
      "\n",
      "ABBREV     NAME                             DESCRIPTION\n",
      "---------  -------------------------------  ----------------------------------------------\n",
      "ID         system:id                        Earth Engine image id\n",
      "DATE       system:time_start                Image capture date/time (UTC)\n",
      "FILL       FILL_PORTION                     Portion of region pixels that are valid (%)\n",
      "CLOUDLESS  CLOUDLESS_PORTION                Portion of filled pixels that are cloud/shadow\n",
      "                                            free (%)\n",
      "RADQ       RADIOMETRIC_QUALITY              Radiometric quality check\n",
      "GEOMQ      GEOMETRIC_QUALITY                Geometric quality check\n",
      "SAA        MEAN_SOLAR_AZIMUTH_ANGLE         Solar azimuth angle (deg)\n",
      "SZA        MEAN_SOLAR_ZENITH_ANGLE          Solar zenith angle (deg)\n",
      "VAA        MEAN_INCIDENCE_AZIMUTH_ANGLE_B1  View (B1) azimuth angle (deg)\n",
      "VZA        MEAN_INCIDENCE_ZENITH_ANGLE_B1   View (B1) zenith angle (deg)\n",
      "\n",
      "Search Results:\n",
      "\n",
      "ID                                                                 DATE              FILL CLOUDLESS RADQ   GEOMQ     SAA   SZA    VAA   VZA\n",
      "------------------------------------------------------------------ ---------------- ----- --------- ------ ------ ------ ----- ------ -----\n",
      "COPERNICUS/S2_SR_HARMONIZED/20190109T101409_20190109T102253_T30NYM 2019-01-09 10:29 41.15     48.29 PASSED PASSED 139.50 37.20 110.79 11.21\n",
      "COPERNICUS/S2_SR_HARMONIZED/20190122T102329_20190122T103839_T30NZM 2019-01-22 10:39 35.83     78.59 PASSED PASSED 139.22 33.99 291.77 11.04\n",
      "COPERNICUS/S2_SR_HARMONIZED/20190122T102329_20190122T103839_T30NYM 2019-01-22 10:39 44.84     55.71 PASSED PASSED 138.15 34.57 284.86  7.01\n",
      "COPERNICUS/S2_SR_HARMONIZED/20190129T101259_20190129T102648_T30NZM 2019-01-29 10:29 78.98     77.88 PASSED PASSED 133.66 34.76 103.87  7.45\n",
      "COPERNICUS/S2_SR_HARMONIZED/20190129T101259_20190129T102648_T30NYM 2019-01-29 10:29 40.75     63.10 PASSED PASSED 132.71 35.41 110.77 11.22\n",
      "COPERNICUS/S2_SR_HARMONIZED/20190203T101221_20190203T102328_T30NZM 2019-02-03 10:29 78.98     75.00 PASSED PASSED 131.54 34.00 102.95  7.46\n",
      "COPERNICUS/S2_SR_HARMONIZED/20190203T101221_20190203T102328_T30NYM 2019-02-03 10:29 40.12     91.65 PASSED PASSED 130.60 34.67 110.22 11.22\n",
      "COPERNICUS/S2_SR_HARMONIZED/20190211T102149_20190211T103444_T30NZM 2019-02-11 10:39 36.62     41.50 PASSED PASSED 130.61 30.63 291.60 11.03\n",
      "COPERNICUS/S2_SR_HARMONIZED/20190211T102149_20190211T103444_T30NYM 2019-02-11 10:39 44.84     66.67 PASSED PASSED 129.57 31.32 284.89  7.01\n",
      "COPERNICUS/S2_SR_HARMONIZED/20190221T102039_20190221T103744_T30NZM 2019-02-21 10:39 37.43     93.97 PASSED PASSED 125.14 28.46 291.63 11.03\n",
      "COPERNICUS/S2_SR_HARMONIZED/20190221T102039_20190221T103744_T30NYM 2019-02-21 10:39 44.84     95.99 PASSED PASSED 124.14 29.19 284.91  6.97\n",
      "COPERNICUS/S2_SR_HARMONIZED/20190226T102021_20190226T102750_T30NZM 2019-02-26 10:39 37.51     96.09 PASSED PASSED 122.02 27.33 292.19 11.05\n",
      "COPERNICUS/S2_SR_HARMONIZED/20190226T102021_20190226T102750_T30NYM 2019-02-26 10:39 44.84     98.52 PASSED PASSED 121.05 28.09 285.84  6.97\n",
      "COPERNICUS/S2_SR_HARMONIZED/20190303T102019_20190303T103501_T30NZM 2019-03-03 10:39 38.43     66.90 PASSED PASSED 118.64 26.18 291.45 11.01\n",
      "COPERNICUS/S2_SR_HARMONIZED/20190303T102019_20190303T103501_T30NYM 2019-03-03 10:39 44.84     52.81 PASSED PASSED 117.72 26.96 284.74  6.95\n",
      "COPERNICUS/S2_SR_HARMONIZED/20190305T101021_20190305T101942_T30NZM 2019-03-05 10:29 78.98     76.62 PASSED PASSED 114.79 27.96 102.84  7.49\n",
      "COPERNICUS/S2_SR_HARMONIZED/20190305T101021_20190305T101942_T30NYM 2019-03-05 10:29 38.75     76.96 PASSED PASSED 114.03 28.77 110.18 11.24\n",
      "COPERNICUS/S2_SR_HARMONIZED/20190323T102029_20190323T103130_T30NZM 2019-03-23 10:39 37.31     83.77 PASSED PASSED 101.81 22.10 291.62 11.02\n",
      "COPERNICUS/S2_SR_HARMONIZED/20190402T102029_20190402T103141_T30NZM 2019-04-02 10:39 36.39     78.84 PASSED PASSED  91.53 20.78 291.59 11.04\n",
      "COPERNICUS/S2_SR_HARMONIZED/20190402T102029_20190402T103141_T30NYM 2019-04-02 10:39 44.84     75.66 PASSED PASSED  91.40 21.67 284.90  7.01\n",
      "COPERNICUS/S2_SR_HARMONIZED/20190404T101031_20190404T102921_T30NZM 2019-04-04 10:29 78.98     54.53 PASSED PASSED  89.21 23.09 104.17  7.42\n",
      "COPERNICUS/S2_SR_HARMONIZED/20190409T101029_20190409T102251_T30NZM 2019-04-09 10:29 78.98     77.99 PASSED PASSED  84.36 22.75 104.06  7.43\n",
      "COPERNICUS/S2_SR_HARMONIZED/20190502T102029_20190502T103323_T30NYM 2019-05-02 10:39 44.84     86.70 PASSED PASSED  62.60 21.88 285.00  7.07\n",
      "COPERNICUS/S2_SR_HARMONIZED/20190916T101029_20190916T102121_T30NZM 2019-09-16 10:29 78.98     44.71 PASSED PASSED  97.62 21.35 103.78  7.49\n",
      "COPERNICUS/S2_SR_HARMONIZED/20191029T102039_20191029T103707_T30NZM 2019-10-29 10:39 37.60     70.22 PASSED PASSED 140.78 24.88 291.61 11.05\n",
      "COPERNICUS/S2_SR_HARMONIZED/20191029T102039_20191029T103707_T30NYM 2019-10-29 10:39 44.84     82.21 PASSED PASSED 139.25 25.45 284.87  6.98\n",
      "COPERNICUS/S2_SR_HARMONIZED/20191115T101209_20191115T101753_T30NZM 2019-11-15 10:29 77.31     44.48 PASSED PASSED 143.38 30.41 103.78  7.48\n",
      "COPERNICUS/S2_SR_HARMONIZED/20191203T102401_20191203T103859_T30NZM 2019-12-03 10:39 36.76     76.96 PASSED PASSED 149.20 32.68 292.18 11.04\n",
      "COPERNICUS/S2_SR_HARMONIZED/20191203T102401_20191203T103859_T30NYM 2019-12-03 10:39 44.84     68.91 PASSED PASSED 147.94 33.15 285.92  6.99\n",
      "COPERNICUS/S2_SR_HARMONIZED/20191225T101329_20191225T102600_T30NZM 2019-12-25 10:29 78.98     99.95 PASSED PASSED 143.96 36.51 103.79  7.49\n",
      "COPERNICUS/S2_SR_HARMONIZED/20191225T101329_20191225T102600_T30NYM 2019-12-25 10:29 39.09     99.99 PASSED PASSED 142.92 37.05 110.76 11.25\n"
     ]
    }
   ],
   "source": [
    "# geojson search polygon\n",
    "region = {\n",
    "    'type': 'Polygon',\n",
    "    'coordinates': [[[-0.37, 5.75], [-0.37, 5.5], [0.0, 5.5], [0.0, 5.75], [-0.37, 5.75]]],\n",
    "}\n",
    "\n",
    "# create and search the Sentinel-2 TOA collection\n",
    "score = 0.7\n",
    "coll = gd.MaskedCollection.from_name('COPERNICUS/S2_SR_HARMONIZED')\n",
    "filt_coll = coll.search(\n",
    "    start_date='2019-01-01',\n",
    "    end_date='2020-01-01',\n",
    "    region=region,\n",
    "    cloudless_portion=40,\n",
    "    fill_portion=30,\n",
    "    custom_filter='CLOUDY_PIXEL_PERCENTAGE<40',\n",
    "    score=score,\n",
    ")\n",
    "\n",
    "# print the search results\n",
    "print(f'Found {len(filt_coll.properties)} images.')\n",
    "print(f'Image property descriptions:\\n\\n{filt_coll.schema_table}\\n')\n",
    "print(f'Search Results:\\n\\n{filt_coll.properties_table}')\n",
    "\n",
    "# !geedim config --score 0.7 search -c s2-sr-hm -s 2019-01-01 -e 2020-01-01 --bbox -0.37 5.5 -0.0 5.75 -cf \"CLOUDY_PIXEL_PERCENTAGE<40\" -cp 40 -fp 30"
   ]
  },
  {
   "cell_type": "markdown",
   "metadata": {},
   "source": [
    "#### Create composite image\n",
    "\n",
    "Next we create a [medoid](../api.rst#compositemethod) composite image from the search result images.  Again we specify a [cloud score threshold](../api.rst#MaskedImage) of 0.7, to aggressively mask cloudy pixels.  This results in some masking of valid pixels (false positives), but with numerous component images, there are enough unmasked pixels to produce a full coverage composite.\n",
    "\n",
    "Of the [available compositing algorithms](../api.rst#compositemethod), the *medoid* method is the most memory and computation intensive.  Computation scales roughly quadratically with the number of component images, so it is important to keep those to a necessary minimum.  The number of images returned by the search (i.e. 31) is low enough to produce a reasonably fast composite in this case.  Limiting the components to relatively cloud/shadow-free images, and aggressively masking these, helps improve the composite quality. "
   ]
  },
  {
   "cell_type": "code",
   "execution_count": 4,
   "metadata": {},
   "outputs": [
    {
     "data": {
      "text/html": [
       "\n",
       "            <style>\n",
       "                .geemap-dark {\n",
       "                    --jp-widgets-color: white;\n",
       "                    --jp-widgets-label-color: white;\n",
       "                    --jp-ui-font-color1: white;\n",
       "                    --jp-layout-color2: #454545;\n",
       "                    background-color: #383838;\n",
       "                }\n",
       "\n",
       "                .geemap-dark .jupyter-button {\n",
       "                    --jp-layout-color3: #383838;\n",
       "                }\n",
       "\n",
       "                .geemap-colab {\n",
       "                    background-color: var(--colab-primary-surface-color, white);\n",
       "                }\n",
       "\n",
       "                .geemap-colab .jupyter-button {\n",
       "                    --jp-layout-color3: var(--colab-primary-surface-color, white);\n",
       "                }\n",
       "            </style>\n",
       "            "
      ],
      "text/plain": [
       "<IPython.core.display.HTML object>"
      ]
     },
     "metadata": {},
     "output_type": "display_data"
    }
   ],
   "source": [
    "medoid_im = filt_coll.composite('medoid', score=score)"
   ]
  },
  {
   "cell_type": "markdown",
   "metadata": {},
   "source": [
    "### Visualise component and composite images\n",
    "\n",
    "Now we use `geemap` to display the first 4 component images, their cloud/shadow masks, and the *medoid* composite.  You can use the layer button in the top right hand corner to turn on/off the image layers.  The composite will take a few minutes to load.  \n",
    " \n",
    "<div class=\"alert alert-info\">\n",
    "\n",
    "Note\n",
    "\n",
    "You need to download and run the notebook to view the images.\n",
    "\n",
    "</div>"
   ]
  },
  {
   "cell_type": "code",
   "execution_count": 5,
   "metadata": {},
   "outputs": [
    {
     "data": {
      "text/html": [
       "\n",
       "            <style>\n",
       "                .geemap-dark {\n",
       "                    --jp-widgets-color: white;\n",
       "                    --jp-widgets-label-color: white;\n",
       "                    --jp-ui-font-color1: white;\n",
       "                    --jp-layout-color2: #454545;\n",
       "                    background-color: #383838;\n",
       "                }\n",
       "\n",
       "                .geemap-dark .jupyter-button {\n",
       "                    --jp-layout-color3: #383838;\n",
       "                }\n",
       "\n",
       "                .geemap-colab {\n",
       "                    background-color: var(--colab-primary-surface-color, white);\n",
       "                }\n",
       "\n",
       "                .geemap-colab .jupyter-button {\n",
       "                    --jp-layout-color3: var(--colab-primary-surface-color, white);\n",
       "                }\n",
       "            </style>\n",
       "            "
      ],
      "text/plain": [
       "<IPython.core.display.HTML object>"
      ]
     },
     "metadata": {},
     "output_type": "display_data"
    },
    {
     "data": {
      "text/html": [
       "<iframe srcdoc=\"&lt;!DOCTYPE html&gt;\n",
       "&lt;html&gt;\n",
       "&lt;head&gt;\n",
       "    \n",
       "    &lt;meta http-equiv=&quot;content-type&quot; content=&quot;text/html; charset=UTF-8&quot; /&gt;\n",
       "    \n",
       "        &lt;script&gt;\n",
       "            L_NO_TOUCH = false;\n",
       "            L_DISABLE_3D = false;\n",
       "        &lt;/script&gt;\n",
       "    \n",
       "    &lt;style&gt;html, body {width: 100%;height: 100%;margin: 0;padding: 0;}&lt;/style&gt;\n",
       "    &lt;style&gt;#map {position:absolute;top:0;bottom:0;right:0;left:0;}&lt;/style&gt;\n",
       "    &lt;script src=&quot;https://cdn.jsdelivr.net/npm/leaflet@1.9.3/dist/leaflet.js&quot;&gt;&lt;/script&gt;\n",
       "    &lt;script src=&quot;https://code.jquery.com/jquery-3.7.1.min.js&quot;&gt;&lt;/script&gt;\n",
       "    &lt;script src=&quot;https://cdn.jsdelivr.net/npm/bootstrap@5.2.2/dist/js/bootstrap.bundle.min.js&quot;&gt;&lt;/script&gt;\n",
       "    &lt;script src=&quot;https://cdnjs.cloudflare.com/ajax/libs/Leaflet.awesome-markers/2.0.2/leaflet.awesome-markers.js&quot;&gt;&lt;/script&gt;\n",
       "    &lt;link rel=&quot;stylesheet&quot; href=&quot;https://cdn.jsdelivr.net/npm/leaflet@1.9.3/dist/leaflet.css&quot;/&gt;\n",
       "    &lt;link rel=&quot;stylesheet&quot; href=&quot;https://cdn.jsdelivr.net/npm/bootstrap@5.2.2/dist/css/bootstrap.min.css&quot;/&gt;\n",
       "    &lt;link rel=&quot;stylesheet&quot; href=&quot;https://netdna.bootstrapcdn.com/bootstrap/3.0.0/css/bootstrap-glyphicons.css&quot;/&gt;\n",
       "    &lt;link rel=&quot;stylesheet&quot; href=&quot;https://cdn.jsdelivr.net/npm/@fortawesome/fontawesome-free@6.2.0/css/all.min.css&quot;/&gt;\n",
       "    &lt;link rel=&quot;stylesheet&quot; href=&quot;https://cdnjs.cloudflare.com/ajax/libs/Leaflet.awesome-markers/2.0.2/leaflet.awesome-markers.css&quot;/&gt;\n",
       "    &lt;link rel=&quot;stylesheet&quot; href=&quot;https://cdn.jsdelivr.net/gh/python-visualization/folium/folium/templates/leaflet.awesome.rotate.min.css&quot;/&gt;\n",
       "    \n",
       "            &lt;meta name=&quot;viewport&quot; content=&quot;width=device-width,\n",
       "                initial-scale=1.0, maximum-scale=1.0, user-scalable=no&quot; /&gt;\n",
       "            &lt;style&gt;\n",
       "                #map_a905fc679575ea90b636a48f8896e3a2 {\n",
       "                    position: relative;\n",
       "                    width: 100.0%;\n",
       "                    height: 100.0%;\n",
       "                    left: 0.0%;\n",
       "                    top: 0.0%;\n",
       "                }\n",
       "                .leaflet-container { font-size: 1rem; }\n",
       "            &lt;/style&gt;\n",
       "        \n",
       "    &lt;script src=&quot;https://cdn.jsdelivr.net/npm/leaflet.fullscreen@3.0.0/Control.FullScreen.min.js&quot;&gt;&lt;/script&gt;\n",
       "    &lt;link rel=&quot;stylesheet&quot; href=&quot;https://cdn.jsdelivr.net/npm/leaflet.fullscreen@3.0.0/Control.FullScreen.css&quot;/&gt;\n",
       "    &lt;script src=&quot;https://cdnjs.cloudflare.com/ajax/libs/leaflet.draw/1.0.2/leaflet.draw.js&quot;&gt;&lt;/script&gt;\n",
       "    &lt;link rel=&quot;stylesheet&quot; href=&quot;https://cdnjs.cloudflare.com/ajax/libs/leaflet.draw/1.0.2/leaflet.draw.css&quot;/&gt;\n",
       "    &lt;script src=&quot;https://unpkg.com/leaflet-control-geocoder/dist/Control.Geocoder.js&quot;&gt;&lt;/script&gt;\n",
       "    &lt;link rel=&quot;stylesheet&quot; href=&quot;https://unpkg.com/leaflet-control-geocoder/dist/Control.Geocoder.css&quot;/&gt;\n",
       "&lt;/head&gt;\n",
       "&lt;body&gt;\n",
       "    \n",
       "    \n",
       "            &lt;div class=&quot;folium-map&quot; id=&quot;map_a905fc679575ea90b636a48f8896e3a2&quot; &gt;&lt;/div&gt;\n",
       "        \n",
       "&lt;/body&gt;\n",
       "&lt;script&gt;\n",
       "    \n",
       "    \n",
       "            var map_a905fc679575ea90b636a48f8896e3a2 = L.map(\n",
       "                &quot;map_a905fc679575ea90b636a48f8896e3a2&quot;,\n",
       "                {\n",
       "                    center: [20.0, 0.0],\n",
       "                    crs: L.CRS.EPSG3857,\n",
       "                    zoom: 2,\n",
       "                    zoomControl: true,\n",
       "                    preferCanvas: false,\n",
       "                    eeInitialize: true,\n",
       "                    addGoogleMap: false,\n",
       "                    pluginLatlngpopup: false,\n",
       "                    pluginFullscreen: true,\n",
       "                    pluginDraw: true,\n",
       "                    DrawExport: false,\n",
       "                    pluginMinimap: false,\n",
       "                    locateControl: false,\n",
       "                    searchControl: true,\n",
       "                    layersControl: true,\n",
       "                }\n",
       "            );\n",
       "\n",
       "            \n",
       "\n",
       "        \n",
       "    \n",
       "            var tile_layer_19c2299df625b7ca959e431df3a39de4 = L.tileLayer(\n",
       "                &quot;https://tile.openstreetmap.org/{z}/{x}/{y}.png&quot;,\n",
       "                {&quot;attribution&quot;: &quot;\\u0026copy; \\u003ca href=\\&quot;https://www.openstreetmap.org/copyright\\&quot;\\u003eOpenStreetMap\\u003c/a\\u003e contributors&quot;, &quot;detectRetina&quot;: false, &quot;maxNativeZoom&quot;: 19, &quot;maxZoom&quot;: 30, &quot;minZoom&quot;: 0, &quot;noWrap&quot;: false, &quot;opacity&quot;: 1, &quot;subdomains&quot;: &quot;abc&quot;, &quot;tms&quot;: false}\n",
       "            );\n",
       "        \n",
       "    \n",
       "            tile_layer_19c2299df625b7ca959e431df3a39de4.addTo(map_a905fc679575ea90b636a48f8896e3a2);\n",
       "        \n",
       "    \n",
       "            L.control.fullscreen(\n",
       "                {&quot;forceSeparateButton&quot;: false, &quot;position&quot;: &quot;topleft&quot;, &quot;title&quot;: &quot;Full Screen&quot;, &quot;titleCancel&quot;: &quot;Exit Full Screen&quot;}\n",
       "            ).addTo(map_a905fc679575ea90b636a48f8896e3a2);\n",
       "        \n",
       "    \n",
       "            var options = {\n",
       "              position: &quot;topleft&quot;,\n",
       "              draw: {},\n",
       "              edit: {},\n",
       "            }\n",
       "            // FeatureGroup is to store editable layers.\n",
       "            var drawnItems_draw_control_feb86f962689b33af1ef5bd53110b065 = new L.featureGroup().addTo(\n",
       "                map_a905fc679575ea90b636a48f8896e3a2\n",
       "            );\n",
       "            options.edit.featureGroup = drawnItems_draw_control_feb86f962689b33af1ef5bd53110b065;\n",
       "            var draw_control_feb86f962689b33af1ef5bd53110b065 = new L.Control.Draw(\n",
       "                options\n",
       "            ).addTo( map_a905fc679575ea90b636a48f8896e3a2 );\n",
       "            map_a905fc679575ea90b636a48f8896e3a2.on(L.Draw.Event.CREATED, function(e) {\n",
       "                var layer = e.layer,\n",
       "                    type = e.layerType;\n",
       "                var coords = JSON.stringify(layer.toGeoJSON());\n",
       "                layer.on(&#x27;click&#x27;, function() {\n",
       "                    alert(coords);\n",
       "                    console.log(coords);\n",
       "                });\n",
       "                drawnItems_draw_control_feb86f962689b33af1ef5bd53110b065.addLayer(layer);\n",
       "             });\n",
       "            map_a905fc679575ea90b636a48f8896e3a2.on(&#x27;draw:created&#x27;, function(e) {\n",
       "                drawnItems_draw_control_feb86f962689b33af1ef5bd53110b065.addLayer(e.layer);\n",
       "            });\n",
       "            \n",
       "        \n",
       "    \n",
       "\n",
       "            var geocoderOpts_geocoder_f69bf9aff79e79757fc34b2194544728 = {&quot;collapsed&quot;: true, &quot;defaultMarkGeocode&quot;: true, &quot;position&quot;: &quot;topleft&quot;, &quot;provider&quot;: &quot;nominatim&quot;, &quot;providerOptions&quot;: {}, &quot;zoom&quot;: 11};\n",
       "\n",
       "            // note: geocoder name should start with lowercase\n",
       "            var geocoderName_geocoder_f69bf9aff79e79757fc34b2194544728 = geocoderOpts_geocoder_f69bf9aff79e79757fc34b2194544728[&quot;provider&quot;];\n",
       "\n",
       "            var customGeocoder_geocoder_f69bf9aff79e79757fc34b2194544728 = L.Control.Geocoder[ geocoderName_geocoder_f69bf9aff79e79757fc34b2194544728 ](\n",
       "                geocoderOpts_geocoder_f69bf9aff79e79757fc34b2194544728[&#x27;providerOptions&#x27;]\n",
       "            );\n",
       "            geocoderOpts_geocoder_f69bf9aff79e79757fc34b2194544728[&quot;geocoder&quot;] = customGeocoder_geocoder_f69bf9aff79e79757fc34b2194544728;\n",
       "\n",
       "            L.Control.geocoder(\n",
       "                geocoderOpts_geocoder_f69bf9aff79e79757fc34b2194544728\n",
       "            ).on(&#x27;markgeocode&#x27;, function(e) {\n",
       "                var zoom = geocoderOpts_geocoder_f69bf9aff79e79757fc34b2194544728[&#x27;zoom&#x27;] || map_a905fc679575ea90b636a48f8896e3a2.getZoom();\n",
       "                map_a905fc679575ea90b636a48f8896e3a2.setView(e.geocode.center, zoom);\n",
       "            }).addTo(map_a905fc679575ea90b636a48f8896e3a2);\n",
       "\n",
       "        \n",
       "    \n",
       "            map_a905fc679575ea90b636a48f8896e3a2.fitBounds(\n",
       "                [[20, 0], [20, 0]],\n",
       "                {&quot;maxZoom&quot;: 2}\n",
       "            );\n",
       "        \n",
       "    \n",
       "            map_a905fc679575ea90b636a48f8896e3a2.fitBounds(\n",
       "                [[5.625020180468233, -0.18499999999965613], [5.625020180468233, -0.18499999999965613]],\n",
       "                {&quot;maxZoom&quot;: 11}\n",
       "            );\n",
       "        \n",
       "    \n",
       "            var tile_layer_1183d6d9058aa862c2fa8056ee33a10a = L.tileLayer(\n",
       "                &quot;https://earthengine-highvolume.googleapis.com/v1/projects/thicket-agc-interface/maps/973dadaadd7029f606897d283eb4b697-d6d91e6d8064f5acd85a60af25cbef07/tiles/{z}/{x}/{y}&quot;,\n",
       "                {&quot;attribution&quot;: &quot;Google Earth Engine&quot;, &quot;detectRetina&quot;: false, &quot;maxZoom&quot;: 24, &quot;minZoom&quot;: 0, &quot;noWrap&quot;: false, &quot;opacity&quot;: 1.0, &quot;subdomains&quot;: &quot;abc&quot;, &quot;tms&quot;: false}\n",
       "            );\n",
       "        \n",
       "    \n",
       "            tile_layer_1183d6d9058aa862c2fa8056ee33a10a.addTo(map_a905fc679575ea90b636a48f8896e3a2);\n",
       "        \n",
       "    \n",
       "            var tile_layer_fa2dd7387955f9ddb517d76bb18d444f = L.tileLayer(\n",
       "                &quot;https://earthengine-highvolume.googleapis.com/v1/projects/thicket-agc-interface/maps/fe8a25081888150da278af44b5d233f7-78cc93787b3d58d3b7c8b23b2e7c7103/tiles/{z}/{x}/{y}&quot;,\n",
       "                {&quot;attribution&quot;: &quot;Google Earth Engine&quot;, &quot;detectRetina&quot;: false, &quot;maxZoom&quot;: 24, &quot;minZoom&quot;: 0, &quot;noWrap&quot;: false, &quot;opacity&quot;: 1.0, &quot;subdomains&quot;: &quot;abc&quot;, &quot;tms&quot;: false}\n",
       "            );\n",
       "        \n",
       "    \n",
       "            tile_layer_fa2dd7387955f9ddb517d76bb18d444f.addTo(map_a905fc679575ea90b636a48f8896e3a2);\n",
       "        \n",
       "    \n",
       "            var tile_layer_c7286c268810acb6e143f68cbcb20ab7 = L.tileLayer(\n",
       "                &quot;https://earthengine-highvolume.googleapis.com/v1/projects/thicket-agc-interface/maps/03e923775d9f49304d508fbf4b945f78-1cdb7b5c3bb86f6bf2c6dc0c8512af62/tiles/{z}/{x}/{y}&quot;,\n",
       "                {&quot;attribution&quot;: &quot;Google Earth Engine&quot;, &quot;detectRetina&quot;: false, &quot;maxZoom&quot;: 24, &quot;minZoom&quot;: 0, &quot;noWrap&quot;: false, &quot;opacity&quot;: 1.0, &quot;subdomains&quot;: &quot;abc&quot;, &quot;tms&quot;: false}\n",
       "            );\n",
       "        \n",
       "    \n",
       "            tile_layer_c7286c268810acb6e143f68cbcb20ab7.addTo(map_a905fc679575ea90b636a48f8896e3a2);\n",
       "        \n",
       "    \n",
       "            var tile_layer_8894eebb1a1c45c7064ad7ae843a2d0c = L.tileLayer(\n",
       "                &quot;https://earthengine-highvolume.googleapis.com/v1/projects/thicket-agc-interface/maps/01cc09093547a8cc1d952e2827b531ed-2291b5e0771fe6c05bc629f04f705748/tiles/{z}/{x}/{y}&quot;,\n",
       "                {&quot;attribution&quot;: &quot;Google Earth Engine&quot;, &quot;detectRetina&quot;: false, &quot;maxZoom&quot;: 24, &quot;minZoom&quot;: 0, &quot;noWrap&quot;: false, &quot;opacity&quot;: 1.0, &quot;subdomains&quot;: &quot;abc&quot;, &quot;tms&quot;: false}\n",
       "            );\n",
       "        \n",
       "    \n",
       "            tile_layer_8894eebb1a1c45c7064ad7ae843a2d0c.addTo(map_a905fc679575ea90b636a48f8896e3a2);\n",
       "        \n",
       "    \n",
       "            var tile_layer_13ef8e4397346e87b13f76977c69efe4 = L.tileLayer(\n",
       "                &quot;https://earthengine-highvolume.googleapis.com/v1/projects/thicket-agc-interface/maps/9162cebd0acb94bf133c35d5631ee440-3adfc3d5d2d25e0af8f145c82492b37b/tiles/{z}/{x}/{y}&quot;,\n",
       "                {&quot;attribution&quot;: &quot;Google Earth Engine&quot;, &quot;detectRetina&quot;: false, &quot;maxZoom&quot;: 24, &quot;minZoom&quot;: 0, &quot;noWrap&quot;: false, &quot;opacity&quot;: 1.0, &quot;subdomains&quot;: &quot;abc&quot;, &quot;tms&quot;: false}\n",
       "            );\n",
       "        \n",
       "    \n",
       "            tile_layer_13ef8e4397346e87b13f76977c69efe4.addTo(map_a905fc679575ea90b636a48f8896e3a2);\n",
       "        \n",
       "    \n",
       "            var tile_layer_32e5db95dbf506a232abe390a5486737 = L.tileLayer(\n",
       "                &quot;https://earthengine-highvolume.googleapis.com/v1/projects/thicket-agc-interface/maps/a61f55adccf057a5a33df43bb1455a67-a2d26ddcf06fd3339a76901e0c3d0e08/tiles/{z}/{x}/{y}&quot;,\n",
       "                {&quot;attribution&quot;: &quot;Google Earth Engine&quot;, &quot;detectRetina&quot;: false, &quot;maxZoom&quot;: 24, &quot;minZoom&quot;: 0, &quot;noWrap&quot;: false, &quot;opacity&quot;: 1.0, &quot;subdomains&quot;: &quot;abc&quot;, &quot;tms&quot;: false}\n",
       "            );\n",
       "        \n",
       "    \n",
       "            tile_layer_32e5db95dbf506a232abe390a5486737.addTo(map_a905fc679575ea90b636a48f8896e3a2);\n",
       "        \n",
       "    \n",
       "            var tile_layer_aa5896228abb3b8a379849923bc16daf = L.tileLayer(\n",
       "                &quot;https://earthengine-highvolume.googleapis.com/v1/projects/thicket-agc-interface/maps/d1b81566c508afc80538ea190e31f560-235591725476c66c61d8637b58dd2bd2/tiles/{z}/{x}/{y}&quot;,\n",
       "                {&quot;attribution&quot;: &quot;Google Earth Engine&quot;, &quot;detectRetina&quot;: false, &quot;maxZoom&quot;: 24, &quot;minZoom&quot;: 0, &quot;noWrap&quot;: false, &quot;opacity&quot;: 1.0, &quot;subdomains&quot;: &quot;abc&quot;, &quot;tms&quot;: false}\n",
       "            );\n",
       "        \n",
       "    \n",
       "            tile_layer_aa5896228abb3b8a379849923bc16daf.addTo(map_a905fc679575ea90b636a48f8896e3a2);\n",
       "        \n",
       "    \n",
       "            var tile_layer_f5fc474d9986b4590d5770a9cfc3ff13 = L.tileLayer(\n",
       "                &quot;https://earthengine-highvolume.googleapis.com/v1/projects/thicket-agc-interface/maps/872a3d579f8b9ad20e7498bead7a3d35-70f7719c0a4fa6f8efe291744ca4d815/tiles/{z}/{x}/{y}&quot;,\n",
       "                {&quot;attribution&quot;: &quot;Google Earth Engine&quot;, &quot;detectRetina&quot;: false, &quot;maxZoom&quot;: 24, &quot;minZoom&quot;: 0, &quot;noWrap&quot;: false, &quot;opacity&quot;: 1.0, &quot;subdomains&quot;: &quot;abc&quot;, &quot;tms&quot;: false}\n",
       "            );\n",
       "        \n",
       "    \n",
       "            tile_layer_f5fc474d9986b4590d5770a9cfc3ff13.addTo(map_a905fc679575ea90b636a48f8896e3a2);\n",
       "        \n",
       "    \n",
       "            var tile_layer_a4c40fc2503054d3301dc0e14dc860ef = L.tileLayer(\n",
       "                &quot;https://earthengine-highvolume.googleapis.com/v1/projects/thicket-agc-interface/maps/c87cd8eb3b1ed4163c8e97f2d01f0843-1d00eb1ca05fb9e3b33ba94c8745d06f/tiles/{z}/{x}/{y}&quot;,\n",
       "                {&quot;attribution&quot;: &quot;Google Earth Engine&quot;, &quot;detectRetina&quot;: false, &quot;maxZoom&quot;: 24, &quot;minZoom&quot;: 0, &quot;noWrap&quot;: false, &quot;opacity&quot;: 1.0, &quot;subdomains&quot;: &quot;abc&quot;, &quot;tms&quot;: false}\n",
       "            );\n",
       "        \n",
       "    \n",
       "            tile_layer_a4c40fc2503054d3301dc0e14dc860ef.addTo(map_a905fc679575ea90b636a48f8896e3a2);\n",
       "        \n",
       "    \n",
       "            var tile_layer_f694184f43c1a1ee4f5a63a176e5194b = L.tileLayer(\n",
       "                &quot;https://earthengine-highvolume.googleapis.com/v1/projects/thicket-agc-interface/maps/2421e39486f183cf04906f7bdd456d9e-9bd726577edb70c3e51c8fcb08f21327/tiles/{z}/{x}/{y}&quot;,\n",
       "                {&quot;attribution&quot;: &quot;Google Earth Engine&quot;, &quot;detectRetina&quot;: false, &quot;maxZoom&quot;: 24, &quot;minZoom&quot;: 0, &quot;noWrap&quot;: false, &quot;opacity&quot;: 1.0, &quot;subdomains&quot;: &quot;abc&quot;, &quot;tms&quot;: false}\n",
       "            );\n",
       "        \n",
       "    \n",
       "            tile_layer_f694184f43c1a1ee4f5a63a176e5194b.addTo(map_a905fc679575ea90b636a48f8896e3a2);\n",
       "        \n",
       "    \n",
       "            var layer_control_8f98cceb17ce01c54d2d3345f3aff6f4_layers = {\n",
       "                base_layers : {\n",
       "                    &quot;openstreetmap&quot; : tile_layer_19c2299df625b7ca959e431df3a39de4,\n",
       "                },\n",
       "                overlays :  {\n",
       "                    &quot;Image 20190109T101409_20190109T102253_T30NYM&quot; : tile_layer_1183d6d9058aa862c2fa8056ee33a10a,\n",
       "                    &quot;Cl mask 20190109T101409_20190109T102253_T30NYM&quot; : tile_layer_fa2dd7387955f9ddb517d76bb18d444f,\n",
       "                    &quot;Image 20190122T102329_20190122T103839_T30NZM&quot; : tile_layer_c7286c268810acb6e143f68cbcb20ab7,\n",
       "                    &quot;Cl mask 20190122T102329_20190122T103839_T30NZM&quot; : tile_layer_8894eebb1a1c45c7064ad7ae843a2d0c,\n",
       "                    &quot;Image 20190122T102329_20190122T103839_T30NYM&quot; : tile_layer_13ef8e4397346e87b13f76977c69efe4,\n",
       "                    &quot;Cl mask 20190122T102329_20190122T103839_T30NYM&quot; : tile_layer_32e5db95dbf506a232abe390a5486737,\n",
       "                    &quot;Image 20190129T101259_20190129T102648_T30NZM&quot; : tile_layer_aa5896228abb3b8a379849923bc16daf,\n",
       "                    &quot;Cl mask 20190129T101259_20190129T102648_T30NZM&quot; : tile_layer_f5fc474d9986b4590d5770a9cfc3ff13,\n",
       "                    &quot;Medoid composite&quot; : tile_layer_a4c40fc2503054d3301dc0e14dc860ef,\n",
       "                    &quot;Region&quot; : tile_layer_f694184f43c1a1ee4f5a63a176e5194b,\n",
       "                },\n",
       "            };\n",
       "            let layer_control_8f98cceb17ce01c54d2d3345f3aff6f4 = L.control.layers(\n",
       "                layer_control_8f98cceb17ce01c54d2d3345f3aff6f4_layers.base_layers,\n",
       "                layer_control_8f98cceb17ce01c54d2d3345f3aff6f4_layers.overlays,\n",
       "                {&quot;autoZIndex&quot;: true, &quot;collapsed&quot;: true, &quot;position&quot;: &quot;topright&quot;}\n",
       "            ).addTo(map_a905fc679575ea90b636a48f8896e3a2);\n",
       "\n",
       "        \n",
       "&lt;/script&gt;\n",
       "&lt;/html&gt;\" width=\"100%\" height=\"600\"style=\"border:none !important;\" \"allowfullscreen\" \"webkitallowfullscreen\" \"mozallowfullscreen\"></iframe>"
      ],
      "text/plain": [
       "<geemap.foliumap.Map at 0x1c0c18e7a10>"
      ]
     },
     "execution_count": 5,
     "metadata": {},
     "output_type": "execute_result"
    }
   ],
   "source": [
    "# geemap visualisation parameters\n",
    "s2_vis_params = dict(min=0, max=4000, bands=['B4', 'B3', 'B2'], gamma=1.5)\n",
    "mask_vis_params = dict(min=0, max=1)\n",
    "\n",
    "map = geemap.Map()\n",
    "map.centerObject(ee.Geometry(region), 11)\n",
    "\n",
    "# iterate over the first 4 component image ID's\n",
    "for im_id in list(filt_coll.properties.keys())[:4]:\n",
    "    # create image and mask, and add to map\n",
    "    im = gd.MaskedImage.from_id(im_id, score=score)\n",
    "    vis_image = im.ee_image.clip(region)\n",
    "    cloudless_mask = vis_image.select('CLOUDLESS_MASK')\n",
    "\n",
    "    map.addLayer(vis_image, s2_vis_params, f'Image {im_id[-38:]}')\n",
    "    map.addLayer(cloudless_mask, mask_vis_params, f'Cl mask {im_id[-38:]}')\n",
    "\n",
    "# add the composite & region outline\n",
    "map.addLayer(medoid_im.ee_image.clip(region), s2_vis_params, 'Medoid composite')\n",
    "region_im = ee.FeatureCollection(ee.Geometry(region)).style(\n",
    "    color='red', width=2, lineType='solid', fillColor='00000000'\n",
    ")\n",
    "map.addLayer(region_im, {}, 'Region')\n",
    "\n",
    "map"
   ]
  },
  {
   "cell_type": "markdown",
   "metadata": {},
   "source": [
    "### Download\n",
    "\n",
    "Here we download the composite image directly.  `crs`, `scale` and `region` parameters must be specified, as the composite has no fixed projection.  Computation of the *medoid* composite is memory intensive, so we specify a `max_tile_size` of 16MB.  Without this, the download would exceed the [user memory limit](../api.rst#computed-images-and-user-memory).  "
   ]
  },
  {
   "cell_type": "code",
   "execution_count": 6,
   "metadata": {},
   "outputs": [
    {
     "data": {
      "text/html": [
       "\n",
       "            <style>\n",
       "                .geemap-dark {\n",
       "                    --jp-widgets-color: white;\n",
       "                    --jp-widgets-label-color: white;\n",
       "                    --jp-ui-font-color1: white;\n",
       "                    --jp-layout-color2: #454545;\n",
       "                    background-color: #383838;\n",
       "                }\n",
       "\n",
       "                .geemap-dark .jupyter-button {\n",
       "                    --jp-layout-color3: #383838;\n",
       "                }\n",
       "\n",
       "                .geemap-colab {\n",
       "                    background-color: var(--colab-primary-surface-color, white);\n",
       "                }\n",
       "\n",
       "                .geemap-colab .jupyter-button {\n",
       "                    --jp-layout-color3: var(--colab-primary-surface-color, white);\n",
       "                }\n",
       "            </style>\n",
       "            "
      ],
      "text/plain": [
       "<IPython.core.display.HTML object>"
      ]
     },
     "metadata": {},
     "output_type": "display_data"
    },
    {
     "data": {
      "application/vnd.jupyter.widget-view+json": {
       "model_id": "cf6b7c5f07b544d8b88a68623c4e043c",
       "version_major": 2,
       "version_minor": 0
      },
      "text/plain": [
       "s2_medoid_im.tif: |                                                                                  | 0.00/95…"
      ]
     },
     "metadata": {},
     "output_type": "display_data"
    }
   ],
   "source": [
    "medoid_im.download(\n",
    "    's2_medoid_im.tif',\n",
    "    region=region,\n",
    "    crs='EPSG:32735',\n",
    "    scale=10,\n",
    "    dtype='uint16',\n",
    "    max_tile_size=16,\n",
    "    overwrite=True,\n",
    ")\n",
    "\n",
    "# !geedim config --score 0.7 search -c s2-sr-hm -s 2019-01-01 -e 2020-01-01 --bbox -0.37 5.5 -0.0 5.75 -cf \"CLOUDY_PIXEL_PERCENTAGE<40\" -cp 40 -fp 30 composite -cm medoid download --crs EPSG:32735 --scale 10 --dtype uint16 --max-tile-size 16 -o"
   ]
  },
  {
   "cell_type": "markdown",
   "metadata": {},
   "source": [
    "### Export\n",
    "\n",
    "Lastly we demonstrate an alternative to the [direct download approach](#Download) i.e. we export the composite image to an Earth Engine asset, and then download the computed asset image.  Exporting is not subject to the user memory limit, and once computed, the asset image can be downloaded without the need for reducing `max_tile_size`.  Bear in mind that exporting is usually slower than downloading, and exported GeoTIFFs can not be populated with [STAC metadata](../api.rst#image-metadata). "
   ]
  },
  {
   "cell_type": "code",
   "execution_count": 7,
   "metadata": {},
   "outputs": [
    {
     "data": {
      "text/html": [
       "\n",
       "            <style>\n",
       "                .geemap-dark {\n",
       "                    --jp-widgets-color: white;\n",
       "                    --jp-widgets-label-color: white;\n",
       "                    --jp-ui-font-color1: white;\n",
       "                    --jp-layout-color2: #454545;\n",
       "                    background-color: #383838;\n",
       "                }\n",
       "\n",
       "                .geemap-dark .jupyter-button {\n",
       "                    --jp-layout-color3: #383838;\n",
       "                }\n",
       "\n",
       "                .geemap-colab {\n",
       "                    background-color: var(--colab-primary-surface-color, white);\n",
       "                }\n",
       "\n",
       "                .geemap-colab .jupyter-button {\n",
       "                    --jp-layout-color3: var(--colab-primary-surface-color, white);\n",
       "                }\n",
       "            </style>\n",
       "            "
      ],
      "text/plain": [
       "<IPython.core.display.HTML object>"
      ]
     },
     "metadata": {},
     "output_type": "display_data"
    },
    {
     "name": "stderr",
     "output_type": "stream",
     "text": [
      "Preparing projects-geedim-assets-s2_medoid_im: done \n"
     ]
    },
    {
     "data": {
      "application/vnd.jupyter.widget-view+json": {
       "model_id": "301e43fd790e452f95d4a2c292cc581d",
       "version_major": 2,
       "version_minor": 0
      },
      "text/plain": [
       "Exporting projects-geedim-assets-s2_medoid_im: |                                                              …"
      ]
     },
     "metadata": {},
     "output_type": "display_data"
    },
    {
     "data": {
      "application/vnd.jupyter.widget-view+json": {
       "model_id": "6897300e215543179d7304aa03fa7762",
       "version_major": 2,
       "version_minor": 0
      },
      "text/plain": [
       "s2_medoid_im.tif: |                                                                                  | 0.00/95…"
      ]
     },
     "metadata": {},
     "output_type": "display_data"
    },
    {
     "name": "stderr",
     "output_type": "stream",
     "text": [
      "There is no STAC entry for: projects/geedim/assets/s2_medoid_im\n"
     ]
    }
   ],
   "source": [
    "# 'geedim' is the name of a valid Earth Engine cloud project\n",
    "medoid_asset_id = f'projects/geedim/assets/s2_medoid_im'\n",
    "\n",
    "# export to earth engine asset\n",
    "medoid_task = medoid_im.export(\n",
    "    medoid_asset_id,\n",
    "    type='asset',\n",
    "    region=region,\n",
    "    crs='EPSG:32735',\n",
    "    scale=10,\n",
    "    dtype='uint16',\n",
    "    wait=True,\n",
    ")\n",
    "\n",
    "# create a MaskedImage from the earth engine asset\n",
    "medoid_asset_im = gd.MaskedImage.from_id(medoid_asset_id)\n",
    "# download asset image\n",
    "medoid_asset_im.download('s2_medoid_im.tif', overwrite=True)\n",
    "\n",
    "# !geedim config --score 0.7 search -c s2-sr-hm -s 2019-01-01 -e 2020-01-01 --bbox -0.37 5.5 -0.0 5.75 -cf \"CLOUDY_PIXEL_PERCENTAGE<40\" -cp 40 -fp 30 composite -cm medoid export -t asset -f geedim --crs EPSG:32735 --scale 10 --dtype uint16 download -o"
   ]
  },
  {
   "cell_type": "code",
   "execution_count": null,
   "metadata": {},
   "outputs": [],
   "source": []
  }
 ],
 "metadata": {
  "kernelspec": {
   "display_name": "Python 3 (ipykernel)",
   "language": "python",
   "name": "python3"
  },
  "language_info": {
   "codemirror_mode": {
    "name": "ipython",
    "version": 3
   },
   "file_extension": ".py",
   "mimetype": "text/x-python",
   "name": "python",
   "nbconvert_exporter": "python",
   "pygments_lexer": "ipython3",
   "version": "3.11.10"
  },
  "widgets": {
   "application/vnd.jupyter.widget-state+json": {
    "state": {
     "01ecf4378b4b4b0fb29a14658f99beb3": {
      "model_module": "@jupyter-widgets/controls",
      "model_module_version": "2.0.0",
      "model_name": "HTMLModel",
      "state": {
       "layout": "IPY_MODEL_674b3649c1e6436b8edc8c05ff258501",
       "style": "IPY_MODEL_3667ab5e430547f9b31c2ee52535f581",
       "value": " 951M/951M (raw) [100.0%] in 05:02 (eta: 00:00)"
      }
     },
     "049bf7b2e1de407f88ab241929e22040": {
      "model_module": "@jupyter-widgets/base",
      "model_module_version": "2.0.0",
      "model_name": "LayoutModel",
      "state": {}
     },
     "0eaf25cc9cc44ef8b5dece631dc6610d": {
      "model_module": "@jupyter-widgets/controls",
      "model_module_version": "2.0.0",
      "model_name": "HTMLStyleModel",
      "state": {
       "description_width": "",
       "font_size": null,
       "text_color": null
      }
     },
     "13ac73ae52d54990bb94b7d22905d3cf": {
      "model_module": "@jupyter-widgets/base",
      "model_module_version": "2.0.0",
      "model_name": "LayoutModel",
      "state": {
       "display": "inline-flex",
       "flex_flow": "row wrap",
       "width": "100%"
      }
     },
     "1caa0f5a71884b519b04fd02812fdc95": {
      "model_module": "@jupyter-widgets/controls",
      "model_module_version": "2.0.0",
      "model_name": "HTMLModel",
      "state": {
       "layout": "IPY_MODEL_e152f7a76d1540d196a73b5488fb1402",
       "style": "IPY_MODEL_44cd860741e44c29b1e11c92981a272c",
       "value": "s2_medoid_im.tif: "
      }
     },
     "1f9e769e958649e69f535c4d3fd3ce07": {
      "model_module": "@jupyter-widgets/controls",
      "model_module_version": "2.0.0",
      "model_name": "FloatProgressModel",
      "state": {
       "bar_style": "success",
       "layout": "IPY_MODEL_22a4fb3910824515bcf76c469736eadc",
       "max": 951960960,
       "style": "IPY_MODEL_80fc41fa1eed4c88937d8f49407b5fce",
       "value": 951960960
      }
     },
     "21b4db4829614d6f90c8b3eec3159219": {
      "model_module": "@jupyter-widgets/controls",
      "model_module_version": "2.0.0",
      "model_name": "HTMLModel",
      "state": {
       "layout": "IPY_MODEL_b82b7f2a039d45eebd835afe5899d9a8",
       "style": "IPY_MODEL_3a9a660591b9471d9070bc87694110d9",
       "value": "Exporting projects-geedim-assets-s2_medoid_im: "
      }
     },
     "22a4fb3910824515bcf76c469736eadc": {
      "model_module": "@jupyter-widgets/base",
      "model_module_version": "2.0.0",
      "model_name": "LayoutModel",
      "state": {
       "flex": "2"
      }
     },
     "24bbca7e1bbb49529e37bd17b5fce31d": {
      "model_module": "@jupyter-widgets/controls",
      "model_module_version": "2.0.0",
      "model_name": "FloatProgressModel",
      "state": {
       "bar_style": "success",
       "layout": "IPY_MODEL_fe127ad56a3f4a92b195005eea65a1d4",
       "max": 951190200,
       "style": "IPY_MODEL_44676ea84d7447adb354fc51110ba497",
       "value": 951190200
      }
     },
     "301e43fd790e452f95d4a2c292cc581d": {
      "model_module": "@jupyter-widgets/controls",
      "model_module_version": "2.0.0",
      "model_name": "HBoxModel",
      "state": {
       "children": [
        "IPY_MODEL_21b4db4829614d6f90c8b3eec3159219",
        "IPY_MODEL_4f8dc48ab4db4ddc94d531d2cab7acbf",
        "IPY_MODEL_e9fd312b7a6a4153a7cc5181228a92c5"
       ],
       "layout": "IPY_MODEL_ff897a0e491f400187a7ddded1d876f1"
      }
     },
     "3667ab5e430547f9b31c2ee52535f581": {
      "model_module": "@jupyter-widgets/controls",
      "model_module_version": "2.0.0",
      "model_name": "HTMLStyleModel",
      "state": {
       "description_width": "",
       "font_size": null,
       "text_color": null
      }
     },
     "3a9a660591b9471d9070bc87694110d9": {
      "model_module": "@jupyter-widgets/controls",
      "model_module_version": "2.0.0",
      "model_name": "HTMLStyleModel",
      "state": {
       "description_width": "",
       "font_size": null,
       "text_color": null
      }
     },
     "44676ea84d7447adb354fc51110ba497": {
      "model_module": "@jupyter-widgets/controls",
      "model_module_version": "2.0.0",
      "model_name": "ProgressStyleModel",
      "state": {
       "description_width": ""
      }
     },
     "44cd860741e44c29b1e11c92981a272c": {
      "model_module": "@jupyter-widgets/controls",
      "model_module_version": "2.0.0",
      "model_name": "HTMLStyleModel",
      "state": {
       "description_width": "",
       "font_size": null,
       "text_color": null
      }
     },
     "483c2177185945ffba384700354b6b0e": {
      "model_module": "@jupyter-widgets/base",
      "model_module_version": "2.0.0",
      "model_name": "LayoutModel",
      "state": {
       "flex": "2"
      }
     },
     "4f8dc48ab4db4ddc94d531d2cab7acbf": {
      "model_module": "@jupyter-widgets/controls",
      "model_module_version": "2.0.0",
      "model_name": "FloatProgressModel",
      "state": {
       "bar_style": "success",
       "layout": "IPY_MODEL_483c2177185945ffba384700354b6b0e",
       "max": 1,
       "style": "IPY_MODEL_71f4d517261b4d579be047689519518a",
       "value": 1
      }
     },
     "5441ac7675934f4f949cd2aa897d1d75": {
      "model_module": "@jupyter-widgets/controls",
      "model_module_version": "2.0.0",
      "model_name": "HTMLStyleModel",
      "state": {
       "description_width": "",
       "font_size": null,
       "text_color": null
      }
     },
     "5bc98b69c7ea4445b89fcb755dea34e4": {
      "model_module": "@jupyter-widgets/base",
      "model_module_version": "2.0.0",
      "model_name": "LayoutModel",
      "state": {
       "display": "inline-flex",
       "flex_flow": "row wrap",
       "width": "100%"
      }
     },
     "674b3649c1e6436b8edc8c05ff258501": {
      "model_module": "@jupyter-widgets/base",
      "model_module_version": "2.0.0",
      "model_name": "LayoutModel",
      "state": {}
     },
     "6897300e215543179d7304aa03fa7762": {
      "model_module": "@jupyter-widgets/controls",
      "model_module_version": "2.0.0",
      "model_name": "HBoxModel",
      "state": {
       "children": [
        "IPY_MODEL_e6f61f7dfe6b4d619541ec709203af7f",
        "IPY_MODEL_1f9e769e958649e69f535c4d3fd3ce07",
        "IPY_MODEL_fef9369704994ea79cc849580c64f37e"
       ],
       "layout": "IPY_MODEL_13ac73ae52d54990bb94b7d22905d3cf"
      }
     },
     "71f4d517261b4d579be047689519518a": {
      "model_module": "@jupyter-widgets/controls",
      "model_module_version": "2.0.0",
      "model_name": "ProgressStyleModel",
      "state": {
       "description_width": ""
      }
     },
     "80fc41fa1eed4c88937d8f49407b5fce": {
      "model_module": "@jupyter-widgets/controls",
      "model_module_version": "2.0.0",
      "model_name": "ProgressStyleModel",
      "state": {
       "description_width": ""
      }
     },
     "9a85c2aa3f8a43f68817b56e522737d6": {
      "model_module": "@jupyter-widgets/base",
      "model_module_version": "2.0.0",
      "model_name": "LayoutModel",
      "state": {}
     },
     "a511cbc42c5647e380b53b388048a16d": {
      "model_module": "@jupyter-widgets/controls",
      "model_module_version": "2.0.0",
      "model_name": "HTMLStyleModel",
      "state": {
       "description_width": "",
       "font_size": null,
       "text_color": null
      }
     },
     "b82b7f2a039d45eebd835afe5899d9a8": {
      "model_module": "@jupyter-widgets/base",
      "model_module_version": "2.0.0",
      "model_name": "LayoutModel",
      "state": {}
     },
     "cf6b7c5f07b544d8b88a68623c4e043c": {
      "model_module": "@jupyter-widgets/controls",
      "model_module_version": "2.0.0",
      "model_name": "HBoxModel",
      "state": {
       "children": [
        "IPY_MODEL_1caa0f5a71884b519b04fd02812fdc95",
        "IPY_MODEL_24bbca7e1bbb49529e37bd17b5fce31d",
        "IPY_MODEL_01ecf4378b4b4b0fb29a14658f99beb3"
       ],
       "layout": "IPY_MODEL_5bc98b69c7ea4445b89fcb755dea34e4"
      }
     },
     "e00a0ffe3cdf41d9b9bde7e0e9df5a73": {
      "model_module": "@jupyter-widgets/base",
      "model_module_version": "2.0.0",
      "model_name": "LayoutModel",
      "state": {
       "width": "500px"
      }
     },
     "e152f7a76d1540d196a73b5488fb1402": {
      "model_module": "@jupyter-widgets/base",
      "model_module_version": "2.0.0",
      "model_name": "LayoutModel",
      "state": {}
     },
     "e6f61f7dfe6b4d619541ec709203af7f": {
      "model_module": "@jupyter-widgets/controls",
      "model_module_version": "2.0.0",
      "model_name": "HTMLModel",
      "state": {
       "layout": "IPY_MODEL_fc3213af5f12457a99e6d9b9291b4cd8",
       "style": "IPY_MODEL_0eaf25cc9cc44ef8b5dece631dc6610d",
       "value": "s2_medoid_im.tif: "
      }
     },
     "e9fd312b7a6a4153a7cc5181228a92c5": {
      "model_module": "@jupyter-widgets/controls",
      "model_module_version": "2.0.0",
      "model_name": "HTMLModel",
      "state": {
       "layout": "IPY_MODEL_9a85c2aa3f8a43f68817b56e522737d6",
       "style": "IPY_MODEL_5441ac7675934f4f949cd2aa897d1d75",
       "value": " [100.0%] in 13:57 (eta: 00:00)"
      }
     },
     "fc3213af5f12457a99e6d9b9291b4cd8": {
      "model_module": "@jupyter-widgets/base",
      "model_module_version": "2.0.0",
      "model_name": "LayoutModel",
      "state": {}
     },
     "fe127ad56a3f4a92b195005eea65a1d4": {
      "model_module": "@jupyter-widgets/base",
      "model_module_version": "2.0.0",
      "model_name": "LayoutModel",
      "state": {
       "flex": "2"
      }
     },
     "fef9369704994ea79cc849580c64f37e": {
      "model_module": "@jupyter-widgets/controls",
      "model_module_version": "2.0.0",
      "model_name": "HTMLModel",
      "state": {
       "layout": "IPY_MODEL_049bf7b2e1de407f88ab241929e22040",
       "style": "IPY_MODEL_a511cbc42c5647e380b53b388048a16d",
       "value": " 952M/952M (raw) [100.0%] in 00:56 (eta: 00:00)"
      }
     },
     "ff897a0e491f400187a7ddded1d876f1": {
      "model_module": "@jupyter-widgets/base",
      "model_module_version": "2.0.0",
      "model_name": "LayoutModel",
      "state": {
       "display": "inline-flex",
       "flex_flow": "row wrap",
       "width": "100%"
      }
     }
    },
    "version_major": 2,
    "version_minor": 0
   }
  }
 },
 "nbformat": 4,
 "nbformat_minor": 4
}
