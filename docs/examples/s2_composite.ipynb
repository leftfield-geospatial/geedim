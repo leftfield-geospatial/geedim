{
 "cells": [
  {
   "cell_type": "markdown",
   "metadata": {},
   "source": [
    "## Sentinel-2 cloud/shadow-free composite\n",
    "\n",
    "This example creates and downloads a large cloud/shadow free composite from a year of Sentinel-2 SR imagery.  The area of interest is over Accra, Ghana.  It demonstrates approaches for staying within Earth Engine computational and memory limits, and for compositing heavily clouded areas. \n",
    "\n",
    "CLI commands equivalent to the API code snippets are given in the comments where possible.\n",
    "\n",
    "### Setup\n",
    "\n",
    "`geemap` is required to run the notebook.  You can uncomment the cell below to install it, if it isn't installed already."
   ]
  },
  {
   "cell_type": "code",
   "execution_count": 1,
   "metadata": {},
   "outputs": [],
   "source": [
    "# geemap should be installed if it isn't already.\n",
    "# import sys\n",
    "# if 'conda' in sys.prefix:\n",
    "#     # install into the conda environment the notebook is being run from\n",
    "#     !conda install --yes --prefix {sys.prefix} -c conda-forge geemap\n",
    "# else:\n",
    "#     # install into the python environment the notebook is being run from\n",
    "#     !{sys.executable} -m pip install geemap"
   ]
  },
  {
   "cell_type": "code",
   "execution_count": 2,
   "metadata": {},
   "outputs": [],
   "source": [
    "import logging\n",
    "import ee\n",
    "import geedim as gd\n",
    "import geemap.foliumap as geemap\n",
    "\n",
    "# initialise earth engine with the high-volume endpoint\n",
    "gd.Initialize()"
   ]
  },
  {
   "cell_type": "markdown",
   "metadata": {},
   "source": [
    "### Create and search a Sentinel-2 SR collection\n",
    "\n",
    "In this step we search for images to composite, over the area and time period of interest.  \n",
    "\n",
    "Searching and compositing Sentinel-2 collections over large areas or time spans can be time-consuming due to the computational burden of cloud/shadow masking, when it is used.  To reduce the number of images requiring cloud/shadow masks in the search, we specify a `custom_filter` that places an upper limit on the already existing `CLOUDY_PIXEL_PERCENTAGE` [image granule property](https://developers.google.com/earth-engine/datasets/catalog/COPERNICUS_S2_SR_HARMONIZED#image-properties).  This `custom_filter` is fast to apply.  \n",
    "\n",
    "While the `custom_filter` applies to properties of the image granule, the `fill_portion` and `cloudless_portion` filters apply to `geedim` calculated portions of the search region.   Here they are used to limit the search results to relatively large and cloud/shadow-free image portions.  \n",
    "\n",
    "By default, the [`cloud-score`](../api.rst#CloudMaskMethod) method is used for Sentinel-2 cloud/shadow masking. We specify a [cloud score threshold](../api.rst#MaskedImage) of 0.7 (`score=0.7`) for the search."
   ]
  },
  {
   "cell_type": "code",
   "execution_count": 3,
   "metadata": {},
   "outputs": [
    {
     "data": {
      "text/html": [
       "\n",
       "            <style>\n",
       "                .geemap-dark {\n",
       "                    --jp-widgets-color: white;\n",
       "                    --jp-widgets-label-color: white;\n",
       "                    --jp-ui-font-color1: white;\n",
       "                    --jp-layout-color2: #454545;\n",
       "                    background-color: #383838;\n",
       "                }\n",
       "\n",
       "                .geemap-dark .jupyter-button {\n",
       "                    --jp-layout-color3: #383838;\n",
       "                }\n",
       "\n",
       "                .geemap-colab {\n",
       "                    background-color: var(--colab-primary-surface-color, white);\n",
       "                }\n",
       "\n",
       "                .geemap-colab .jupyter-button {\n",
       "                    --jp-layout-color3: var(--colab-primary-surface-color, white);\n",
       "                }\n",
       "            </style>\n",
       "            "
      ],
      "text/plain": [
       "<IPython.core.display.HTML object>"
      ]
     },
     "metadata": {},
     "output_type": "display_data"
    },
    {
     "name": "stdout",
     "output_type": "stream",
     "text": [
      "Found 31 images.\n",
      "Image property descriptions:\n",
      "\n",
      "ABBREV     NAME                             DESCRIPTION\n",
      "---------  -------------------------------  ----------------------------------------------\n",
      "ID         system:id                        Earth Engine image id\n",
      "DATE       system:time_start                Image capture date/time (UTC)\n",
      "FILL       FILL_PORTION                     Portion of region pixels that are valid (%)\n",
      "CLOUDLESS  CLOUDLESS_PORTION                Portion of filled pixels that are cloud/shadow\n",
      "                                            free (%)\n",
      "RADQ       RADIOMETRIC_QUALITY              Radiometric quality check\n",
      "GEOMQ      GEOMETRIC_QUALITY                Geometric quality check\n",
      "SAA        MEAN_SOLAR_AZIMUTH_ANGLE         Solar azimuth angle (deg)\n",
      "SZA        MEAN_SOLAR_ZENITH_ANGLE          Solar zenith angle (deg)\n",
      "VAA        MEAN_INCIDENCE_AZIMUTH_ANGLE_B1  View (B1) azimuth angle (deg)\n",
      "VZA        MEAN_INCIDENCE_ZENITH_ANGLE_B1   View (B1) zenith angle (deg)\n",
      "\n",
      "Search Results:\n",
      "\n",
      "ID                                                                 DATE              FILL CLOUDLESS RADQ   GEOMQ     SAA   SZA    VAA   VZA\n",
      "------------------------------------------------------------------ ---------------- ----- --------- ------ ------ ------ ----- ------ -----\n",
      "COPERNICUS/S2_SR_HARMONIZED/20190109T101409_20190109T102253_T30NYM 2019-01-09 10:29 41.15     48.29 PASSED PASSED 139.50 37.20 110.79 11.21\n",
      "COPERNICUS/S2_SR_HARMONIZED/20190122T102329_20190122T103839_T30NZM 2019-01-22 10:39 35.83     78.59 PASSED PASSED 139.22 33.99 291.77 11.04\n",
      "COPERNICUS/S2_SR_HARMONIZED/20190122T102329_20190122T103839_T30NYM 2019-01-22 10:39 44.84     55.71 PASSED PASSED 138.15 34.57 284.86  7.01\n",
      "COPERNICUS/S2_SR_HARMONIZED/20190129T101259_20190129T102648_T30NZM 2019-01-29 10:29 78.98     77.88 PASSED PASSED 133.66 34.76 103.87  7.45\n",
      "COPERNICUS/S2_SR_HARMONIZED/20190129T101259_20190129T102648_T30NYM 2019-01-29 10:29 40.75     63.10 PASSED PASSED 132.71 35.41 110.77 11.22\n",
      "COPERNICUS/S2_SR_HARMONIZED/20190203T101221_20190203T102328_T30NZM 2019-02-03 10:29 78.98     75.00 PASSED PASSED 131.54 34.00 102.95  7.46\n",
      "COPERNICUS/S2_SR_HARMONIZED/20190203T101221_20190203T102328_T30NYM 2019-02-03 10:29 40.12     91.65 PASSED PASSED 130.60 34.67 110.22 11.22\n",
      "COPERNICUS/S2_SR_HARMONIZED/20190211T102149_20190211T103444_T30NZM 2019-02-11 10:39 36.62     41.50 PASSED PASSED 130.61 30.63 291.60 11.03\n",
      "COPERNICUS/S2_SR_HARMONIZED/20190211T102149_20190211T103444_T30NYM 2019-02-11 10:39 44.84     66.67 PASSED PASSED 129.57 31.32 284.89  7.01\n",
      "COPERNICUS/S2_SR_HARMONIZED/20190221T102039_20190221T103744_T30NZM 2019-02-21 10:39 37.43     93.97 PASSED PASSED 125.14 28.46 291.63 11.03\n",
      "COPERNICUS/S2_SR_HARMONIZED/20190221T102039_20190221T103744_T30NYM 2019-02-21 10:39 44.84     95.99 PASSED PASSED 124.14 29.19 284.91  6.97\n",
      "COPERNICUS/S2_SR_HARMONIZED/20190226T102021_20190226T102750_T30NZM 2019-02-26 10:39 37.51     96.09 PASSED PASSED 122.02 27.33 292.19 11.05\n",
      "COPERNICUS/S2_SR_HARMONIZED/20190226T102021_20190226T102750_T30NYM 2019-02-26 10:39 44.84     98.52 PASSED PASSED 121.05 28.09 285.84  6.97\n",
      "COPERNICUS/S2_SR_HARMONIZED/20190303T102019_20190303T103501_T30NZM 2019-03-03 10:39 38.43     66.90 PASSED PASSED 118.64 26.18 291.45 11.01\n",
      "COPERNICUS/S2_SR_HARMONIZED/20190303T102019_20190303T103501_T30NYM 2019-03-03 10:39 44.84     52.81 PASSED PASSED 117.72 26.96 284.74  6.95\n",
      "COPERNICUS/S2_SR_HARMONIZED/20190305T101021_20190305T101942_T30NZM 2019-03-05 10:29 78.98     76.62 PASSED PASSED 114.79 27.96 102.84  7.49\n",
      "COPERNICUS/S2_SR_HARMONIZED/20190305T101021_20190305T101942_T30NYM 2019-03-05 10:29 38.75     76.96 PASSED PASSED 114.03 28.77 110.18 11.24\n",
      "COPERNICUS/S2_SR_HARMONIZED/20190323T102029_20190323T103130_T30NZM 2019-03-23 10:39 37.31     83.77 PASSED PASSED 101.81 22.10 291.62 11.02\n",
      "COPERNICUS/S2_SR_HARMONIZED/20190402T102029_20190402T103141_T30NZM 2019-04-02 10:39 36.39     78.84 PASSED PASSED  91.53 20.78 291.59 11.04\n",
      "COPERNICUS/S2_SR_HARMONIZED/20190402T102029_20190402T103141_T30NYM 2019-04-02 10:39 44.84     75.66 PASSED PASSED  91.40 21.67 284.90  7.01\n",
      "COPERNICUS/S2_SR_HARMONIZED/20190404T101031_20190404T102921_T30NZM 2019-04-04 10:29 78.98     54.53 PASSED PASSED  89.21 23.09 104.17  7.42\n",
      "COPERNICUS/S2_SR_HARMONIZED/20190409T101029_20190409T102251_T30NZM 2019-04-09 10:29 78.98     77.99 PASSED PASSED  84.36 22.75 104.06  7.43\n",
      "COPERNICUS/S2_SR_HARMONIZED/20190502T102029_20190502T103323_T30NYM 2019-05-02 10:39 44.84     86.70 PASSED PASSED  62.60 21.88 285.00  7.07\n",
      "COPERNICUS/S2_SR_HARMONIZED/20190916T101029_20190916T102121_T30NZM 2019-09-16 10:29 78.98     44.71 PASSED PASSED  97.62 21.35 103.78  7.49\n",
      "COPERNICUS/S2_SR_HARMONIZED/20191029T102039_20191029T103707_T30NZM 2019-10-29 10:39 37.60     70.22 PASSED PASSED 140.78 24.88 291.61 11.05\n",
      "COPERNICUS/S2_SR_HARMONIZED/20191029T102039_20191029T103707_T30NYM 2019-10-29 10:39 44.84     82.21 PASSED PASSED 139.25 25.45 284.87  6.98\n",
      "COPERNICUS/S2_SR_HARMONIZED/20191115T101209_20191115T101753_T30NZM 2019-11-15 10:29 77.31     44.48 PASSED PASSED 143.38 30.41 103.78  7.48\n",
      "COPERNICUS/S2_SR_HARMONIZED/20191203T102401_20191203T103859_T30NZM 2019-12-03 10:39 36.76     76.96 PASSED PASSED 149.20 32.68 292.18 11.04\n",
      "COPERNICUS/S2_SR_HARMONIZED/20191203T102401_20191203T103859_T30NYM 2019-12-03 10:39 44.84     68.91 PASSED PASSED 147.94 33.15 285.92  6.99\n",
      "COPERNICUS/S2_SR_HARMONIZED/20191225T101329_20191225T102600_T30NZM 2019-12-25 10:29 78.98     99.95 PASSED PASSED 143.96 36.51 103.79  7.49\n",
      "COPERNICUS/S2_SR_HARMONIZED/20191225T101329_20191225T102600_T30NYM 2019-12-25 10:29 39.09     99.99 PASSED PASSED 142.92 37.05 110.76 11.25\n"
     ]
    }
   ],
   "source": [
    "# geojson search polygon\n",
    "region = {\n",
    "    'type': 'Polygon',\n",
    "    'coordinates': [[[-0.37, 5.75], [-0.37, 5.5], [0.0, 5.5], [0.0, 5.75], [-0.37, 5.75]]],\n",
    "}\n",
    "\n",
    "# create and search the Sentinel-2 TOA collection\n",
    "score = 0.7\n",
    "coll = gd.MaskedCollection.from_name('COPERNICUS/S2_SR_HARMONIZED')\n",
    "filt_coll = coll.search(\n",
    "    start_date='2019-01-01',\n",
    "    end_date='2020-01-01',\n",
    "    region=region,\n",
    "    cloudless_portion=40,\n",
    "    fill_portion=30,\n",
    "    custom_filter='CLOUDY_PIXEL_PERCENTAGE<40',\n",
    "    score=score,\n",
    ")\n",
    "\n",
    "# print the search results\n",
    "print(f'Found {len(filt_coll.properties)} images.')\n",
    "print(f'Image property descriptions:\\n\\n{filt_coll.schema_table}\\n')\n",
    "print(f'Search Results:\\n\\n{filt_coll.properties_table}')\n",
    "\n",
    "# !geedim config --score 0.7 search -c s2-sr-hm -s 2019-01-01 -e 2020-01-01 --bbox -0.37 5.5 -0.0 5.75 -cf \"CLOUDY_PIXEL_PERCENTAGE<40\" -cp 40 -fp 30"
   ]
  },
  {
   "cell_type": "markdown",
   "metadata": {},
   "source": [
    "#### Create composite image\n",
    "\n",
    "Next we create a [medoid](../api.rst#compositemethod) composite image from the search result images.  Again we specify a [cloud score threshold](../api.rst#MaskedImage) of 0.7.\n",
    "\n",
    "Of the [available compositing algorithms](../api.rst#compositemethod), the *medoid* method is the most memory and computation intensive.  Computation scales roughly quadratically with the number of component images, so it is important to keep those to a necessary minimum.  The number of images returned by the search (i.e. 31) is low enough to produce a reasonably fast composite in this case.  Limiting the components to relatively cloud/shadow-free images, and aggressively masking these with a high cloud score threshold, helps improve the composite quality. "
   ]
  },
  {
   "cell_type": "code",
   "execution_count": 4,
   "metadata": {},
   "outputs": [
    {
     "data": {
      "text/html": [
       "\n",
       "            <style>\n",
       "                .geemap-dark {\n",
       "                    --jp-widgets-color: white;\n",
       "                    --jp-widgets-label-color: white;\n",
       "                    --jp-ui-font-color1: white;\n",
       "                    --jp-layout-color2: #454545;\n",
       "                    background-color: #383838;\n",
       "                }\n",
       "\n",
       "                .geemap-dark .jupyter-button {\n",
       "                    --jp-layout-color3: #383838;\n",
       "                }\n",
       "\n",
       "                .geemap-colab {\n",
       "                    background-color: var(--colab-primary-surface-color, white);\n",
       "                }\n",
       "\n",
       "                .geemap-colab .jupyter-button {\n",
       "                    --jp-layout-color3: var(--colab-primary-surface-color, white);\n",
       "                }\n",
       "            </style>\n",
       "            "
      ],
      "text/plain": [
       "<IPython.core.display.HTML object>"
      ]
     },
     "metadata": {},
     "output_type": "display_data"
    }
   ],
   "source": [
    "medoid_im = filt_coll.composite('medoid', score=score)"
   ]
  },
  {
   "cell_type": "markdown",
   "metadata": {},
   "source": [
    "### Visualise component and composite images\n",
    "\n",
    "Now we use `geemap` to display the first 4 component images, their cloud/shadow masks, and the *medoid* composite.  You can use the layer button in the top right hand corner to turn on/off the image layers.  The composite will take a few minutes to load.  \n",
    " \n",
    "<div class=\"alert alert-info\">\n",
    "\n",
    "Note\n",
    "\n",
    "You need to download and run the notebook to view the images.\n",
    "\n",
    "</div>"
   ]
  },
  {
   "cell_type": "code",
   "execution_count": 5,
   "metadata": {},
   "outputs": [
    {
     "data": {
      "text/html": [
       "\n",
       "            <style>\n",
       "                .geemap-dark {\n",
       "                    --jp-widgets-color: white;\n",
       "                    --jp-widgets-label-color: white;\n",
       "                    --jp-ui-font-color1: white;\n",
       "                    --jp-layout-color2: #454545;\n",
       "                    background-color: #383838;\n",
       "                }\n",
       "\n",
       "                .geemap-dark .jupyter-button {\n",
       "                    --jp-layout-color3: #383838;\n",
       "                }\n",
       "\n",
       "                .geemap-colab {\n",
       "                    background-color: var(--colab-primary-surface-color, white);\n",
       "                }\n",
       "\n",
       "                .geemap-colab .jupyter-button {\n",
       "                    --jp-layout-color3: var(--colab-primary-surface-color, white);\n",
       "                }\n",
       "            </style>\n",
       "            "
      ],
      "text/plain": [
       "<IPython.core.display.HTML object>"
      ]
     },
     "metadata": {},
     "output_type": "display_data"
    },
    {
     "data": {
      "text/html": [
       "<iframe srcdoc=\"&lt;!DOCTYPE html&gt;\n",
       "&lt;html&gt;\n",
       "&lt;head&gt;\n",
       "    \n",
       "    &lt;meta http-equiv=&quot;content-type&quot; content=&quot;text/html; charset=UTF-8&quot; /&gt;\n",
       "    \n",
       "        &lt;script&gt;\n",
       "            L_NO_TOUCH = false;\n",
       "            L_DISABLE_3D = false;\n",
       "        &lt;/script&gt;\n",
       "    \n",
       "    &lt;style&gt;html, body {width: 100%;height: 100%;margin: 0;padding: 0;}&lt;/style&gt;\n",
       "    &lt;style&gt;#map {position:absolute;top:0;bottom:0;right:0;left:0;}&lt;/style&gt;\n",
       "    &lt;script src=&quot;https://cdn.jsdelivr.net/npm/leaflet@1.9.3/dist/leaflet.js&quot;&gt;&lt;/script&gt;\n",
       "    &lt;script src=&quot;https://code.jquery.com/jquery-3.7.1.min.js&quot;&gt;&lt;/script&gt;\n",
       "    &lt;script src=&quot;https://cdn.jsdelivr.net/npm/bootstrap@5.2.2/dist/js/bootstrap.bundle.min.js&quot;&gt;&lt;/script&gt;\n",
       "    &lt;script src=&quot;https://cdnjs.cloudflare.com/ajax/libs/Leaflet.awesome-markers/2.0.2/leaflet.awesome-markers.js&quot;&gt;&lt;/script&gt;\n",
       "    &lt;link rel=&quot;stylesheet&quot; href=&quot;https://cdn.jsdelivr.net/npm/leaflet@1.9.3/dist/leaflet.css&quot;/&gt;\n",
       "    &lt;link rel=&quot;stylesheet&quot; href=&quot;https://cdn.jsdelivr.net/npm/bootstrap@5.2.2/dist/css/bootstrap.min.css&quot;/&gt;\n",
       "    &lt;link rel=&quot;stylesheet&quot; href=&quot;https://netdna.bootstrapcdn.com/bootstrap/3.0.0/css/bootstrap-glyphicons.css&quot;/&gt;\n",
       "    &lt;link rel=&quot;stylesheet&quot; href=&quot;https://cdn.jsdelivr.net/npm/@fortawesome/fontawesome-free@6.2.0/css/all.min.css&quot;/&gt;\n",
       "    &lt;link rel=&quot;stylesheet&quot; href=&quot;https://cdnjs.cloudflare.com/ajax/libs/Leaflet.awesome-markers/2.0.2/leaflet.awesome-markers.css&quot;/&gt;\n",
       "    &lt;link rel=&quot;stylesheet&quot; href=&quot;https://cdn.jsdelivr.net/gh/python-visualization/folium/folium/templates/leaflet.awesome.rotate.min.css&quot;/&gt;\n",
       "    \n",
       "            &lt;meta name=&quot;viewport&quot; content=&quot;width=device-width,\n",
       "                initial-scale=1.0, maximum-scale=1.0, user-scalable=no&quot; /&gt;\n",
       "            &lt;style&gt;\n",
       "                #map_7ac8b4296af44fca735051f50bd03bcb {\n",
       "                    position: relative;\n",
       "                    width: 100.0%;\n",
       "                    height: 100.0%;\n",
       "                    left: 0.0%;\n",
       "                    top: 0.0%;\n",
       "                }\n",
       "                .leaflet-container { font-size: 1rem; }\n",
       "            &lt;/style&gt;\n",
       "        \n",
       "    &lt;script src=&quot;https://cdn.jsdelivr.net/npm/leaflet.fullscreen@3.0.0/Control.FullScreen.min.js&quot;&gt;&lt;/script&gt;\n",
       "    &lt;link rel=&quot;stylesheet&quot; href=&quot;https://cdn.jsdelivr.net/npm/leaflet.fullscreen@3.0.0/Control.FullScreen.css&quot;/&gt;\n",
       "    &lt;script src=&quot;https://cdnjs.cloudflare.com/ajax/libs/leaflet.draw/1.0.2/leaflet.draw.js&quot;&gt;&lt;/script&gt;\n",
       "    &lt;link rel=&quot;stylesheet&quot; href=&quot;https://cdnjs.cloudflare.com/ajax/libs/leaflet.draw/1.0.2/leaflet.draw.css&quot;/&gt;\n",
       "    &lt;script src=&quot;https://unpkg.com/leaflet-control-geocoder/dist/Control.Geocoder.js&quot;&gt;&lt;/script&gt;\n",
       "    &lt;link rel=&quot;stylesheet&quot; href=&quot;https://unpkg.com/leaflet-control-geocoder/dist/Control.Geocoder.css&quot;/&gt;\n",
       "&lt;/head&gt;\n",
       "&lt;body&gt;\n",
       "    \n",
       "    \n",
       "            &lt;div class=&quot;folium-map&quot; id=&quot;map_7ac8b4296af44fca735051f50bd03bcb&quot; &gt;&lt;/div&gt;\n",
       "        \n",
       "&lt;/body&gt;\n",
       "&lt;script&gt;\n",
       "    \n",
       "    \n",
       "            var map_7ac8b4296af44fca735051f50bd03bcb = L.map(\n",
       "                &quot;map_7ac8b4296af44fca735051f50bd03bcb&quot;,\n",
       "                {\n",
       "                    center: [20.0, 0.0],\n",
       "                    crs: L.CRS.EPSG3857,\n",
       "                    zoom: 2,\n",
       "                    zoomControl: true,\n",
       "                    preferCanvas: false,\n",
       "                    eeInitialize: true,\n",
       "                    addGoogleMap: false,\n",
       "                    pluginLatlngpopup: false,\n",
       "                    pluginFullscreen: true,\n",
       "                    pluginDraw: true,\n",
       "                    DrawExport: false,\n",
       "                    pluginMinimap: false,\n",
       "                    locateControl: false,\n",
       "                    searchControl: true,\n",
       "                    layersControl: true,\n",
       "                }\n",
       "            );\n",
       "\n",
       "            \n",
       "\n",
       "        \n",
       "    \n",
       "            var tile_layer_dc1ec7f85d7ce676c5a7b5aace72fe62 = L.tileLayer(\n",
       "                &quot;https://tile.openstreetmap.org/{z}/{x}/{y}.png&quot;,\n",
       "                {&quot;attribution&quot;: &quot;\\u0026copy; \\u003ca href=\\&quot;https://www.openstreetmap.org/copyright\\&quot;\\u003eOpenStreetMap\\u003c/a\\u003e contributors&quot;, &quot;detectRetina&quot;: false, &quot;maxNativeZoom&quot;: 19, &quot;maxZoom&quot;: 30, &quot;minZoom&quot;: 0, &quot;noWrap&quot;: false, &quot;opacity&quot;: 1, &quot;subdomains&quot;: &quot;abc&quot;, &quot;tms&quot;: false}\n",
       "            );\n",
       "        \n",
       "    \n",
       "            tile_layer_dc1ec7f85d7ce676c5a7b5aace72fe62.addTo(map_7ac8b4296af44fca735051f50bd03bcb);\n",
       "        \n",
       "    \n",
       "            L.control.fullscreen(\n",
       "                {&quot;forceSeparateButton&quot;: false, &quot;position&quot;: &quot;topleft&quot;, &quot;title&quot;: &quot;Full Screen&quot;, &quot;titleCancel&quot;: &quot;Exit Full Screen&quot;}\n",
       "            ).addTo(map_7ac8b4296af44fca735051f50bd03bcb);\n",
       "        \n",
       "    \n",
       "            var options = {\n",
       "              position: &quot;topleft&quot;,\n",
       "              draw: {},\n",
       "              edit: {},\n",
       "            }\n",
       "            // FeatureGroup is to store editable layers.\n",
       "            var drawnItems_draw_control_66912aa6aa2e4c7e851a15a6d6be0098 = new L.featureGroup().addTo(\n",
       "                map_7ac8b4296af44fca735051f50bd03bcb\n",
       "            );\n",
       "            options.edit.featureGroup = drawnItems_draw_control_66912aa6aa2e4c7e851a15a6d6be0098;\n",
       "            var draw_control_66912aa6aa2e4c7e851a15a6d6be0098 = new L.Control.Draw(\n",
       "                options\n",
       "            ).addTo( map_7ac8b4296af44fca735051f50bd03bcb );\n",
       "            map_7ac8b4296af44fca735051f50bd03bcb.on(L.Draw.Event.CREATED, function(e) {\n",
       "                var layer = e.layer,\n",
       "                    type = e.layerType;\n",
       "                var coords = JSON.stringify(layer.toGeoJSON());\n",
       "                layer.on(&#x27;click&#x27;, function() {\n",
       "                    alert(coords);\n",
       "                    console.log(coords);\n",
       "                });\n",
       "                drawnItems_draw_control_66912aa6aa2e4c7e851a15a6d6be0098.addLayer(layer);\n",
       "             });\n",
       "            map_7ac8b4296af44fca735051f50bd03bcb.on(&#x27;draw:created&#x27;, function(e) {\n",
       "                drawnItems_draw_control_66912aa6aa2e4c7e851a15a6d6be0098.addLayer(e.layer);\n",
       "            });\n",
       "            \n",
       "        \n",
       "    \n",
       "\n",
       "            var geocoderOpts_geocoder_5bc22e43dc844f1ad2fc8dbee97ef835 = {&quot;collapsed&quot;: true, &quot;defaultMarkGeocode&quot;: true, &quot;position&quot;: &quot;topleft&quot;, &quot;provider&quot;: &quot;nominatim&quot;, &quot;providerOptions&quot;: {}, &quot;zoom&quot;: 11};\n",
       "\n",
       "            // note: geocoder name should start with lowercase\n",
       "            var geocoderName_geocoder_5bc22e43dc844f1ad2fc8dbee97ef835 = geocoderOpts_geocoder_5bc22e43dc844f1ad2fc8dbee97ef835[&quot;provider&quot;];\n",
       "\n",
       "            var customGeocoder_geocoder_5bc22e43dc844f1ad2fc8dbee97ef835 = L.Control.Geocoder[ geocoderName_geocoder_5bc22e43dc844f1ad2fc8dbee97ef835 ](\n",
       "                geocoderOpts_geocoder_5bc22e43dc844f1ad2fc8dbee97ef835[&#x27;providerOptions&#x27;]\n",
       "            );\n",
       "            geocoderOpts_geocoder_5bc22e43dc844f1ad2fc8dbee97ef835[&quot;geocoder&quot;] = customGeocoder_geocoder_5bc22e43dc844f1ad2fc8dbee97ef835;\n",
       "\n",
       "            L.Control.geocoder(\n",
       "                geocoderOpts_geocoder_5bc22e43dc844f1ad2fc8dbee97ef835\n",
       "            ).on(&#x27;markgeocode&#x27;, function(e) {\n",
       "                var zoom = geocoderOpts_geocoder_5bc22e43dc844f1ad2fc8dbee97ef835[&#x27;zoom&#x27;] || map_7ac8b4296af44fca735051f50bd03bcb.getZoom();\n",
       "                map_7ac8b4296af44fca735051f50bd03bcb.setView(e.geocode.center, zoom);\n",
       "            }).addTo(map_7ac8b4296af44fca735051f50bd03bcb);\n",
       "\n",
       "        \n",
       "    \n",
       "            map_7ac8b4296af44fca735051f50bd03bcb.fitBounds(\n",
       "                [[20, 0], [20, 0]],\n",
       "                {&quot;maxZoom&quot;: 2}\n",
       "            );\n",
       "        \n",
       "    \n",
       "            map_7ac8b4296af44fca735051f50bd03bcb.fitBounds(\n",
       "                [[5.625020180468233, -0.18499999999965613], [5.625020180468233, -0.18499999999965613]],\n",
       "                {&quot;maxZoom&quot;: 11}\n",
       "            );\n",
       "        \n",
       "    \n",
       "            var tile_layer_0562f65920d76e1f478b2b1f58c247ea = L.tileLayer(\n",
       "                &quot;https://earthengine-highvolume.googleapis.com/v1/projects/thicket-agc-interface/maps/6d2c011d914000b1ef880a656af54c35-70fe3cca25ba7dd83242af1878edd709/tiles/{z}/{x}/{y}&quot;,\n",
       "                {&quot;attribution&quot;: &quot;Google Earth Engine&quot;, &quot;detectRetina&quot;: false, &quot;maxZoom&quot;: 24, &quot;minZoom&quot;: 0, &quot;noWrap&quot;: false, &quot;opacity&quot;: 1.0, &quot;subdomains&quot;: &quot;abc&quot;, &quot;tms&quot;: false}\n",
       "            );\n",
       "        \n",
       "    \n",
       "            tile_layer_0562f65920d76e1f478b2b1f58c247ea.addTo(map_7ac8b4296af44fca735051f50bd03bcb);\n",
       "        \n",
       "    \n",
       "            var tile_layer_dbb3b3fe3fc5206caa4fb9d0fadcecee = L.tileLayer(\n",
       "                &quot;https://earthengine-highvolume.googleapis.com/v1/projects/thicket-agc-interface/maps/6840c4c0add04a91af83d629e5ff284d-d0e638741bc9f53b8094ba35d009b0e3/tiles/{z}/{x}/{y}&quot;,\n",
       "                {&quot;attribution&quot;: &quot;Google Earth Engine&quot;, &quot;detectRetina&quot;: false, &quot;maxZoom&quot;: 24, &quot;minZoom&quot;: 0, &quot;noWrap&quot;: false, &quot;opacity&quot;: 1.0, &quot;subdomains&quot;: &quot;abc&quot;, &quot;tms&quot;: false}\n",
       "            );\n",
       "        \n",
       "    \n",
       "            tile_layer_dbb3b3fe3fc5206caa4fb9d0fadcecee.addTo(map_7ac8b4296af44fca735051f50bd03bcb);\n",
       "        \n",
       "    \n",
       "            var tile_layer_cce3d5d5e7d07ada26730a8f0dba9103 = L.tileLayer(\n",
       "                &quot;https://earthengine-highvolume.googleapis.com/v1/projects/thicket-agc-interface/maps/9da636e987c4e8af02b546fab7bbbee4-4f3042e41591b2b3771467a71791cb60/tiles/{z}/{x}/{y}&quot;,\n",
       "                {&quot;attribution&quot;: &quot;Google Earth Engine&quot;, &quot;detectRetina&quot;: false, &quot;maxZoom&quot;: 24, &quot;minZoom&quot;: 0, &quot;noWrap&quot;: false, &quot;opacity&quot;: 1.0, &quot;subdomains&quot;: &quot;abc&quot;, &quot;tms&quot;: false}\n",
       "            );\n",
       "        \n",
       "    \n",
       "            tile_layer_cce3d5d5e7d07ada26730a8f0dba9103.addTo(map_7ac8b4296af44fca735051f50bd03bcb);\n",
       "        \n",
       "    \n",
       "            var tile_layer_1a17583b1d37fab81ea5014c0261f814 = L.tileLayer(\n",
       "                &quot;https://earthengine-highvolume.googleapis.com/v1/projects/thicket-agc-interface/maps/24d447c2fd4b3ef11f4fb284585e6881-f167b7c8f2646666d19e237cbbb15294/tiles/{z}/{x}/{y}&quot;,\n",
       "                {&quot;attribution&quot;: &quot;Google Earth Engine&quot;, &quot;detectRetina&quot;: false, &quot;maxZoom&quot;: 24, &quot;minZoom&quot;: 0, &quot;noWrap&quot;: false, &quot;opacity&quot;: 1.0, &quot;subdomains&quot;: &quot;abc&quot;, &quot;tms&quot;: false}\n",
       "            );\n",
       "        \n",
       "    \n",
       "            tile_layer_1a17583b1d37fab81ea5014c0261f814.addTo(map_7ac8b4296af44fca735051f50bd03bcb);\n",
       "        \n",
       "    \n",
       "            var tile_layer_bce0cf5aa66b90479078d6215feb0296 = L.tileLayer(\n",
       "                &quot;https://earthengine-highvolume.googleapis.com/v1/projects/thicket-agc-interface/maps/9e823711e23a7538bc62e60dae4618b2-8f818e1134aca893ef938b650dc58bee/tiles/{z}/{x}/{y}&quot;,\n",
       "                {&quot;attribution&quot;: &quot;Google Earth Engine&quot;, &quot;detectRetina&quot;: false, &quot;maxZoom&quot;: 24, &quot;minZoom&quot;: 0, &quot;noWrap&quot;: false, &quot;opacity&quot;: 1.0, &quot;subdomains&quot;: &quot;abc&quot;, &quot;tms&quot;: false}\n",
       "            );\n",
       "        \n",
       "    \n",
       "            tile_layer_bce0cf5aa66b90479078d6215feb0296.addTo(map_7ac8b4296af44fca735051f50bd03bcb);\n",
       "        \n",
       "    \n",
       "            var tile_layer_34e19d205bb5cb161f3e5acf1e708461 = L.tileLayer(\n",
       "                &quot;https://earthengine-highvolume.googleapis.com/v1/projects/thicket-agc-interface/maps/fd7d535974f07527005fe95fb66e993c-3ec7acd543e4544841291be4b3463212/tiles/{z}/{x}/{y}&quot;,\n",
       "                {&quot;attribution&quot;: &quot;Google Earth Engine&quot;, &quot;detectRetina&quot;: false, &quot;maxZoom&quot;: 24, &quot;minZoom&quot;: 0, &quot;noWrap&quot;: false, &quot;opacity&quot;: 1.0, &quot;subdomains&quot;: &quot;abc&quot;, &quot;tms&quot;: false}\n",
       "            );\n",
       "        \n",
       "    \n",
       "            tile_layer_34e19d205bb5cb161f3e5acf1e708461.addTo(map_7ac8b4296af44fca735051f50bd03bcb);\n",
       "        \n",
       "    \n",
       "            var tile_layer_4c52bf5d8fa0f47a21dcd9cd6b9f6c74 = L.tileLayer(\n",
       "                &quot;https://earthengine-highvolume.googleapis.com/v1/projects/thicket-agc-interface/maps/24f1275209c49d4bf9f9c27883db7abc-93d30ee9496f62811d00246ab6631c60/tiles/{z}/{x}/{y}&quot;,\n",
       "                {&quot;attribution&quot;: &quot;Google Earth Engine&quot;, &quot;detectRetina&quot;: false, &quot;maxZoom&quot;: 24, &quot;minZoom&quot;: 0, &quot;noWrap&quot;: false, &quot;opacity&quot;: 1.0, &quot;subdomains&quot;: &quot;abc&quot;, &quot;tms&quot;: false}\n",
       "            );\n",
       "        \n",
       "    \n",
       "            tile_layer_4c52bf5d8fa0f47a21dcd9cd6b9f6c74.addTo(map_7ac8b4296af44fca735051f50bd03bcb);\n",
       "        \n",
       "    \n",
       "            var tile_layer_42f697ea09b372c9dfdcb580c8d34358 = L.tileLayer(\n",
       "                &quot;https://earthengine-highvolume.googleapis.com/v1/projects/thicket-agc-interface/maps/6950654c640d283c93f701db27d5dc6e-bce86a2708bfb329e9d8cd34c634adbc/tiles/{z}/{x}/{y}&quot;,\n",
       "                {&quot;attribution&quot;: &quot;Google Earth Engine&quot;, &quot;detectRetina&quot;: false, &quot;maxZoom&quot;: 24, &quot;minZoom&quot;: 0, &quot;noWrap&quot;: false, &quot;opacity&quot;: 1.0, &quot;subdomains&quot;: &quot;abc&quot;, &quot;tms&quot;: false}\n",
       "            );\n",
       "        \n",
       "    \n",
       "            tile_layer_42f697ea09b372c9dfdcb580c8d34358.addTo(map_7ac8b4296af44fca735051f50bd03bcb);\n",
       "        \n",
       "    \n",
       "            var tile_layer_364296a364fde1667bb1b1e6a7c3c8ad = L.tileLayer(\n",
       "                &quot;https://earthengine-highvolume.googleapis.com/v1/projects/thicket-agc-interface/maps/c442a588a75442cd2fc9b0b27a6e2126-7d57541701b6cfbfd604ab3ece1c59af/tiles/{z}/{x}/{y}&quot;,\n",
       "                {&quot;attribution&quot;: &quot;Google Earth Engine&quot;, &quot;detectRetina&quot;: false, &quot;maxZoom&quot;: 24, &quot;minZoom&quot;: 0, &quot;noWrap&quot;: false, &quot;opacity&quot;: 1.0, &quot;subdomains&quot;: &quot;abc&quot;, &quot;tms&quot;: false}\n",
       "            );\n",
       "        \n",
       "    \n",
       "            tile_layer_364296a364fde1667bb1b1e6a7c3c8ad.addTo(map_7ac8b4296af44fca735051f50bd03bcb);\n",
       "        \n",
       "    \n",
       "            var tile_layer_a8c14148e394365c7fec1f8b68ca5aff = L.tileLayer(\n",
       "                &quot;https://earthengine-highvolume.googleapis.com/v1/projects/thicket-agc-interface/maps/2421e39486f183cf04906f7bdd456d9e-d0b36ed20c9672bfa589e5c7eb7315b5/tiles/{z}/{x}/{y}&quot;,\n",
       "                {&quot;attribution&quot;: &quot;Google Earth Engine&quot;, &quot;detectRetina&quot;: false, &quot;maxZoom&quot;: 24, &quot;minZoom&quot;: 0, &quot;noWrap&quot;: false, &quot;opacity&quot;: 1.0, &quot;subdomains&quot;: &quot;abc&quot;, &quot;tms&quot;: false}\n",
       "            );\n",
       "        \n",
       "    \n",
       "            tile_layer_a8c14148e394365c7fec1f8b68ca5aff.addTo(map_7ac8b4296af44fca735051f50bd03bcb);\n",
       "        \n",
       "    \n",
       "            var layer_control_e604d61bb5fbd12a6e978bde658b2935_layers = {\n",
       "                base_layers : {\n",
       "                    &quot;openstreetmap&quot; : tile_layer_dc1ec7f85d7ce676c5a7b5aace72fe62,\n",
       "                },\n",
       "                overlays :  {\n",
       "                    &quot;Image 20190109T101409_20190109T102253_T30NYM&quot; : tile_layer_0562f65920d76e1f478b2b1f58c247ea,\n",
       "                    &quot;Cl mask 20190109T101409_20190109T102253_T30NYM&quot; : tile_layer_dbb3b3fe3fc5206caa4fb9d0fadcecee,\n",
       "                    &quot;Image 20190122T102329_20190122T103839_T30NZM&quot; : tile_layer_cce3d5d5e7d07ada26730a8f0dba9103,\n",
       "                    &quot;Cl mask 20190122T102329_20190122T103839_T30NZM&quot; : tile_layer_1a17583b1d37fab81ea5014c0261f814,\n",
       "                    &quot;Image 20190122T102329_20190122T103839_T30NYM&quot; : tile_layer_bce0cf5aa66b90479078d6215feb0296,\n",
       "                    &quot;Cl mask 20190122T102329_20190122T103839_T30NYM&quot; : tile_layer_34e19d205bb5cb161f3e5acf1e708461,\n",
       "                    &quot;Image 20190129T101259_20190129T102648_T30NZM&quot; : tile_layer_4c52bf5d8fa0f47a21dcd9cd6b9f6c74,\n",
       "                    &quot;Cl mask 20190129T101259_20190129T102648_T30NZM&quot; : tile_layer_42f697ea09b372c9dfdcb580c8d34358,\n",
       "                    &quot;Medoid composite&quot; : tile_layer_364296a364fde1667bb1b1e6a7c3c8ad,\n",
       "                    &quot;Region&quot; : tile_layer_a8c14148e394365c7fec1f8b68ca5aff,\n",
       "                },\n",
       "            };\n",
       "            let layer_control_e604d61bb5fbd12a6e978bde658b2935 = L.control.layers(\n",
       "                layer_control_e604d61bb5fbd12a6e978bde658b2935_layers.base_layers,\n",
       "                layer_control_e604d61bb5fbd12a6e978bde658b2935_layers.overlays,\n",
       "                {&quot;autoZIndex&quot;: true, &quot;collapsed&quot;: true, &quot;position&quot;: &quot;topright&quot;}\n",
       "            ).addTo(map_7ac8b4296af44fca735051f50bd03bcb);\n",
       "\n",
       "        \n",
       "&lt;/script&gt;\n",
       "&lt;/html&gt;\" width=\"100%\" height=\"600\"style=\"border:none !important;\" \"allowfullscreen\" \"webkitallowfullscreen\" \"mozallowfullscreen\"></iframe>"
      ],
      "text/plain": [
       "<geemap.foliumap.Map at 0x23105e7d590>"
      ]
     },
     "execution_count": 5,
     "metadata": {},
     "output_type": "execute_result"
    }
   ],
   "source": [
    "# geemap visualisation parameters\n",
    "s2_vis_params = dict(min=0, max=4000, bands=['B4', 'B3', 'B2'], gamma=1.5)\n",
    "mask_vis_params = dict(min=0, max=1)\n",
    "\n",
    "map = geemap.Map()\n",
    "map.centerObject(ee.Geometry(region), 11)\n",
    "\n",
    "# iterate over the first 4 component image ID's\n",
    "for im_id in list(filt_coll.properties.keys())[:4]:\n",
    "    # create image and mask, and add to map\n",
    "    im = gd.MaskedImage.from_id(im_id, score=score)\n",
    "    vis_image = im.ee_image.clip(region)\n",
    "    cloudless_mask = vis_image.select('CLOUDLESS_MASK')\n",
    "\n",
    "    map.addLayer(vis_image, s2_vis_params, f'Image {im_id[-38:]}')\n",
    "    map.addLayer(cloudless_mask, mask_vis_params, f'Cl mask {im_id[-38:]}')\n",
    "\n",
    "# add the composite & region outline\n",
    "map.addLayer(medoid_im.ee_image.clip(region), s2_vis_params, 'Medoid composite')\n",
    "region_im = ee.FeatureCollection(ee.Geometry(region)).style(\n",
    "    color='red', width=2, lineType='solid', fillColor='00000000'\n",
    ")\n",
    "map.addLayer(region_im, {}, 'Region')\n",
    "\n",
    "map"
   ]
  },
  {
   "cell_type": "markdown",
   "metadata": {},
   "source": [
    "### Download\n",
    "\n",
    "Here we download the composite image directly.  `crs`, `scale` and `region` parameters must be specified, as the composite has no fixed projection.  Computation of the *medoid* composite is memory intensive, so we specify a `max_tile_size` of 16MB.  Without this, the download would exceed the [user memory limit](../api.rst#computed-images-and-user-memory).  "
   ]
  },
  {
   "cell_type": "code",
   "execution_count": 6,
   "metadata": {},
   "outputs": [
    {
     "data": {
      "text/html": [
       "\n",
       "            <style>\n",
       "                .geemap-dark {\n",
       "                    --jp-widgets-color: white;\n",
       "                    --jp-widgets-label-color: white;\n",
       "                    --jp-ui-font-color1: white;\n",
       "                    --jp-layout-color2: #454545;\n",
       "                    background-color: #383838;\n",
       "                }\n",
       "\n",
       "                .geemap-dark .jupyter-button {\n",
       "                    --jp-layout-color3: #383838;\n",
       "                }\n",
       "\n",
       "                .geemap-colab {\n",
       "                    background-color: var(--colab-primary-surface-color, white);\n",
       "                }\n",
       "\n",
       "                .geemap-colab .jupyter-button {\n",
       "                    --jp-layout-color3: var(--colab-primary-surface-color, white);\n",
       "                }\n",
       "            </style>\n",
       "            "
      ],
      "text/plain": [
       "<IPython.core.display.HTML object>"
      ]
     },
     "metadata": {},
     "output_type": "display_data"
    },
    {
     "data": {
      "application/vnd.jupyter.widget-view+json": {
       "model_id": "bdb4a2ebe5614259887662a90121aa16",
       "version_major": 2,
       "version_minor": 0
      },
      "text/plain": [
       "s2_medoid_im.tif: |                                                                                  | 0.00/95…"
      ]
     },
     "metadata": {},
     "output_type": "display_data"
    }
   ],
   "source": [
    "medoid_im.download(\n",
    "    's2_medoid_im.tif',\n",
    "    region=region,\n",
    "    crs='EPSG:32735',\n",
    "    scale=10,\n",
    "    dtype='uint16',\n",
    "    max_tile_size=16,\n",
    "    overwrite=True,\n",
    ")\n",
    "\n",
    "# !geedim config --score 0.7 search -c s2-sr-hm -s 2019-01-01 -e 2020-01-01 --bbox -0.37 5.5 -0.0 5.75 -cf \"CLOUDY_PIXEL_PERCENTAGE<40\" -cp 40 -fp 30 composite -cm medoid download --crs EPSG:32735 --scale 10 --dtype uint16 --max-tile-size 16 -o"
   ]
  },
  {
   "cell_type": "markdown",
   "metadata": {},
   "source": [
    "### Export\n",
    "\n",
    "Lastly we demonstrate an alternative to the [direct download approach](#Download) i.e. we export the composite image to an Earth Engine asset, and then download the computed asset image.  Exporting is not subject to the user memory limit, and once computed, the asset image can be downloaded without the need for reducing `max_tile_size`.  Bear in mind that exporting is usually slower than downloading, and exported GeoTIFFs can not be populated with [STAC metadata](../api.rst#image-metadata). "
   ]
  },
  {
   "cell_type": "code",
   "execution_count": 7,
   "metadata": {},
   "outputs": [
    {
     "data": {
      "text/html": [
       "\n",
       "            <style>\n",
       "                .geemap-dark {\n",
       "                    --jp-widgets-color: white;\n",
       "                    --jp-widgets-label-color: white;\n",
       "                    --jp-ui-font-color1: white;\n",
       "                    --jp-layout-color2: #454545;\n",
       "                    background-color: #383838;\n",
       "                }\n",
       "\n",
       "                .geemap-dark .jupyter-button {\n",
       "                    --jp-layout-color3: #383838;\n",
       "                }\n",
       "\n",
       "                .geemap-colab {\n",
       "                    background-color: var(--colab-primary-surface-color, white);\n",
       "                }\n",
       "\n",
       "                .geemap-colab .jupyter-button {\n",
       "                    --jp-layout-color3: var(--colab-primary-surface-color, white);\n",
       "                }\n",
       "            </style>\n",
       "            "
      ],
      "text/plain": [
       "<IPython.core.display.HTML object>"
      ]
     },
     "metadata": {},
     "output_type": "display_data"
    },
    {
     "name": "stderr",
     "output_type": "stream",
     "text": [
      "Preparing projects-geedim-assets-s2_medoid_im: done \n"
     ]
    },
    {
     "data": {
      "application/vnd.jupyter.widget-view+json": {
       "model_id": "d1475bca1d334047bb219db903069ef3",
       "version_major": 2,
       "version_minor": 0
      },
      "text/plain": [
       "Exporting projects-geedim-assets-s2_medoid_im: |                                                              …"
      ]
     },
     "metadata": {},
     "output_type": "display_data"
    },
    {
     "data": {
      "application/vnd.jupyter.widget-view+json": {
       "model_id": "f4e01a76ac9949cf8b4527f63de188b2",
       "version_major": 2,
       "version_minor": 0
      },
      "text/plain": [
       "s2_medoid_im.tif: |                                                                                  | 0.00/95…"
      ]
     },
     "metadata": {},
     "output_type": "display_data"
    },
    {
     "name": "stderr",
     "output_type": "stream",
     "text": [
      "There is no STAC entry for: projects/geedim/assets/s2_medoid_im\n"
     ]
    }
   ],
   "source": [
    "# 'geedim' is the name of a valid Earth Engine cloud project\n",
    "medoid_asset_id = f'projects/geedim/assets/s2_medoid_im'\n",
    "\n",
    "# export to earth engine asset\n",
    "medoid_task = medoid_im.export(\n",
    "    medoid_asset_id,\n",
    "    type='asset',\n",
    "    region=region,\n",
    "    crs='EPSG:32735',\n",
    "    scale=10,\n",
    "    dtype='uint16',\n",
    "    wait=True,\n",
    ")\n",
    "\n",
    "# create a MaskedImage from the earth engine asset\n",
    "medoid_asset_im = gd.MaskedImage.from_id(medoid_asset_id)\n",
    "# download asset image\n",
    "medoid_asset_im.download('s2_medoid_im.tif', overwrite=True)\n",
    "\n",
    "# !geedim config --score 0.7 search -c s2-sr-hm -s 2019-01-01 -e 2020-01-01 --bbox -0.37 5.5 -0.0 5.75 -cf \"CLOUDY_PIXEL_PERCENTAGE<40\" -cp 40 -fp 30 composite -cm medoid export -t asset -f geedim --crs EPSG:32735 --scale 10 --dtype uint16 download -o"
   ]
  },
  {
   "cell_type": "code",
   "execution_count": null,
   "metadata": {},
   "outputs": [],
   "source": []
  }
 ],
 "metadata": {
  "kernelspec": {
   "display_name": "Python 3 (ipykernel)",
   "language": "python",
   "name": "python3"
  },
  "language_info": {
   "codemirror_mode": {
    "name": "ipython",
    "version": 3
   },
   "file_extension": ".py",
   "mimetype": "text/x-python",
   "name": "python",
   "nbconvert_exporter": "python",
   "pygments_lexer": "ipython3",
   "version": "3.11.10"
  },
  "widgets": {
   "application/vnd.jupyter.widget-state+json": {
    "state": {
     "0046d915033c4a348423b6830ea40858": {
      "model_module": "@jupyter-widgets/controls",
      "model_module_version": "2.0.0",
      "model_name": "HTMLModel",
      "state": {
       "layout": "IPY_MODEL_b4f77d8a066a420ea239b42487ad67a8",
       "style": "IPY_MODEL_ed97a2cfa08b44cc9cd2c61701ec5dcf",
       "value": " 952M/952M (raw) [100.0%] in 01:38 (eta: 00:00)"
      }
     },
     "0125bb61daa04b65a614cbb76148f9c7": {
      "model_module": "jupyter-leaflet",
      "model_module_version": "2.0.0",
      "model_name": "LeafletTileLayerModel",
      "state": {
       "_view_name": "ErrorWidgetView",
       "attribution": "Map data: (C) OpenStreetMap contributors | Map style: (C) waymarkedtrails.org (CC-BY-SA)",
       "error": {},
       "msg": "Failed to load model class 'LeafletTileLayerModel' from module 'jupyter-leaflet'",
       "name": "WaymarkedTrails.hiking",
       "options": [
        "attribution",
        "bounds",
        "detect_retina",
        "max_native_zoom",
        "max_zoom",
        "min_native_zoom",
        "min_zoom",
        "no_wrap",
        "tile_size",
        "tms",
        "zoom_offset"
       ],
       "url": "https://tile.waymarkedtrails.org/hiking/{z}/{x}/{y}.png"
      }
     },
     "032b31fd483f4d9b95e329748d708205": {
      "model_module": "jupyter-leaflet",
      "model_module_version": "2.0.0",
      "model_name": "LeafletTileLayerModel",
      "state": {
       "_view_name": "ErrorWidgetView",
       "attribution": "Map tiles by Stamen Design, CC BY 3.0 -- Map data (C) OpenStreetMap contributors",
       "error": {},
       "max_zoom": 20,
       "msg": "Failed to load model class 'LeafletTileLayerModel' from module 'jupyter-leaflet'",
       "name": "Stamen.TonerBackground",
       "options": [
        "attribution",
        "bounds",
        "detect_retina",
        "max_native_zoom",
        "max_zoom",
        "min_native_zoom",
        "min_zoom",
        "no_wrap",
        "tile_size",
        "tms",
        "zoom_offset"
       ],
       "url": "https://stamen-tiles-a.a.ssl.fastly.net/toner-background/{z}/{x}/{y}.png"
      }
     },
     "061206b834df45c5b146ce5a7e80ee4b": {
      "model_module": "jupyter-leaflet",
      "model_module_version": "2.0.0",
      "model_name": "LeafletTileLayerModel",
      "state": {
       "_view_name": "ErrorWidgetView",
       "attribution": "Map data: (C) OpenStreetMap contributors | Map style: (C) waymarkedtrails.org (CC-BY-SA)",
       "error": {},
       "msg": "Failed to load model class 'LeafletTileLayerModel' from module 'jupyter-leaflet'",
       "name": "WaymarkedTrails.skating",
       "options": [
        "attribution",
        "bounds",
        "detect_retina",
        "max_native_zoom",
        "max_zoom",
        "min_native_zoom",
        "min_zoom",
        "no_wrap",
        "tile_size",
        "tms",
        "zoom_offset"
       ],
       "url": "https://tile.waymarkedtrails.org/skating/{z}/{x}/{y}.png"
      }
     },
     "067668949d514fc2b95a3e02d8e3301d": {
      "model_module": "jupyter-leaflet",
      "model_module_version": "2.0.0",
      "model_name": "LeafletTileLayerModel",
      "state": {
       "_view_name": "ErrorWidgetView",
       "attribution": "(C) Stadia Maps, (C) OpenMapTiles (C) OpenStreetMap contributors",
       "error": {},
       "max_zoom": 20,
       "msg": "Failed to load model class 'LeafletTileLayerModel' from module 'jupyter-leaflet'",
       "name": "Stadia.AlidadeSmooth",
       "options": [
        "attribution",
        "bounds",
        "detect_retina",
        "max_native_zoom",
        "max_zoom",
        "min_native_zoom",
        "min_zoom",
        "no_wrap",
        "tile_size",
        "tms",
        "zoom_offset"
       ],
       "url": "https://tiles.stadiamaps.com/tiles/alidade_smooth/{z}/{x}/{y}.png"
      }
     },
     "08326bff62ff411c9c83a13dbc45542f": {
      "model_module": "jupyter-leaflet",
      "model_module_version": "2.0.0",
      "model_name": "LeafletTileLayerModel",
      "state": {
       "_view_name": "ErrorWidgetView",
       "attribution": "Kaartgegevens (C) Kadaster",
       "error": {},
       "max_zoom": 19,
       "msg": "Failed to load model class 'LeafletTileLayerModel' from module 'jupyter-leaflet'",
       "name": "nlmaps.water",
       "options": [
        "attribution",
        "bounds",
        "detect_retina",
        "max_native_zoom",
        "max_zoom",
        "min_native_zoom",
        "min_zoom",
        "no_wrap",
        "tile_size",
        "tms",
        "zoom_offset"
       ],
       "url": "https://service.pdok.nl/brt/achtergrondkaart/wmts/v2_0/water/EPSG:3857/{z}/{x}/{y}.png"
      }
     },
     "084069970cc346ba865f69c554cae447": {
      "model_module": "jupyter-leaflet",
      "model_module_version": "2.0.0",
      "model_name": "LeafletTileLayerModel",
      "state": {
       "_view_name": "ErrorWidgetView",
       "attribution": "Datenquelle: basemap.at",
       "error": {},
       "max_zoom": 19,
       "msg": "Failed to load model class 'LeafletTileLayerModel' from module 'jupyter-leaflet'",
       "name": "BasemapAT.terrain",
       "options": [
        "attribution",
        "bounds",
        "detect_retina",
        "max_native_zoom",
        "max_zoom",
        "min_native_zoom",
        "min_zoom",
        "no_wrap",
        "tile_size",
        "tms",
        "zoom_offset"
       ],
       "url": "https://maps.wien.gv.at/basemap/bmapgelaende/grau/google3857/{z}/{y}/{x}.jpeg"
      }
     },
     "08efc6359f174fa1b4cc50eb48e91970": {
      "model_module": "jupyter-leaflet",
      "model_module_version": "2.0.0",
      "model_name": "LeafletTileLayerModel",
      "state": {
       "_view_name": "ErrorWidgetView",
       "attribution": "Map tiles by <a href=\"https://labs.strava.com/heatmap\">Strava 2021</a>",
       "error": {},
       "max_zoom": 15,
       "msg": "Failed to load model class 'LeafletTileLayerModel' from module 'jupyter-leaflet'",
       "name": "Strava.Run",
       "options": [
        "attribution",
        "bounds",
        "detect_retina",
        "max_native_zoom",
        "max_zoom",
        "min_native_zoom",
        "min_zoom",
        "no_wrap",
        "tile_size",
        "tms",
        "zoom_offset"
       ],
       "url": "https://heatmap-external-a.strava.com/tiles/run/bluered/{z}/{x}/{y}.png"
      }
     },
     "095f355b0c804ce39d1a54c2f802f510": {
      "model_module": "jupyter-leaflet",
      "model_module_version": "2.0.0",
      "model_name": "LeafletTileLayerModel",
      "state": {
       "_view_name": "ErrorWidgetView",
       "attribution": "(C) OpenStreetMap contributors, Tiles style by Humanitarian OpenStreetMap Team hosted by OpenStreetMap France",
       "error": {},
       "max_zoom": 19,
       "msg": "Failed to load model class 'LeafletTileLayerModel' from module 'jupyter-leaflet'",
       "name": "OpenStreetMap.HOT",
       "options": [
        "attribution",
        "bounds",
        "detect_retina",
        "max_native_zoom",
        "max_zoom",
        "min_native_zoom",
        "min_zoom",
        "no_wrap",
        "tile_size",
        "tms",
        "zoom_offset"
       ],
       "url": "https://a.tile.openstreetmap.fr/hot/{z}/{x}/{y}.png"
      }
     },
     "09dede16c43048c98bf650c7a87a23db": {
      "model_module": "jupyter-leaflet",
      "model_module_version": "2.0.0",
      "model_name": "LeafletTileLayerModel",
      "state": {
       "_view_name": "ErrorWidgetView",
       "attribution": "Map data: (C) OpenStreetMap contributors & ODbL, (C) www.opensnowmap.org CC-BY-SA",
       "error": {},
       "msg": "Failed to load model class 'LeafletTileLayerModel' from module 'jupyter-leaflet'",
       "name": "OpenSnowMap.pistes",
       "options": [
        "attribution",
        "bounds",
        "detect_retina",
        "max_native_zoom",
        "max_zoom",
        "min_native_zoom",
        "min_zoom",
        "no_wrap",
        "tile_size",
        "tms",
        "zoom_offset"
       ],
       "url": "https://tiles.opensnowmap.org/pistes/{z}/{x}/{y}.png"
      }
     },
     "0acecc0e85bb4c03af0718c811b31d62": {
      "model_module": "jupyter-leaflet",
      "model_module_version": "2.0.0",
      "model_name": "LeafletTileLayerModel",
      "state": {
       "_view_name": "ErrorWidgetView",
       "attribution": "Map data: (C) OpenStreetMap contributors, SRTM | Map style: (C) OpenTopoMap (CC-BY-SA)",
       "error": {},
       "max_zoom": 17,
       "msg": "Failed to load model class 'LeafletTileLayerModel' from module 'jupyter-leaflet'",
       "name": "OpenTopoMap",
       "options": [
        "attribution",
        "bounds",
        "detect_retina",
        "max_native_zoom",
        "max_zoom",
        "min_native_zoom",
        "min_zoom",
        "no_wrap",
        "tile_size",
        "tms",
        "zoom_offset"
       ],
       "url": "https://a.tile.opentopomap.org/{z}/{x}/{y}.png"
      }
     },
     "0c914b22f64b4de1ba392c09cbd4d6fc": {
      "model_module": "jupyter-leaflet",
      "model_module_version": "2.0.0",
      "model_name": "LeafletTileLayerModel",
      "state": {
       "_view_name": "ErrorWidgetView",
       "attribution": "Tiles (C) Esri -- Source: Esri",
       "error": {},
       "max_zoom": 13,
       "msg": "Failed to load model class 'LeafletTileLayerModel' from module 'jupyter-leaflet'",
       "name": "Esri.WorldShadedRelief",
       "options": [
        "attribution",
        "bounds",
        "detect_retina",
        "max_native_zoom",
        "max_zoom",
        "min_native_zoom",
        "min_zoom",
        "no_wrap",
        "tile_size",
        "tms",
        "zoom_offset"
       ],
       "url": "https://server.arcgisonline.com/ArcGIS/rest/services/World_Shaded_Relief/MapServer/tile/{z}/{y}/{x}"
      }
     },
     "0cf19a46865145a69b7f7f06e4a847d3": {
      "model_module": "jupyter-leaflet",
      "model_module_version": "2.0.0",
      "model_name": "LeafletTileLayerModel",
      "state": {
       "_view_name": "ErrorWidgetView",
       "attribution": "Imagery provided by services from the Global Imagery Browse Services (GIBS), operated by the NASA/GSFC/Earth Science Data and Information System (ESDIS) with funding provided by NASA/HQ.",
       "error": {},
       "max_zoom": 12,
       "msg": "Failed to load model class 'LeafletTileLayerModel' from module 'jupyter-leaflet'",
       "name": "NASAGIBS.ASTER_GDEM_Greyscale_Shaded_Relief",
       "options": [
        "attribution",
        "bounds",
        "detect_retina",
        "max_native_zoom",
        "max_zoom",
        "min_native_zoom",
        "min_zoom",
        "no_wrap",
        "tile_size",
        "tms",
        "zoom_offset"
       ],
       "url": "https://gibs.earthdata.nasa.gov/wmts/epsg3857/best/ASTER_GDEM_Greyscale_Shaded_Relief/default/GoogleMapsCompatible_Level12/{z}/{y}/{x}.jpg"
      }
     },
     "12c3a674a2e94340b8e1ff99bf28794e": {
      "model_module": "jupyter-leaflet",
      "model_module_version": "2.0.0",
      "model_name": "LeafletWMSLayerModel",
      "state": {
       "_view_name": "ErrorWidgetView",
       "attribution": "USGS",
       "crs": {
        "custom": false,
        "name": "EPSG3857"
       },
       "error": {},
       "format": "image/png",
       "layers": "33DEPElevation:Hillshade Elevation Tinted",
       "msg": "Failed to load model class 'LeafletWMSLayerModel' from module 'jupyter-leaflet'",
       "name": "USGS 3DEP Elevation",
       "options": [
        "attribution",
        "bounds",
        "detect_retina",
        "format",
        "layers",
        "max_native_zoom",
        "max_zoom",
        "min_native_zoom",
        "min_zoom",
        "no_wrap",
        "styles",
        "tile_size",
        "tms",
        "transparent",
        "uppercase",
        "zoom_offset"
       ],
       "transparent": true,
       "url": "https://elevation.nationalmap.gov/arcgis/services/3DEPElevation/ImageServer/WMSServer?"
      }
     },
     "1c7ab1e47c3545ccb789886835bcbdb4": {
      "model_module": "jupyter-leaflet",
      "model_module_version": "2.0.0",
      "model_name": "LeafletTileLayerModel",
      "state": {
       "_view_name": "ErrorWidgetView",
       "attribution": "Google",
       "error": {},
       "max_zoom": 22,
       "msg": "Failed to load model class 'LeafletTileLayerModel' from module 'jupyter-leaflet'",
       "name": "Google Satellite",
       "options": [
        "attribution",
        "bounds",
        "detect_retina",
        "max_native_zoom",
        "max_zoom",
        "min_native_zoom",
        "min_zoom",
        "no_wrap",
        "tile_size",
        "tms",
        "zoom_offset"
       ],
       "url": "https://mt1.google.com/vt/lyrs=y&x={x}&y={y}&z={z}"
      }
     },
     "1df0fea9c4664a428c21b5f02c39b04f": {
      "model_module": "jupyter-leaflet",
      "model_module_version": "2.0.0",
      "model_name": "LeafletTileLayerModel",
      "state": {
       "_view_name": "ErrorWidgetView",
       "attribution": "Datenquelle: basemap.at",
       "error": {},
       "max_zoom": 20,
       "msg": "Failed to load model class 'LeafletTileLayerModel' from module 'jupyter-leaflet'",
       "name": "BasemapAT.orthofoto",
       "options": [
        "attribution",
        "bounds",
        "detect_retina",
        "max_native_zoom",
        "max_zoom",
        "min_native_zoom",
        "min_zoom",
        "no_wrap",
        "tile_size",
        "tms",
        "zoom_offset"
       ],
       "url": "https://maps.wien.gv.at/basemap/bmaporthofoto30cm/normal/google3857/{z}/{y}/{x}.jpeg"
      }
     },
     "1df6a11c2c92426e9e6eff752885db76": {
      "model_module": "jupyter-leaflet",
      "model_module_version": "2.0.0",
      "model_name": "LeafletTileLayerModel",
      "state": {
       "_view_name": "ErrorWidgetView",
       "attribution": "(C) OpenStreetMap contributors (C) CARTO",
       "error": {},
       "max_zoom": 20,
       "msg": "Failed to load model class 'LeafletTileLayerModel' from module 'jupyter-leaflet'",
       "name": "CartoDB.DarkMatterNoLabels",
       "options": [
        "attribution",
        "bounds",
        "detect_retina",
        "max_native_zoom",
        "max_zoom",
        "min_native_zoom",
        "min_zoom",
        "no_wrap",
        "tile_size",
        "tms",
        "zoom_offset"
       ],
       "url": "https://a.basemaps.cartocdn.com/dark_nolabels/{z}/{x}/{y}.png"
      }
     },
     "1ffa225d3fec49188ff4cf9aea4aca99": {
      "model_module": "jupyter-leaflet",
      "model_module_version": "2.0.0",
      "model_name": "LeafletTileLayerModel",
      "state": {
       "_view_name": "ErrorWidgetView",
       "attribution": "(C) OpenStreetMap contributors, Tiles courtesy of Breton OpenStreetMap Team",
       "error": {},
       "max_zoom": 19,
       "msg": "Failed to load model class 'LeafletTileLayerModel' from module 'jupyter-leaflet'",
       "name": "OpenStreetMap.BZH",
       "options": [
        "attribution",
        "bounds",
        "detect_retina",
        "max_native_zoom",
        "max_zoom",
        "min_native_zoom",
        "min_zoom",
        "no_wrap",
        "tile_size",
        "tms",
        "zoom_offset"
       ],
       "url": "https://tile.openstreetmap.bzh/br/{z}/{x}/{y}.png"
      }
     },
     "21e9e222954f445fbd5cde429355473e": {
      "model_module": "jupyter-leaflet",
      "model_module_version": "2.0.0",
      "model_name": "LeafletTileLayerModel",
      "state": {
       "_view_name": "ErrorWidgetView",
       "attribution": "Tiles &copy; Esri &mdash; Esri, DeLorme, NAVTEQ, TomTom, Intermap, iPC, USGS, FAO, NPS, NRCAN, GeoBase, Kadaster NL, Ordnance Survey, Esri Japan, METI, Esri China (Hong Kong), and the GIS User Community",
       "error": {},
       "max_zoom": 24,
       "msg": "Failed to load model class 'LeafletTileLayerModel' from module 'jupyter-leaflet'",
       "name": "Esri.ArcticOceanBase",
       "options": [
        "attribution",
        "bounds",
        "detect_retina",
        "max_native_zoom",
        "max_zoom",
        "min_native_zoom",
        "min_zoom",
        "no_wrap",
        "tile_size",
        "tms",
        "zoom_offset"
       ],
       "url": "http://server.arcgisonline.com/ArcGIS/rest/services/Polar/Arctic_Ocean_Base/MapServer/tile/{z}/{y}/{x}"
      }
     },
     "224ab96e68964f69b1a6ce9a5f372728": {
      "model_module": "@jupyter-widgets/controls",
      "model_module_version": "2.0.0",
      "model_name": "HTMLStyleModel",
      "state": {
       "description_width": "",
       "font_size": null,
       "text_color": null
      }
     },
     "26a3fc6957c3423894695768cb83610a": {
      "model_module": "jupyter-leaflet",
      "model_module_version": "2.0.0",
      "model_name": "LeafletTileLayerModel",
      "state": {
       "_view_name": "ErrorWidgetView",
       "attribution": "(C) OpenStreetMap contributors",
       "error": {},
       "max_zoom": 15,
       "msg": "Failed to load model class 'LeafletTileLayerModel' from module 'jupyter-leaflet'",
       "name": "HikeBike.HillShading",
       "options": [
        "attribution",
        "bounds",
        "detect_retina",
        "max_native_zoom",
        "max_zoom",
        "min_native_zoom",
        "min_zoom",
        "no_wrap",
        "tile_size",
        "tms",
        "zoom_offset"
       ],
       "url": "https://tiles.wmflabs.org/hillshading/{z}/{x}/{y}.png"
      }
     },
     "2787f3827cac43e3b2a41f4627c7e4f2": {
      "model_module": "jupyter-leaflet",
      "model_module_version": "2.0.0",
      "model_name": "LeafletTileLayerModel",
      "state": {
       "_view_name": "ErrorWidgetView",
       "attribution": "(C) OpenStreetMap contributors (C) CARTO",
       "error": {},
       "max_zoom": 20,
       "msg": "Failed to load model class 'LeafletTileLayerModel' from module 'jupyter-leaflet'",
       "name": "CartoDB.PositronOnlyLabels",
       "options": [
        "attribution",
        "bounds",
        "detect_retina",
        "max_native_zoom",
        "max_zoom",
        "min_native_zoom",
        "min_zoom",
        "no_wrap",
        "tile_size",
        "tms",
        "zoom_offset"
       ],
       "url": "https://a.basemaps.cartocdn.com/light_only_labels/{z}/{x}/{y}.png"
      }
     },
     "282691769ce14824b63a2f315ba81619": {
      "model_module": "@jupyter-widgets/base",
      "model_module_version": "2.0.0",
      "model_name": "LayoutModel",
      "state": {
       "flex": "2"
      }
     },
     "2874964f834a4bca9d20ea2bd48e68f1": {
      "model_module": "jupyter-leaflet",
      "model_module_version": "2.0.0",
      "model_name": "LeafletWMSLayerModel",
      "state": {
       "_view_name": "ErrorWidgetView",
       "attribution": "MRLC",
       "crs": {
        "custom": false,
        "name": "EPSG3857"
       },
       "error": {},
       "format": "image/png",
       "layers": "NLCD_2008_Land_Cover_L48",
       "msg": "Failed to load model class 'LeafletWMSLayerModel' from module 'jupyter-leaflet'",
       "name": "NLCD 2008 CONUS Land Cover",
       "options": [
        "attribution",
        "bounds",
        "detect_retina",
        "format",
        "layers",
        "max_native_zoom",
        "max_zoom",
        "min_native_zoom",
        "min_zoom",
        "no_wrap",
        "styles",
        "tile_size",
        "tms",
        "transparent",
        "uppercase",
        "zoom_offset"
       ],
       "transparent": true,
       "url": "https://www.mrlc.gov/geoserver/mrlc_display/NLCD_2008_Land_Cover_L48/wms?"
      }
     },
     "28fe9665227b4550b6c767ec8cb0bcbc": {
      "model_module": "jupyter-leaflet",
      "model_module_version": "2.0.0",
      "model_name": "LeafletTileLayerModel",
      "state": {
       "_view_name": "ErrorWidgetView",
       "attribution": "Google",
       "error": {},
       "max_zoom": 22,
       "msg": "Failed to load model class 'LeafletTileLayerModel' from module 'jupyter-leaflet'",
       "name": "Google Satellite",
       "options": [
        "attribution",
        "bounds",
        "detect_retina",
        "max_native_zoom",
        "max_zoom",
        "min_native_zoom",
        "min_zoom",
        "no_wrap",
        "tile_size",
        "tms",
        "zoom_offset"
       ],
       "url": "https://mt1.google.com/vt/lyrs=s&x={x}&y={y}&z={z}"
      }
     },
     "290e3fc6d6dc444ea468bf850dec0023": {
      "model_module": "jupyter-leaflet",
      "model_module_version": "2.0.0",
      "model_name": "LeafletWMSLayerModel",
      "state": {
       "_view_name": "ErrorWidgetView",
       "attribution": "USGS",
       "crs": {
        "custom": false,
        "name": "EPSG3857"
       },
       "error": {},
       "format": "image/png",
       "layers": "USGSNAIPImagery:NaturalColor",
       "msg": "Failed to load model class 'LeafletWMSLayerModel' from module 'jupyter-leaflet'",
       "name": "USGS NAIP Imagery",
       "options": [
        "attribution",
        "bounds",
        "detect_retina",
        "format",
        "layers",
        "max_native_zoom",
        "max_zoom",
        "min_native_zoom",
        "min_zoom",
        "no_wrap",
        "styles",
        "tile_size",
        "tms",
        "transparent",
        "uppercase",
        "zoom_offset"
       ],
       "transparent": true,
       "url": "https://imagery.nationalmap.gov/arcgis/services/USGSNAIPImagery/ImageServer/WMSServer?"
      }
     },
     "294c0807169c4e28b8b7df90c9ba2b06": {
      "model_module": "@jupyter-widgets/controls",
      "model_module_version": "2.0.0",
      "model_name": "HTMLStyleModel",
      "state": {
       "description_width": "",
       "font_size": null,
       "text_color": null
      }
     },
     "2b3574dada094ef284be9b66fff7eee6": {
      "model_module": "jupyter-leaflet",
      "model_module_version": "2.0.0",
      "model_name": "LeafletTileLayerModel",
      "state": {
       "_view_name": "ErrorWidgetView",
       "attribution": "Tiles courtesy of the U.S. Geological Survey",
       "error": {},
       "max_zoom": 20,
       "msg": "Failed to load model class 'LeafletTileLayerModel' from module 'jupyter-leaflet'",
       "name": "USGS.USImageryTopo",
       "options": [
        "attribution",
        "bounds",
        "detect_retina",
        "max_native_zoom",
        "max_zoom",
        "min_native_zoom",
        "min_zoom",
        "no_wrap",
        "tile_size",
        "tms",
        "zoom_offset"
       ],
       "url": "https://basemap.nationalmap.gov/arcgis/rest/services/USGSImageryTopo/MapServer/tile/{z}/{y}/{x}"
      }
     },
     "2bdef64ac25f43b0857a96a1a3a86eaf": {
      "model_module": "@jupyter-widgets/controls",
      "model_module_version": "2.0.0",
      "model_name": "HTMLStyleModel",
      "state": {
       "description_width": "",
       "font_size": null,
       "text_color": null
      }
     },
     "2e476ebf29d945ff99f908e0f8855eb2": {
      "model_module": "jupyter-leaflet",
      "model_module_version": "2.0.0",
      "model_name": "LeafletTileLayerModel",
      "state": {
       "_view_name": "ErrorWidgetView",
       "attribution": "Justice Map",
       "error": {},
       "max_zoom": 22,
       "msg": "Failed to load model class 'LeafletTileLayerModel' from module 'jupyter-leaflet'",
       "name": "JusticeMap.white",
       "options": [
        "attribution",
        "bounds",
        "detect_retina",
        "max_native_zoom",
        "max_zoom",
        "min_native_zoom",
        "min_zoom",
        "no_wrap",
        "tile_size",
        "tms",
        "zoom_offset"
       ],
       "url": "https://www.justicemap.org/tile/county/white/{z}/{x}/{y}.png"
      }
     },
     "2f1f0479d85847e78fa6ff403c348daf": {
      "model_module": "@jupyter-widgets/base",
      "model_module_version": "2.0.0",
      "model_name": "LayoutModel",
      "state": {}
     },
     "32e0b97891b3498b9da04c6119a2cba3": {
      "model_module": "jupyter-leaflet",
      "model_module_version": "2.0.0",
      "model_name": "LeafletTileLayerModel",
      "state": {
       "_view_name": "ErrorWidgetView",
       "attribution": "Map memomaps.de CC-BY-SA, map data (C) OpenStreetMap contributors",
       "error": {},
       "msg": "Failed to load model class 'LeafletTileLayerModel' from module 'jupyter-leaflet'",
       "name": "OPNVKarte",
       "options": [
        "attribution",
        "bounds",
        "detect_retina",
        "max_native_zoom",
        "max_zoom",
        "min_native_zoom",
        "min_zoom",
        "no_wrap",
        "tile_size",
        "tms",
        "zoom_offset"
       ],
       "url": "https://tileserver.memomaps.de/tilegen/{z}/{x}/{y}.png"
      }
     },
     "35aab816bc7f4b40b9e644c544169831": {
      "model_module": "jupyter-leaflet",
      "model_module_version": "2.0.0",
      "model_name": "LeafletTileLayerModel",
      "state": {
       "_view_name": "ErrorWidgetView",
       "attribution": "Map tiles by Stamen Design, CC BY 3.0 -- Map data (C) OpenStreetMap contributors",
       "error": {},
       "max_zoom": 20,
       "msg": "Failed to load model class 'LeafletTileLayerModel' from module 'jupyter-leaflet'",
       "name": "Stamen.TonerHybrid",
       "options": [
        "attribution",
        "bounds",
        "detect_retina",
        "max_native_zoom",
        "max_zoom",
        "min_native_zoom",
        "min_zoom",
        "no_wrap",
        "tile_size",
        "tms",
        "zoom_offset"
       ],
       "url": "https://stamen-tiles-a.a.ssl.fastly.net/toner-hybrid/{z}/{x}/{y}.png"
      }
     },
     "36dc0fc31e054e75ae74612975599432": {
      "model_module": "jupyter-leaflet",
      "model_module_version": "2.0.0",
      "model_name": "LeafletTileLayerModel",
      "state": {
       "_view_name": "ErrorWidgetView",
       "attribution": "© swisstopo",
       "error": {},
       "msg": "Failed to load model class 'LeafletTileLayerModel' from module 'jupyter-leaflet'",
       "name": "SwissFederalGeoportal.NationalMapGrey",
       "options": [
        "attribution",
        "bounds",
        "detect_retina",
        "max_native_zoom",
        "max_zoom",
        "min_native_zoom",
        "min_zoom",
        "no_wrap",
        "tile_size",
        "tms",
        "zoom_offset"
       ],
       "url": "https://wmts.geo.admin.ch/1.0.0/ch.swisstopo.pixelkarte-grau/default/current/3857/{z}/{x}/{y}.jpeg"
      }
     },
     "38bcc130170243d4bbbd5a098ae37edd": {
      "model_module": "jupyter-leaflet",
      "model_module_version": "2.0.0",
      "model_name": "LeafletWMSLayerModel",
      "state": {
       "_view_name": "ErrorWidgetView",
       "attribution": "MRLC",
       "crs": {
        "custom": false,
        "name": "EPSG3857"
       },
       "error": {},
       "format": "image/png",
       "layers": "NLCD_2019_Land_Cover_L48",
       "msg": "Failed to load model class 'LeafletWMSLayerModel' from module 'jupyter-leaflet'",
       "name": "NLCD 2019 CONUS Land Cover",
       "options": [
        "attribution",
        "bounds",
        "detect_retina",
        "format",
        "layers",
        "max_native_zoom",
        "max_zoom",
        "min_native_zoom",
        "min_zoom",
        "no_wrap",
        "styles",
        "tile_size",
        "tms",
        "transparent",
        "uppercase",
        "zoom_offset"
       ],
       "transparent": true,
       "url": "https://www.mrlc.gov/geoserver/mrlc_display/NLCD_2019_Land_Cover_L48/wms?"
      }
     },
     "3b82404c6478484a9a3649640e8e6aa9": {
      "model_module": "jupyter-leaflet",
      "model_module_version": "2.0.0",
      "model_name": "LeafletTileLayerModel",
      "state": {
       "_view_name": "ErrorWidgetView",
       "attribution": "![](https://docs.onemap.sg/maps/images/oneMap64-01.png) New OneMap | Map data (C) contributors, Singapore Land Authority",
       "error": {},
       "msg": "Failed to load model class 'LeafletTileLayerModel' from module 'jupyter-leaflet'",
       "name": "OneMapSG.Default",
       "options": [
        "attribution",
        "bounds",
        "detect_retina",
        "max_native_zoom",
        "max_zoom",
        "min_native_zoom",
        "min_zoom",
        "no_wrap",
        "tile_size",
        "tms",
        "zoom_offset"
       ],
       "url": "https://maps-a.onemap.sg/v3/Default/{z}/{x}/{y}.png"
      }
     },
     "3ce24f92bc964207a94334cb1d54c0b5": {
      "model_module": "jupyter-leaflet",
      "model_module_version": "2.0.0",
      "model_name": "LeafletTileLayerModel",
      "state": {
       "_view_name": "ErrorWidgetView",
       "attribution": "Map tiles by <a href=\"https://labs.strava.com/heatmap\">Strava 2021</a>",
       "error": {},
       "max_zoom": 15,
       "msg": "Failed to load model class 'LeafletTileLayerModel' from module 'jupyter-leaflet'",
       "name": "Strava.All",
       "options": [
        "attribution",
        "bounds",
        "detect_retina",
        "max_native_zoom",
        "max_zoom",
        "min_native_zoom",
        "min_zoom",
        "no_wrap",
        "tile_size",
        "tms",
        "zoom_offset"
       ],
       "url": "https://heatmap-external-a.strava.com/tiles/all/hot/{z}/{x}/{y}.png"
      }
     },
     "4056fb73d5d0431b9b10676f86088753": {
      "model_module": "jupyter-leaflet",
      "model_module_version": "2.0.0",
      "model_name": "LeafletTileLayerModel",
      "state": {
       "_view_name": "ErrorWidgetView",
       "attribution": "Justice Map",
       "error": {},
       "max_zoom": 22,
       "msg": "Failed to load model class 'LeafletTileLayerModel' from module 'jupyter-leaflet'",
       "name": "JusticeMap.hispanic",
       "options": [
        "attribution",
        "bounds",
        "detect_retina",
        "max_native_zoom",
        "max_zoom",
        "min_native_zoom",
        "min_zoom",
        "no_wrap",
        "tile_size",
        "tms",
        "zoom_offset"
       ],
       "url": "https://www.justicemap.org/tile/county/hispanic/{z}/{x}/{y}.png"
      }
     },
     "418f388800094c9399e9b7947704d2f6": {
      "model_module": "jupyter-leaflet",
      "model_module_version": "2.0.0",
      "model_name": "LeafletTileLayerModel",
      "state": {
       "_view_name": "ErrorWidgetView",
       "attribution": "(C) OpenStreetMap contributors",
       "error": {},
       "max_zoom": 19,
       "msg": "Failed to load model class 'LeafletTileLayerModel' from module 'jupyter-leaflet'",
       "name": "HikeBike.HikeBike",
       "options": [
        "attribution",
        "bounds",
        "detect_retina",
        "max_native_zoom",
        "max_zoom",
        "min_native_zoom",
        "min_zoom",
        "no_wrap",
        "tile_size",
        "tms",
        "zoom_offset"
       ],
       "url": "https://tiles.wmflabs.org/hikebike/{z}/{x}/{y}.png"
      }
     },
     "446f03cdf1e2417e8a4a4c89a2aa268f": {
      "model_module": "jupyter-leaflet",
      "model_module_version": "2.0.0",
      "model_name": "LeafletTileLayerModel",
      "state": {
       "_view_name": "ErrorWidgetView",
       "attribution": "Kaartgegevens (C) Kadaster",
       "error": {},
       "max_zoom": 19,
       "msg": "Failed to load model class 'LeafletTileLayerModel' from module 'jupyter-leaflet'",
       "name": "nlmaps.luchtfoto",
       "options": [
        "attribution",
        "bounds",
        "detect_retina",
        "max_native_zoom",
        "max_zoom",
        "min_native_zoom",
        "min_zoom",
        "no_wrap",
        "tile_size",
        "tms",
        "zoom_offset"
       ],
       "url": "https://service.pdok.nl/hwh/luchtfotorgb/wmts/v1_0/Actueel_ortho25/EPSG:3857/{z}/{x}/{y}.jpeg"
      }
     },
     "452fc79cd6814111a7a51420d91daf98": {
      "model_module": "jupyter-leaflet",
      "model_module_version": "2.0.0",
      "model_name": "LeafletTileLayerModel",
      "state": {
       "_view_name": "ErrorWidgetView",
       "attribution": "Datenquelle: basemap.at",
       "error": {},
       "max_zoom": 19,
       "msg": "Failed to load model class 'LeafletTileLayerModel' from module 'jupyter-leaflet'",
       "name": "BasemapAT.surface",
       "options": [
        "attribution",
        "bounds",
        "detect_retina",
        "max_native_zoom",
        "max_zoom",
        "min_native_zoom",
        "min_zoom",
        "no_wrap",
        "tile_size",
        "tms",
        "zoom_offset"
       ],
       "url": "https://maps.wien.gv.at/basemap/bmapoberflaeche/grau/google3857/{z}/{y}/{x}.jpeg"
      }
     },
     "46ddb700127d46cb913c11081238a20b": {
      "model_module": "jupyter-leaflet",
      "model_module_version": "2.0.0",
      "model_name": "LeafletWMSLayerModel",
      "state": {
       "_view_name": "ErrorWidgetView",
       "attribution": "ESA",
       "crs": {
        "custom": false,
        "name": "EPSG3857"
       },
       "error": {},
       "format": "image/png",
       "layers": "WORLDCOVER_2020_S2_TCC",
       "msg": "Failed to load model class 'LeafletWMSLayerModel' from module 'jupyter-leaflet'",
       "name": "ESA Worldcover 2020 S2 TCC",
       "options": [
        "attribution",
        "bounds",
        "detect_retina",
        "format",
        "layers",
        "max_native_zoom",
        "max_zoom",
        "min_native_zoom",
        "min_zoom",
        "no_wrap",
        "styles",
        "tile_size",
        "tms",
        "transparent",
        "uppercase",
        "zoom_offset"
       ],
       "transparent": true,
       "url": "https://services.terrascope.be/wms/v2"
      }
     },
     "4839ed894ec54c83b892c254083c29ea": {
      "model_module": "jupyter-leaflet",
      "model_module_version": "2.0.0",
      "model_name": "LeafletTileLayerModel",
      "state": {
       "_view_name": "ErrorWidgetView",
       "attribution": "Imagery provided by services from the Global Imagery Browse Services (GIBS), operated by the NASA/GSFC/Earth Science Data and Information System (ESDIS) with funding provided by NASA/HQ.",
       "error": {},
       "max_zoom": 5,
       "msg": "Failed to load model class 'LeafletTileLayerModel' from module 'jupyter-leaflet'",
       "name": "NASAGIBS.BlueMarble3413",
       "options": [
        "attribution",
        "bounds",
        "detect_retina",
        "max_native_zoom",
        "max_zoom",
        "min_native_zoom",
        "min_zoom",
        "no_wrap",
        "tile_size",
        "tms",
        "zoom_offset"
       ],
       "url": "https://gibs.earthdata.nasa.gov/wmts/epsg3413/best/BlueMarble_NextGeneration/default/EPSG3413_500m/{z}/{y}/{x}.jpeg"
      }
     },
     "4d1d69aba4ff4392a0280303cede128c": {
      "model_module": "@jupyter-widgets/base",
      "model_module_version": "2.0.0",
      "model_name": "LayoutModel",
      "state": {}
     },
     "4d5e1d20643c4d2b905a80dd514d7f98": {
      "model_module": "jupyter-leaflet",
      "model_module_version": "2.0.0",
      "model_name": "LeafletTileLayerModel",
      "state": {
       "_view_name": "ErrorWidgetView",
       "attribution": "(C) OpenStreetMap France | (C) OpenStreetMap contributors",
       "error": {},
       "max_zoom": 20,
       "msg": "Failed to load model class 'LeafletTileLayerModel' from module 'jupyter-leaflet'",
       "name": "OpenStreetMap.France",
       "options": [
        "attribution",
        "bounds",
        "detect_retina",
        "max_native_zoom",
        "max_zoom",
        "min_native_zoom",
        "min_zoom",
        "no_wrap",
        "tile_size",
        "tms",
        "zoom_offset"
       ],
       "url": "https://a.tile.openstreetmap.fr/osmfr/{z}/{x}/{y}.png"
      }
     },
     "4db0c982b9664d938afe0987e22d1f2d": {
      "model_module": "jupyter-leaflet",
      "model_module_version": "2.0.0",
      "model_name": "LeafletTileLayerModel",
      "state": {
       "_view_name": "ErrorWidgetView",
       "attribution": "© swisstopo",
       "error": {},
       "msg": "Failed to load model class 'LeafletTileLayerModel' from module 'jupyter-leaflet'",
       "name": "SwissFederalGeoportal.NationalMapColor",
       "options": [
        "attribution",
        "bounds",
        "detect_retina",
        "max_native_zoom",
        "max_zoom",
        "min_native_zoom",
        "min_zoom",
        "no_wrap",
        "tile_size",
        "tms",
        "zoom_offset"
       ],
       "url": "https://wmts.geo.admin.ch/1.0.0/ch.swisstopo.pixelkarte-farbe/default/current/3857/{z}/{x}/{y}.jpeg"
      }
     },
     "51a10f78b62b4b7095d70850641d2a0d": {
      "model_module": "jupyter-leaflet",
      "model_module_version": "2.0.0",
      "model_name": "LeafletTileLayerModel",
      "state": {
       "_view_name": "ErrorWidgetView",
       "attribution": "Map tiles by Stamen Design, CC BY 3.0 -- Map data (C) OpenStreetMap contributors",
       "error": {},
       "max_zoom": 20,
       "msg": "Failed to load model class 'LeafletTileLayerModel' from module 'jupyter-leaflet'",
       "name": "Stamen.TonerLines",
       "options": [
        "attribution",
        "bounds",
        "detect_retina",
        "max_native_zoom",
        "max_zoom",
        "min_native_zoom",
        "min_zoom",
        "no_wrap",
        "tile_size",
        "tms",
        "zoom_offset"
       ],
       "url": "https://stamen-tiles-a.a.ssl.fastly.net/toner-lines/{z}/{x}/{y}.png"
      }
     },
     "53a8023e29fc436987892b9f8048e237": {
      "model_module": "jupyter-leaflet",
      "model_module_version": "2.0.0",
      "model_name": "LeafletTileLayerModel",
      "state": {
       "_view_name": "ErrorWidgetView",
       "attribution": "Tiles (C) Esri -- National Geographic, Esri, DeLorme, NAVTEQ, UNEP-WCMC, USGS, NASA, ESA, METI, NRCAN, GEBCO, NOAA, iPC",
       "error": {},
       "max_zoom": 16,
       "msg": "Failed to load model class 'LeafletTileLayerModel' from module 'jupyter-leaflet'",
       "name": "Esri.NatGeoWorldMap",
       "options": [
        "attribution",
        "bounds",
        "detect_retina",
        "max_native_zoom",
        "max_zoom",
        "min_native_zoom",
        "min_zoom",
        "no_wrap",
        "tile_size",
        "tms",
        "zoom_offset"
       ],
       "url": "https://server.arcgisonline.com/ArcGIS/rest/services/NatGeo_World_Map/MapServer/tile/{z}/{y}/{x}"
      }
     },
     "5533b4a4b7fb4f8fa11aeff65bfa2a13": {
      "model_module": "@jupyter-widgets/base",
      "model_module_version": "2.0.0",
      "model_name": "LayoutModel",
      "state": {
       "flex": "2"
      }
     },
     "5f71c27b5113446da777d1a6232d3a9f": {
      "model_module": "jupyter-leaflet",
      "model_module_version": "2.0.0",
      "model_name": "LeafletTileLayerModel",
      "state": {
       "_view_name": "ErrorWidgetView",
       "attribution": "Map data: (C) OpenStreetMap contributors | Map style: (C) waymarkedtrails.org (CC-BY-SA)",
       "error": {},
       "msg": "Failed to load model class 'LeafletTileLayerModel' from module 'jupyter-leaflet'",
       "name": "WaymarkedTrails.riding",
       "options": [
        "attribution",
        "bounds",
        "detect_retina",
        "max_native_zoom",
        "max_zoom",
        "min_native_zoom",
        "min_zoom",
        "no_wrap",
        "tile_size",
        "tms",
        "zoom_offset"
       ],
       "url": "https://tile.waymarkedtrails.org/riding/{z}/{x}/{y}.png"
      }
     },
     "5f739070e9e44349a00062eb6ee70076": {
      "model_module": "jupyter-leaflet",
      "model_module_version": "2.0.0",
      "model_name": "LeafletWMSLayerModel",
      "state": {
       "_view_name": "ErrorWidgetView",
       "attribution": "ESA",
       "crs": {
        "custom": false,
        "name": "EPSG3857"
       },
       "error": {},
       "format": "image/png",
       "layers": "WORLDCOVER_2020_MAP",
       "msg": "Failed to load model class 'LeafletWMSLayerModel' from module 'jupyter-leaflet'",
       "name": "ESA Worldcover 2020",
       "options": [
        "attribution",
        "bounds",
        "detect_retina",
        "format",
        "layers",
        "max_native_zoom",
        "max_zoom",
        "min_native_zoom",
        "min_zoom",
        "no_wrap",
        "styles",
        "tile_size",
        "tms",
        "transparent",
        "uppercase",
        "zoom_offset"
       ],
       "transparent": true,
       "url": "https://services.terrascope.be/wms/v2"
      }
     },
     "607979b068a84a60815b6c1300f44bcb": {
      "model_module": "@jupyter-widgets/base",
      "model_module_version": "2.0.0",
      "model_name": "LayoutModel",
      "state": {
       "width": "500px"
      }
     },
     "629ce9d0f238431593663d4367617f6c": {
      "model_module": "jupyter-leaflet",
      "model_module_version": "2.0.0",
      "model_name": "LeafletTileLayerModel",
      "state": {
       "_view_name": "ErrorWidgetView",
       "attribution": "Map tiles by Stamen Design, CC BY 3.0 -- Map data (C) OpenStreetMap contributors",
       "error": {},
       "max_zoom": 20,
       "msg": "Failed to load model class 'LeafletTileLayerModel' from module 'jupyter-leaflet'",
       "name": "Stamen.Toner",
       "options": [
        "attribution",
        "bounds",
        "detect_retina",
        "max_native_zoom",
        "max_zoom",
        "min_native_zoom",
        "min_zoom",
        "no_wrap",
        "tile_size",
        "tms",
        "zoom_offset"
       ],
       "url": "https://stamen-tiles-a.a.ssl.fastly.net/toner/{z}/{x}/{y}.png"
      }
     },
     "63a72a3c250f4272b10ecec2d1266a6d": {
      "model_module": "jupyter-leaflet",
      "model_module_version": "2.0.0",
      "model_name": "LeafletTileLayerModel",
      "state": {
       "_view_name": "ErrorWidgetView",
       "attribution": "Map tiles by Stamen Design, CC BY 3.0 -- Map data (C) OpenStreetMap contributors",
       "error": {},
       "max_zoom": 20,
       "msg": "Failed to load model class 'LeafletTileLayerModel' from module 'jupyter-leaflet'",
       "name": "Stamen.TopOSMRelief",
       "options": [
        "attribution",
        "bounds",
        "detect_retina",
        "max_native_zoom",
        "max_zoom",
        "min_native_zoom",
        "min_zoom",
        "no_wrap",
        "tile_size",
        "tms",
        "zoom_offset"
       ],
       "url": "https://stamen-tiles-a.a.ssl.fastly.net/toposm-color-relief/{z}/{x}/{y}.jpg"
      }
     },
     "66552ea7b1a64ab9afd05f45e084447f": {
      "model_module": "jupyter-leaflet",
      "model_module_version": "2.0.0",
      "model_name": "LeafletTileLayerModel",
      "state": {
       "_view_name": "ErrorWidgetView",
       "attribution": "Map tiles by Stamen Design, CC BY 3.0 -- Map data (C) OpenStreetMap contributors",
       "error": {},
       "msg": "Failed to load model class 'LeafletTileLayerModel' from module 'jupyter-leaflet'",
       "name": "Stamen.Terrain",
       "options": [
        "attribution",
        "bounds",
        "detect_retina",
        "max_native_zoom",
        "max_zoom",
        "min_native_zoom",
        "min_zoom",
        "no_wrap",
        "tile_size",
        "tms",
        "zoom_offset"
       ],
       "url": "https://stamen-tiles-a.a.ssl.fastly.net/terrain/{z}/{x}/{y}.png"
      }
     },
     "66635eb0980d4e3290c7599b79b8b881": {
      "model_module": "jupyter-leaflet",
      "model_module_version": "2.0.0",
      "model_name": "LeafletTileLayerModel",
      "state": {
       "_view_name": "ErrorWidgetView",
       "attribution": "Map data: (C) OpenStreetMap contributors | Map style: (C) SafeCast (CC-BY-SA)",
       "error": {},
       "max_zoom": 16,
       "msg": "Failed to load model class 'LeafletTileLayerModel' from module 'jupyter-leaflet'",
       "name": "SafeCast",
       "options": [
        "attribution",
        "bounds",
        "detect_retina",
        "max_native_zoom",
        "max_zoom",
        "min_native_zoom",
        "min_zoom",
        "no_wrap",
        "tile_size",
        "tms",
        "zoom_offset"
       ],
       "url": "https://s3.amazonaws.com/te512.safecast.org/{z}/{x}/{y}.png"
      }
     },
     "676d2c8d301e42a2873c4fa597d1e52c": {
      "model_module": "jupyter-leaflet",
      "model_module_version": "2.0.0",
      "model_name": "LeafletWMSLayerModel",
      "state": {
       "_view_name": "ErrorWidgetView",
       "attribution": "MRLC",
       "crs": {
        "custom": false,
        "name": "EPSG3857"
       },
       "error": {},
       "format": "image/png",
       "layers": "NLCD_2004_Land_Cover_L48",
       "msg": "Failed to load model class 'LeafletWMSLayerModel' from module 'jupyter-leaflet'",
       "name": "NLCD 2004 CONUS Land Cover",
       "options": [
        "attribution",
        "bounds",
        "detect_retina",
        "format",
        "layers",
        "max_native_zoom",
        "max_zoom",
        "min_native_zoom",
        "min_zoom",
        "no_wrap",
        "styles",
        "tile_size",
        "tms",
        "transparent",
        "uppercase",
        "zoom_offset"
       ],
       "transparent": true,
       "url": "https://www.mrlc.gov/geoserver/mrlc_display/NLCD_2004_Land_Cover_L48/wms?"
      }
     },
     "6a0e86c2083d47a0a1271527e58e3b13": {
      "model_module": "jupyter-leaflet",
      "model_module_version": "2.0.0",
      "model_name": "LeafletTileLayerModel",
      "state": {
       "_view_name": "ErrorWidgetView",
       "attribution": "Datenquelle: basemap.at",
       "error": {},
       "max_zoom": 19,
       "msg": "Failed to load model class 'LeafletTileLayerModel' from module 'jupyter-leaflet'",
       "name": "BasemapAT.grau",
       "options": [
        "attribution",
        "bounds",
        "detect_retina",
        "max_native_zoom",
        "max_zoom",
        "min_native_zoom",
        "min_zoom",
        "no_wrap",
        "tile_size",
        "tms",
        "zoom_offset"
       ],
       "url": "https://maps.wien.gv.at/basemap/bmapgrau/normal/google3857/{z}/{y}/{x}.png"
      }
     },
     "6a93b9d2ac5745d9a1503abdd0097976": {
      "model_module": "@jupyter-widgets/controls",
      "model_module_version": "2.0.0",
      "model_name": "FloatProgressModel",
      "state": {
       "bar_style": "success",
       "layout": "IPY_MODEL_282691769ce14824b63a2f315ba81619",
       "max": 951960960,
       "style": "IPY_MODEL_8c90c2880d7546b1809089f8ebbf5e18",
       "value": 951960960
      }
     },
     "6acf7883b1004efdb5571c4e4d346d0f": {
      "model_module": "jupyter-leaflet",
      "model_module_version": "2.0.0",
      "model_name": "LeafletTileLayerModel",
      "state": {
       "_view_name": "ErrorWidgetView",
       "attribution": "![](https://docs.onemap.sg/maps/images/oneMap64-01.png) New OneMap | Map data (C) contributors, Singapore Land Authority",
       "error": {},
       "msg": "Failed to load model class 'LeafletTileLayerModel' from module 'jupyter-leaflet'",
       "name": "OneMapSG.Grey",
       "options": [
        "attribution",
        "bounds",
        "detect_retina",
        "max_native_zoom",
        "max_zoom",
        "min_native_zoom",
        "min_zoom",
        "no_wrap",
        "tile_size",
        "tms",
        "zoom_offset"
       ],
       "url": "https://maps-a.onemap.sg/v3/Grey/{z}/{x}/{y}.png"
      }
     },
     "6c4082bc4fa94bfd82126324b1775520": {
      "model_module": "jupyter-leaflet",
      "model_module_version": "2.0.0",
      "model_name": "LeafletTileLayerModel",
      "state": {
       "_view_name": "ErrorWidgetView",
       "attribution": "Justice Map",
       "error": {},
       "max_zoom": 22,
       "msg": "Failed to load model class 'LeafletTileLayerModel' from module 'jupyter-leaflet'",
       "name": "JusticeMap.americanIndian",
       "options": [
        "attribution",
        "bounds",
        "detect_retina",
        "max_native_zoom",
        "max_zoom",
        "min_native_zoom",
        "min_zoom",
        "no_wrap",
        "tile_size",
        "tms",
        "zoom_offset"
       ],
       "url": "https://www.justicemap.org/tile/county/indian/{z}/{x}/{y}.png"
      }
     },
     "6d1321d7252346978c04e6bd5187778e": {
      "model_module": "jupyter-leaflet",
      "model_module_version": "2.0.0",
      "model_name": "LeafletTileLayerModel",
      "state": {
       "_view_name": "ErrorWidgetView",
       "attribution": "Justice Map",
       "error": {},
       "max_zoom": 22,
       "msg": "Failed to load model class 'LeafletTileLayerModel' from module 'jupyter-leaflet'",
       "name": "JusticeMap.black",
       "options": [
        "attribution",
        "bounds",
        "detect_retina",
        "max_native_zoom",
        "max_zoom",
        "min_native_zoom",
        "min_zoom",
        "no_wrap",
        "tile_size",
        "tms",
        "zoom_offset"
       ],
       "url": "https://www.justicemap.org/tile/county/black/{z}/{x}/{y}.png"
      }
     },
     "6d59087c069740149fd4f70d469901a0": {
      "model_module": "@jupyter-widgets/controls",
      "model_module_version": "2.0.0",
      "model_name": "HTMLModel",
      "state": {
       "layout": "IPY_MODEL_f17410c4e4d2455495bf04af0de8f33a",
       "style": "IPY_MODEL_2bdef64ac25f43b0857a96a1a3a86eaf",
       "value": "s2_medoid_im.tif: "
      }
     },
     "6f6c0502bb8743b08097e8c0ca394db8": {
      "model_module": "jupyter-leaflet",
      "model_module_version": "2.0.0",
      "model_name": "LeafletTileLayerModel",
      "state": {
       "_view_name": "ErrorWidgetView",
       "attribution": "Imagery provided by services from the Global Imagery Browse Services (GIBS), operated by the NASA/GSFC/Earth Science Data and Information System (ESDIS) with funding provided by NASA/HQ.",
       "error": {},
       "max_zoom": 9,
       "msg": "Failed to load model class 'LeafletTileLayerModel' from module 'jupyter-leaflet'",
       "name": "NASAGIBS.ModisTerraTrueColorCR",
       "options": [
        "attribution",
        "bounds",
        "detect_retina",
        "max_native_zoom",
        "max_zoom",
        "min_native_zoom",
        "min_zoom",
        "no_wrap",
        "tile_size",
        "tms",
        "zoom_offset"
       ],
       "url": "https://map1.vis.earthdata.nasa.gov/wmts-webmerc/MODIS_Terra_CorrectedReflectance_TrueColor/default//GoogleMapsCompatible_Level9/{z}/{y}/{x}.jpg"
      }
     },
     "6f731e5e27444366b95528938448ab21": {
      "model_module": "@jupyter-widgets/base",
      "model_module_version": "2.0.0",
      "model_name": "LayoutModel",
      "state": {
       "display": "inline-flex",
       "flex_flow": "row wrap",
       "width": "100%"
      }
     },
     "7279c07dfcb54395854fae8ef55994d2": {
      "model_module": "jupyter-leaflet",
      "model_module_version": "2.0.0",
      "model_name": "LeafletTileLayerModel",
      "state": {
       "_view_name": "ErrorWidgetView",
       "attribution": "Imagery provided by services from the Global Imagery Browse Services (GIBS), operated by the NASA/GSFC/Earth Science Data and Information System (ESDIS) with funding provided by NASA/HQ.",
       "error": {},
       "max_zoom": 9,
       "msg": "Failed to load model class 'LeafletTileLayerModel' from module 'jupyter-leaflet'",
       "name": "NASAGIBS.ModisTerraBands367CR",
       "options": [
        "attribution",
        "bounds",
        "detect_retina",
        "max_native_zoom",
        "max_zoom",
        "min_native_zoom",
        "min_zoom",
        "no_wrap",
        "tile_size",
        "tms",
        "zoom_offset"
       ],
       "url": "https://map1.vis.earthdata.nasa.gov/wmts-webmerc/MODIS_Terra_CorrectedReflectance_Bands367/default//GoogleMapsCompatible_Level9/{z}/{y}/{x}.jpg"
      }
     },
     "729c85c7b6e5494c9913ac4c7f690e9d": {
      "model_module": "jupyter-leaflet",
      "model_module_version": "2.0.0",
      "model_name": "LeafletTileLayerModel",
      "state": {
       "_view_name": "ErrorWidgetView",
       "attribution": "National Library of Scotland Historic Maps",
       "error": {},
       "msg": "Failed to load model class 'LeafletTileLayerModel' from module 'jupyter-leaflet'",
       "name": "NLS",
       "options": [
        "attribution",
        "bounds",
        "detect_retina",
        "max_native_zoom",
        "max_zoom",
        "min_native_zoom",
        "min_zoom",
        "no_wrap",
        "tile_size",
        "tms",
        "zoom_offset"
       ],
       "url": "https://nls-0.tileserver.com/nls/{z}/{x}/{y}.jpg"
      }
     },
     "76138e9ea3954cc6b1609a89b7ff44cb": {
      "model_module": "jupyter-leaflet",
      "model_module_version": "2.0.0",
      "model_name": "LeafletTileLayerModel",
      "state": {
       "_view_name": "ErrorWidgetView",
       "attribution": "(C) OpenStreetMap contributors",
       "error": {},
       "max_zoom": 19,
       "msg": "Failed to load model class 'LeafletTileLayerModel' from module 'jupyter-leaflet'",
       "name": "OpenStreetMap.Mapnik",
       "options": [
        "attribution",
        "bounds",
        "detect_retina",
        "max_native_zoom",
        "max_zoom",
        "min_native_zoom",
        "min_zoom",
        "no_wrap",
        "tile_size",
        "tms",
        "zoom_offset"
       ],
       "url": "https://a.tile.openstreetmap.org/{z}/{x}/{y}.png"
      }
     },
     "7687cbfc04b24918b564223f8929102d": {
      "model_module": "@jupyter-widgets/controls",
      "model_module_version": "2.0.0",
      "model_name": "HTMLModel",
      "state": {
       "layout": "IPY_MODEL_2f1f0479d85847e78fa6ff403c348daf",
       "style": "IPY_MODEL_224ab96e68964f69b1a6ce9a5f372728",
       "value": "Exporting projects-geedim-assets-s2_medoid_im: "
      }
     },
     "788b37c13ae049c7826a82167b7ccc0e": {
      "model_module": "@jupyter-widgets/controls",
      "model_module_version": "2.0.0",
      "model_name": "ProgressStyleModel",
      "state": {
       "description_width": ""
      }
     },
     "7b4d26ba0d5f4022bc76dd3931f7838c": {
      "model_module": "@jupyter-widgets/base",
      "model_module_version": "2.0.0",
      "model_name": "LayoutModel",
      "state": {
       "flex": "2"
      }
     },
     "7cd8bafd2ee5493cb7de55943777b550": {
      "model_module": "jupyter-leaflet",
      "model_module_version": "2.0.0",
      "model_name": "LeafletWMSLayerModel",
      "state": {
       "_view_name": "ErrorWidgetView",
       "attribution": "USGS",
       "crs": {
        "custom": false,
        "name": "EPSG3857"
       },
       "error": {},
       "format": "image/png",
       "layers": "0",
       "msg": "Failed to load model class 'LeafletWMSLayerModel' from module 'jupyter-leaflet'",
       "name": "USGS Hydrography",
       "options": [
        "attribution",
        "bounds",
        "detect_retina",
        "format",
        "layers",
        "max_native_zoom",
        "max_zoom",
        "min_native_zoom",
        "min_zoom",
        "no_wrap",
        "styles",
        "tile_size",
        "tms",
        "transparent",
        "uppercase",
        "zoom_offset"
       ],
       "transparent": true,
       "url": "https://basemap.nationalmap.gov/arcgis/services/USGSHydroCached/MapServer/WMSServer?"
      }
     },
     "7ebb4ae0a64b49f18e31fe5ea0763925": {
      "model_module": "jupyter-leaflet",
      "model_module_version": "2.0.0",
      "model_name": "LeafletTileLayerModel",
      "state": {
       "_view_name": "ErrorWidgetView",
       "attribution": "(C) OpenStreetMap contributors (C) CARTO",
       "error": {},
       "max_zoom": 20,
       "msg": "Failed to load model class 'LeafletTileLayerModel' from module 'jupyter-leaflet'",
       "name": "CartoDB.DarkMatter",
       "options": [
        "attribution",
        "bounds",
        "detect_retina",
        "max_native_zoom",
        "max_zoom",
        "min_native_zoom",
        "min_zoom",
        "no_wrap",
        "tile_size",
        "tms",
        "zoom_offset"
       ],
       "url": "https://a.basemaps.cartocdn.com/dark_all/{z}/{x}/{y}.png"
      }
     },
     "8012082e620b448d8a0954831622496e": {
      "model_module": "jupyter-leaflet",
      "model_module_version": "2.0.0",
      "model_name": "LeafletTileLayerModel",
      "state": {
       "_view_name": "ErrorWidgetView",
       "attribution": "(C) OpenStreetMap contributors (C) CARTO",
       "error": {},
       "max_zoom": 20,
       "msg": "Failed to load model class 'LeafletTileLayerModel' from module 'jupyter-leaflet'",
       "name": "CartoDB.Positron",
       "options": [
        "attribution",
        "bounds",
        "detect_retina",
        "max_native_zoom",
        "max_zoom",
        "min_native_zoom",
        "min_zoom",
        "no_wrap",
        "tile_size",
        "tms",
        "zoom_offset"
       ],
       "url": "https://a.basemaps.cartocdn.com/light_all/{z}/{x}/{y}.png"
      }
     },
     "80b3adf2139c4988a6f93df0ecfdb5d2": {
      "model_module": "jupyter-leaflet",
      "model_module_version": "2.0.0",
      "model_name": "LeafletTileLayerModel",
      "state": {
       "_view_name": "ErrorWidgetView",
       "attribution": "Kaartgegevens (C) Kadaster",
       "error": {},
       "max_zoom": 19,
       "msg": "Failed to load model class 'LeafletTileLayerModel' from module 'jupyter-leaflet'",
       "name": "nlmaps.standaard",
       "options": [
        "attribution",
        "bounds",
        "detect_retina",
        "max_native_zoom",
        "max_zoom",
        "min_native_zoom",
        "min_zoom",
        "no_wrap",
        "tile_size",
        "tms",
        "zoom_offset"
       ],
       "url": "https://service.pdok.nl/brt/achtergrondkaart/wmts/v2_0/standaard/EPSG:3857/{z}/{x}/{y}.png"
      }
     },
     "82b48bc8e4ca4e12844a90c08e174617": {
      "model_module": "jupyter-leaflet",
      "model_module_version": "2.0.0",
      "model_name": "LeafletTileLayerModel",
      "state": {
       "_view_name": "ErrorWidgetView",
       "attribution": "Justice Map",
       "error": {},
       "max_zoom": 22,
       "msg": "Failed to load model class 'LeafletTileLayerModel' from module 'jupyter-leaflet'",
       "name": "JusticeMap.nonWhite",
       "options": [
        "attribution",
        "bounds",
        "detect_retina",
        "max_native_zoom",
        "max_zoom",
        "min_native_zoom",
        "min_zoom",
        "no_wrap",
        "tile_size",
        "tms",
        "zoom_offset"
       ],
       "url": "https://www.justicemap.org/tile/county/nonwhite/{z}/{x}/{y}.png"
      }
     },
     "845a2541853d4e1caf41743d65ce3637": {
      "model_module": "jupyter-leaflet",
      "model_module_version": "2.0.0",
      "model_name": "LeafletTileLayerModel",
      "state": {
       "_view_name": "ErrorWidgetView",
       "attribution": "Map tiles by Stamen Design, CC BY 3.0 -- Map data (C) OpenStreetMap contributors",
       "error": {},
       "max_zoom": 20,
       "msg": "Failed to load model class 'LeafletTileLayerModel' from module 'jupyter-leaflet'",
       "name": "Stamen.TopOSMFeatures",
       "options": [
        "attribution",
        "bounds",
        "detect_retina",
        "max_native_zoom",
        "max_zoom",
        "min_native_zoom",
        "min_zoom",
        "no_wrap",
        "tile_size",
        "tms",
        "zoom_offset"
       ],
       "url": "https://stamen-tiles-a.a.ssl.fastly.net/toposm-features/{z}/{x}/{y}.png"
      }
     },
     "8711037b63434d2cb3ffb116cfcf2bd3": {
      "model_module": "jupyter-leaflet",
      "model_module_version": "2.0.0",
      "model_name": "LeafletTileLayerModel",
      "state": {
       "_view_name": "ErrorWidgetView",
       "attribution": "Geoportail France",
       "error": {},
       "max_zoom": 20,
       "msg": "Failed to load model class 'LeafletTileLayerModel' from module 'jupyter-leaflet'",
       "name": "GeoportailFrance.parcels",
       "options": [
        "attribution",
        "bounds",
        "detect_retina",
        "max_native_zoom",
        "max_zoom",
        "min_native_zoom",
        "min_zoom",
        "no_wrap",
        "tile_size",
        "tms",
        "zoom_offset"
       ],
       "url": "https://wxs.ign.fr/choisirgeoportail/geoportail/wmts?REQUEST=GetTile&SERVICE=WMTS&VERSION=1.0.0&STYLE=PCI vecteur&TILEMATRIXSET=PM&FORMAT=image/png&LAYER=CADASTRALPARCELS.PARCELLAIRE_EXPRESS&TILEMATRIX={z}&TILEROW={y}&TILECOL={x}"
      }
     },
     "8788c204d6c149649bc99d38822f21a6": {
      "model_module": "jupyter-leaflet",
      "model_module_version": "2.0.0",
      "model_name": "LeafletTileLayerModel",
      "state": {
       "_view_name": "ErrorWidgetView",
       "attribution": "Map tiles by <a href=\"https://labs.strava.com/heatmap\">Strava 2021</a>",
       "error": {},
       "max_zoom": 15,
       "msg": "Failed to load model class 'LeafletTileLayerModel' from module 'jupyter-leaflet'",
       "name": "Strava.Water",
       "options": [
        "attribution",
        "bounds",
        "detect_retina",
        "max_native_zoom",
        "max_zoom",
        "min_native_zoom",
        "min_zoom",
        "no_wrap",
        "tile_size",
        "tms",
        "zoom_offset"
       ],
       "url": "https://heatmap-external-a.strava.com/tiles/water/blue/{z}/{x}/{y}.png"
      }
     },
     "883539b8b0144be881dc5e092fa6680f": {
      "model_module": "jupyter-leaflet",
      "model_module_version": "2.0.0",
      "model_name": "LeafletTileLayerModel",
      "state": {
       "_view_name": "ErrorWidgetView",
       "attribution": "Map data: (C) OpenStreetMap contributors | Map style: (C) waymarkedtrails.org (CC-BY-SA)",
       "error": {},
       "msg": "Failed to load model class 'LeafletTileLayerModel' from module 'jupyter-leaflet'",
       "name": "WaymarkedTrails.mtb",
       "options": [
        "attribution",
        "bounds",
        "detect_retina",
        "max_native_zoom",
        "max_zoom",
        "min_native_zoom",
        "min_zoom",
        "no_wrap",
        "tile_size",
        "tms",
        "zoom_offset"
       ],
       "url": "https://tile.waymarkedtrails.org/mtb/{z}/{x}/{y}.png"
      }
     },
     "885c4d3236a34a6b8170cc693a7d0d9d": {
      "model_module": "jupyter-leaflet",
      "model_module_version": "2.0.0",
      "model_name": "LeafletTileLayerModel",
      "state": {
       "_view_name": "ErrorWidgetView",
       "attribution": "(C) OpenStreetMap contributors, vizualization CC-By-SA 2.0 Freemap.sk",
       "error": {},
       "max_zoom": 16,
       "msg": "Failed to load model class 'LeafletTileLayerModel' from module 'jupyter-leaflet'",
       "name": "FreeMapSK",
       "options": [
        "attribution",
        "bounds",
        "detect_retina",
        "max_native_zoom",
        "max_zoom",
        "min_native_zoom",
        "min_zoom",
        "no_wrap",
        "tile_size",
        "tms",
        "zoom_offset"
       ],
       "url": "https://a.freemap.sk/T/{z}/{x}/{y}.jpeg"
      }
     },
     "8880d3560b3d4f87bb0234e1893ba75f": {
      "model_module": "jupyter-leaflet",
      "model_module_version": "2.0.0",
      "model_name": "LeafletTileLayerModel",
      "state": {
       "_view_name": "ErrorWidgetView",
       "attribution": "Imagery provided by services from the Global Imagery Browse Services (GIBS), operated by the NASA/GSFC/Earth Science Data and Information System (ESDIS) with funding provided by NASA/HQ.",
       "error": {},
       "max_zoom": 7,
       "msg": "Failed to load model class 'LeafletTileLayerModel' from module 'jupyter-leaflet'",
       "name": "NASAGIBS.ModisTerraLSTDay",
       "options": [
        "attribution",
        "bounds",
        "detect_retina",
        "max_native_zoom",
        "max_zoom",
        "min_native_zoom",
        "min_zoom",
        "no_wrap",
        "tile_size",
        "tms",
        "zoom_offset"
       ],
       "url": "https://map1.vis.earthdata.nasa.gov/wmts-webmerc/MODIS_Terra_Land_Surface_Temp_Day/default//GoogleMapsCompatible_Level7/{z}/{y}/{x}.png"
      }
     },
     "88cb7c05a49b4c7a8990f7bdaced4162": {
      "model_module": "jupyter-leaflet",
      "model_module_version": "2.0.0",
      "model_name": "LeafletTileLayerModel",
      "state": {
       "_view_name": "ErrorWidgetView",
       "attribution": "Imagery provided by NOAA National Centers for Environmental Information (NCEI); International Bathymetric Chart of the Southern Ocean (IBCSO); General Bathymetric Chart of the Oceans (GEBCO).",
       "error": {},
       "max_zoom": 9,
       "msg": "Failed to load model class 'LeafletTileLayerModel' from module 'jupyter-leaflet'",
       "name": "Esri.AntarcticBasemap",
       "options": [
        "attribution",
        "bounds",
        "detect_retina",
        "max_native_zoom",
        "max_zoom",
        "min_native_zoom",
        "min_zoom",
        "no_wrap",
        "tile_size",
        "tms",
        "zoom_offset"
       ],
       "url": "https://tiles.arcgis.com/tiles/C8EMgrsFcRFL6LrL/arcgis/rest/services/Antarctic_Basemap/MapServer/tile/{z}/{y}/{x}"
      }
     },
     "8a06f003f35443d5bcc350f5f10e18d5": {
      "model_module": "jupyter-leaflet",
      "model_module_version": "2.0.0",
      "model_name": "LeafletTileLayerModel",
      "state": {
       "_view_name": "ErrorWidgetView",
       "attribution": "Imagery provided by services from the Global Imagery Browse Services (GIBS), operated by the NASA/GSFC/Earth Science Data and Information System (ESDIS) with funding provided by NASA/HQ.",
       "error": {},
       "max_zoom": 9,
       "msg": "Failed to load model class 'LeafletTileLayerModel' from module 'jupyter-leaflet'",
       "name": "NASAGIBS.ViirsTrueColorCR",
       "options": [
        "attribution",
        "bounds",
        "detect_retina",
        "max_native_zoom",
        "max_zoom",
        "min_native_zoom",
        "min_zoom",
        "no_wrap",
        "tile_size",
        "tms",
        "zoom_offset"
       ],
       "url": "https://gibs.earthdata.nasa.gov/wmts/epsg3857/best/VIIRS_SNPP_CorrectedReflectance_TrueColor/default//GoogleMapsCompatible_Level9/{z}/{y}/{x}.jpg"
      }
     },
     "8b12911c7a2d493589202b6406547d88": {
      "model_module": "jupyter-leaflet",
      "model_module_version": "2.0.0",
      "model_name": "LeafletTileLayerModel",
      "state": {
       "_view_name": "ErrorWidgetView",
       "attribution": "Datenquelle: basemap.at",
       "error": {},
       "max_zoom": 19,
       "msg": "Failed to load model class 'LeafletTileLayerModel' from module 'jupyter-leaflet'",
       "name": "BasemapAT.overlay",
       "options": [
        "attribution",
        "bounds",
        "detect_retina",
        "max_native_zoom",
        "max_zoom",
        "min_native_zoom",
        "min_zoom",
        "no_wrap",
        "tile_size",
        "tms",
        "zoom_offset"
       ],
       "url": "https://maps.wien.gv.at/basemap/bmapoverlay/normal/google3857/{z}/{y}/{x}.png"
      }
     },
     "8bc672192ae04d80927027224197a57c": {
      "model_module": "jupyter-leaflet",
      "model_module_version": "2.0.0",
      "model_name": "LeafletWMSLayerModel",
      "state": {
       "_view_name": "ErrorWidgetView",
       "attribution": "ESA",
       "crs": {
        "custom": false,
        "name": "EPSG3857"
       },
       "error": {},
       "format": "image/png",
       "layers": "WORLDCOVER_2020_S2_FCC",
       "msg": "Failed to load model class 'LeafletWMSLayerModel' from module 'jupyter-leaflet'",
       "name": "ESA Worldcover 2020 S2 FCC",
       "options": [
        "attribution",
        "bounds",
        "detect_retina",
        "format",
        "layers",
        "max_native_zoom",
        "max_zoom",
        "min_native_zoom",
        "min_zoom",
        "no_wrap",
        "styles",
        "tile_size",
        "tms",
        "transparent",
        "uppercase",
        "zoom_offset"
       ],
       "transparent": true,
       "url": "https://services.terrascope.be/wms/v2"
      }
     },
     "8c90c2880d7546b1809089f8ebbf5e18": {
      "model_module": "@jupyter-widgets/controls",
      "model_module_version": "2.0.0",
      "model_name": "ProgressStyleModel",
      "state": {
       "description_width": ""
      }
     },
     "8cd86ea0043e4312b235242dc8f41ffc": {
      "model_module": "@jupyter-widgets/controls",
      "model_module_version": "2.0.0",
      "model_name": "HTMLStyleModel",
      "state": {
       "description_width": "",
       "font_size": null,
       "text_color": null
      }
     },
     "90a63530e21b4a89bfba38dc8aec8a42": {
      "model_module": "jupyter-leaflet",
      "model_module_version": "2.0.0",
      "model_name": "LeafletTileLayerModel",
      "state": {
       "_view_name": "ErrorWidgetView",
       "attribution": "Tiles (C) Esri -- Esri, DeLorme, NAVTEQ, TomTom, Intermap, iPC, USGS, FAO, NPS, NRCAN, GeoBase, Kadaster NL, Ordnance Survey, Esri Japan, METI, Esri China (Hong Kong), and the GIS User Community",
       "error": {},
       "max_zoom": 22,
       "msg": "Failed to load model class 'LeafletTileLayerModel' from module 'jupyter-leaflet'",
       "name": "Esri.WorldTopoMap",
       "options": [
        "attribution",
        "bounds",
        "detect_retina",
        "max_native_zoom",
        "max_zoom",
        "min_native_zoom",
        "min_zoom",
        "no_wrap",
        "tile_size",
        "tms",
        "zoom_offset"
       ],
       "url": "https://server.arcgisonline.com/ArcGIS/rest/services/World_Topo_Map/MapServer/tile/{z}/{y}/{x}"
      }
     },
     "91d2b6c810174daf80609a5f69c61338": {
      "model_module": "jupyter-leaflet",
      "model_module_version": "2.0.0",
      "model_name": "LeafletTileLayerModel",
      "state": {
       "_view_name": "ErrorWidgetView",
       "attribution": "Kaartgegevens (C) Kadaster",
       "error": {},
       "max_zoom": 19,
       "msg": "Failed to load model class 'LeafletTileLayerModel' from module 'jupyter-leaflet'",
       "name": "nlmaps.grijs",
       "options": [
        "attribution",
        "bounds",
        "detect_retina",
        "max_native_zoom",
        "max_zoom",
        "min_native_zoom",
        "min_zoom",
        "no_wrap",
        "tile_size",
        "tms",
        "zoom_offset"
       ],
       "url": "https://service.pdok.nl/brt/achtergrondkaart/wmts/v2_0/grijs/EPSG:3857/{z}/{x}/{y}.png"
      }
     },
     "921fc0850bb24265bf2f57cd0017c209": {
      "model_module": "jupyter-leaflet",
      "model_module_version": "2.0.0",
      "model_name": "LeafletTileLayerModel",
      "state": {
       "_view_name": "ErrorWidgetView",
       "attribution": "&copy; <a href=\"http://www.gaode.com/\">Gaode.com</a>",
       "error": {},
       "max_zoom": 19,
       "msg": "Failed to load model class 'LeafletTileLayerModel' from module 'jupyter-leaflet'",
       "name": "Gaode.Normal",
       "options": [
        "attribution",
        "bounds",
        "detect_retina",
        "max_native_zoom",
        "max_zoom",
        "min_native_zoom",
        "min_zoom",
        "no_wrap",
        "tile_size",
        "tms",
        "zoom_offset"
       ],
       "url": "http://webrd01.is.autonavi.com/appmaptile?lang=zh_cn&size=1&scale=1&style=7&x={x}&y={y}&z={z}"
      }
     },
     "92a3311aa31f4a54a8cc1add13616518": {
      "model_module": "jupyter-leaflet",
      "model_module_version": "2.0.0",
      "model_name": "LeafletTileLayerModel",
      "state": {
       "_view_name": "ErrorWidgetView",
       "attribution": "Tiles &copy; Esri &mdash; Esri, DeLorme, NAVTEQ, TomTom, Intermap, iPC, USGS, FAO, NPS, NRCAN, GeoBase, Kadaster NL, Ordnance Survey, Esri Japan, METI, Esri China (Hong Kong), and the GIS User Community",
       "error": {},
       "max_zoom": 24,
       "msg": "Failed to load model class 'LeafletTileLayerModel' from module 'jupyter-leaflet'",
       "name": "Esri.ArcticOceanReference",
       "options": [
        "attribution",
        "bounds",
        "detect_retina",
        "max_native_zoom",
        "max_zoom",
        "min_native_zoom",
        "min_zoom",
        "no_wrap",
        "tile_size",
        "tms",
        "zoom_offset"
       ],
       "url": "http://server.arcgisonline.com/ArcGIS/rest/services/Polar/Arctic_Ocean_Reference/MapServer/tile/{z}/{y}/{x}"
      }
     },
     "938cfc4b03c54b0eb4852dac21fb2510": {
      "model_module": "jupyter-leaflet",
      "model_module_version": "2.0.0",
      "model_name": "LeafletTileLayerModel",
      "state": {
       "_view_name": "ErrorWidgetView",
       "attribution": "Map data: (C) OpenSeaMap contributors",
       "error": {},
       "max_zoom": 22,
       "msg": "Failed to load model class 'LeafletTileLayerModel' from module 'jupyter-leaflet'",
       "name": "OpenSeaMap",
       "options": [
        "attribution",
        "bounds",
        "detect_retina",
        "max_native_zoom",
        "max_zoom",
        "min_native_zoom",
        "min_zoom",
        "no_wrap",
        "tile_size",
        "tms",
        "zoom_offset"
       ],
       "url": "https://tiles.openseamap.org/seamark/{z}/{x}/{y}.png"
      }
     },
     "93b32b3673e3430ba0ab3896a9d72b64": {
      "model_module": "jupyter-leaflet",
      "model_module_version": "2.0.0",
      "model_name": "LeafletWMSLayerModel",
      "state": {
       "_view_name": "ErrorWidgetView",
       "attribution": "USGS",
       "crs": {
        "custom": false,
        "name": "EPSG3857"
       },
       "error": {},
       "format": "image/png",
       "layers": "USGSNAIPImagery:FalseColorComposite",
       "msg": "Failed to load model class 'LeafletWMSLayerModel' from module 'jupyter-leaflet'",
       "name": "USGS NAIP Imagery False Color",
       "options": [
        "attribution",
        "bounds",
        "detect_retina",
        "format",
        "layers",
        "max_native_zoom",
        "max_zoom",
        "min_native_zoom",
        "min_zoom",
        "no_wrap",
        "styles",
        "tile_size",
        "tms",
        "transparent",
        "uppercase",
        "zoom_offset"
       ],
       "transparent": true,
       "url": "https://imagery.nationalmap.gov/arcgis/services/USGSNAIPImagery/ImageServer/WMSServer?"
      }
     },
     "93bd5f2696df48ed891a65f7164cac0d": {
      "model_module": "jupyter-leaflet",
      "model_module_version": "2.0.0",
      "model_name": "LeafletTileLayerModel",
      "state": {
       "_view_name": "ErrorWidgetView",
       "attribution": "Imagery provided by services from the Global Imagery Browse Services (GIBS), operated by the NASA/GSFC/Earth Science Data and Information System (ESDIS) with funding provided by NASA/HQ.",
       "error": {},
       "max_zoom": 7,
       "msg": "Failed to load model class 'LeafletTileLayerModel' from module 'jupyter-leaflet'",
       "name": "NASAGIBS.ModisTerraChlorophyll",
       "options": [
        "attribution",
        "bounds",
        "detect_retina",
        "max_native_zoom",
        "max_zoom",
        "min_native_zoom",
        "min_zoom",
        "no_wrap",
        "tile_size",
        "tms",
        "zoom_offset"
       ],
       "url": "https://map1.vis.earthdata.nasa.gov/wmts-webmerc/MODIS_Terra_Chlorophyll_A/default//GoogleMapsCompatible_Level7/{z}/{y}/{x}.png"
      }
     },
     "9598c5f4c7ab487a9e5c47f843fa577c": {
      "model_module": "jupyter-leaflet",
      "model_module_version": "2.0.0",
      "model_name": "LeafletTileLayerModel",
      "state": {
       "_view_name": "ErrorWidgetView",
       "attribution": "![](https://docs.onemap.sg/maps/images/oneMap64-01.png) New OneMap | Map data (C) contributors, Singapore Land Authority",
       "error": {},
       "msg": "Failed to load model class 'LeafletTileLayerModel' from module 'jupyter-leaflet'",
       "name": "OneMapSG.Night",
       "options": [
        "attribution",
        "bounds",
        "detect_retina",
        "max_native_zoom",
        "max_zoom",
        "min_native_zoom",
        "min_zoom",
        "no_wrap",
        "tile_size",
        "tms",
        "zoom_offset"
       ],
       "url": "https://maps-a.onemap.sg/v3/Night/{z}/{x}/{y}.png"
      }
     },
     "9ab92867b61e4d3b96404031ffef70ea": {
      "model_module": "jupyter-leaflet",
      "model_module_version": "2.0.0",
      "model_name": "LeafletTileLayerModel",
      "state": {
       "_view_name": "ErrorWidgetView",
       "attribution": "Tiles courtesy of the U.S. Geological Survey",
       "error": {},
       "max_zoom": 20,
       "msg": "Failed to load model class 'LeafletTileLayerModel' from module 'jupyter-leaflet'",
       "name": "USGS.USTopo",
       "options": [
        "attribution",
        "bounds",
        "detect_retina",
        "max_native_zoom",
        "max_zoom",
        "min_native_zoom",
        "min_zoom",
        "no_wrap",
        "tile_size",
        "tms",
        "zoom_offset"
       ],
       "url": "https://basemap.nationalmap.gov/arcgis/rest/services/USGSTopo/MapServer/tile/{z}/{y}/{x}"
      }
     },
     "9aeafa397af948bd9326ca47493c3e0c": {
      "model_module": "@jupyter-widgets/base",
      "model_module_version": "2.0.0",
      "model_name": "LayoutModel",
      "state": {
       "display": "inline-flex",
       "flex_flow": "row wrap",
       "width": "100%"
      }
     },
     "9e27826226cd49558ba2dd21d7fa66a0": {
      "model_module": "jupyter-leaflet",
      "model_module_version": "2.0.0",
      "model_name": "LeafletTileLayerModel",
      "state": {
       "_view_name": "ErrorWidgetView",
       "attribution": "(C) OpenStreetMap contributors (C) CARTO",
       "error": {},
       "max_zoom": 20,
       "msg": "Failed to load model class 'LeafletTileLayerModel' from module 'jupyter-leaflet'",
       "name": "CartoDB.VoyagerNoLabels",
       "options": [
        "attribution",
        "bounds",
        "detect_retina",
        "max_native_zoom",
        "max_zoom",
        "min_native_zoom",
        "min_zoom",
        "no_wrap",
        "tile_size",
        "tms",
        "zoom_offset"
       ],
       "url": "https://a.basemaps.cartocdn.com/rastertiles/voyager_nolabels/{z}/{x}/{y}.png"
      }
     },
     "a019b71738ed44a28ed09833627d0581": {
      "model_module": "jupyter-leaflet",
      "model_module_version": "2.0.0",
      "model_name": "LeafletTileLayerModel",
      "state": {
       "_view_name": "ErrorWidgetView",
       "attribution": "(C) Stadia Maps, (C) OpenMapTiles (C) OpenStreetMap contributors",
       "error": {},
       "max_zoom": 20,
       "msg": "Failed to load model class 'LeafletTileLayerModel' from module 'jupyter-leaflet'",
       "name": "Stadia.OSMBright",
       "options": [
        "attribution",
        "bounds",
        "detect_retina",
        "max_native_zoom",
        "max_zoom",
        "min_native_zoom",
        "min_zoom",
        "no_wrap",
        "tile_size",
        "tms",
        "zoom_offset"
       ],
       "url": "https://tiles.stadiamaps.com/tiles/osm_bright/{z}/{x}/{y}.png"
      }
     },
     "a116507937204e6386c7d4b3b429305c": {
      "model_module": "jupyter-leaflet",
      "model_module_version": "2.0.0",
      "model_name": "LeafletTileLayerModel",
      "state": {
       "_view_name": "ErrorWidgetView",
       "attribution": "CyclOSM | Map data: (C) OpenStreetMap contributors",
       "error": {},
       "max_zoom": 20,
       "msg": "Failed to load model class 'LeafletTileLayerModel' from module 'jupyter-leaflet'",
       "name": "CyclOSM",
       "options": [
        "attribution",
        "bounds",
        "detect_retina",
        "max_native_zoom",
        "max_zoom",
        "min_native_zoom",
        "min_zoom",
        "no_wrap",
        "tile_size",
        "tms",
        "zoom_offset"
       ],
       "url": "https://a.tile-cyclosm.openstreetmap.fr/cyclosm/{z}/{x}/{y}.png"
      }
     },
     "a1a55e38255a4c489cad017c5ec35957": {
      "model_module": "@jupyter-widgets/controls",
      "model_module_version": "2.0.0",
      "model_name": "FloatProgressModel",
      "state": {
       "bar_style": "success",
       "layout": "IPY_MODEL_5533b4a4b7fb4f8fa11aeff65bfa2a13",
       "max": 951190200,
       "style": "IPY_MODEL_bfc4557369ce4523863cd34b235e069c",
       "value": 951190200
      }
     },
     "a57a7639c34f4d9e988193958af06e0f": {
      "model_module": "@jupyter-widgets/controls",
      "model_module_version": "2.0.0",
      "model_name": "HTMLModel",
      "state": {
       "layout": "IPY_MODEL_c8b6c4bdebd2442fb06ee99128d47a5b",
       "style": "IPY_MODEL_294c0807169c4e28b8b7df90c9ba2b06",
       "value": " [100.0%] in 15:09 (eta: 00:00)"
      }
     },
     "a6cead798ace4f908b3d61149e5c9915": {
      "model_module": "jupyter-leaflet",
      "model_module_version": "2.0.0",
      "model_name": "LeafletTileLayerModel",
      "state": {
       "_view_name": "ErrorWidgetView",
       "attribution": "Imagery provided by services from the Global Imagery Browse Services (GIBS), operated by the NASA/GSFC/Earth Science Data and Information System (ESDIS) with funding provided by NASA/HQ.",
       "error": {},
       "max_zoom": 9,
       "msg": "Failed to load model class 'LeafletTileLayerModel' from module 'jupyter-leaflet'",
       "name": "NASAGIBS.ModisAquaTrueColorCR",
       "options": [
        "attribution",
        "bounds",
        "detect_retina",
        "max_native_zoom",
        "max_zoom",
        "min_native_zoom",
        "min_zoom",
        "no_wrap",
        "tile_size",
        "tms",
        "zoom_offset"
       ],
       "url": "https://gibs.earthdata.nasa.gov/wmts/epsg3857/best/MODIS_Aqua_CorrectedReflectance_TrueColor/default//GoogleMapsCompatible_Level9/{z}/{y}/{x}.jpg"
      }
     },
     "a7135194894e478ab6b222866694c0b0": {
      "model_module": "jupyter-leaflet",
      "model_module_version": "2.0.0",
      "model_name": "LeafletWMSLayerModel",
      "state": {
       "_view_name": "ErrorWidgetView",
       "attribution": "MRLC",
       "crs": {
        "custom": false,
        "name": "EPSG3857"
       },
       "error": {},
       "format": "image/png",
       "layers": "NLCD_2001_Land_Cover_L48",
       "msg": "Failed to load model class 'LeafletWMSLayerModel' from module 'jupyter-leaflet'",
       "name": "NLCD 2001 CONUS Land Cover",
       "options": [
        "attribution",
        "bounds",
        "detect_retina",
        "format",
        "layers",
        "max_native_zoom",
        "max_zoom",
        "min_native_zoom",
        "min_zoom",
        "no_wrap",
        "styles",
        "tile_size",
        "tms",
        "transparent",
        "uppercase",
        "zoom_offset"
       ],
       "transparent": true,
       "url": "https://www.mrlc.gov/geoserver/mrlc_display/NLCD_2001_Land_Cover_L48/wms?"
      }
     },
     "aba8d9a76c6d4d07a735b84875e8bced": {
      "model_module": "jupyter-leaflet",
      "model_module_version": "2.0.0",
      "model_name": "LeafletTileLayerModel",
      "state": {
       "_view_name": "ErrorWidgetView",
       "attribution": "Google",
       "error": {},
       "max_zoom": 22,
       "msg": "Failed to load model class 'LeafletTileLayerModel' from module 'jupyter-leaflet'",
       "name": "Google Terrain",
       "options": [
        "attribution",
        "bounds",
        "detect_retina",
        "max_native_zoom",
        "max_zoom",
        "min_native_zoom",
        "min_zoom",
        "no_wrap",
        "tile_size",
        "tms",
        "zoom_offset"
       ],
       "url": "https://mt1.google.com/vt/lyrs=p&x={x}&y={y}&z={z}"
      }
     },
     "abc8ec4af74a4652a68555fb96e660b4": {
      "model_module": "jupyter-leaflet",
      "model_module_version": "2.0.0",
      "model_name": "LeafletTileLayerModel",
      "state": {
       "_view_name": "ErrorWidgetView",
       "attribution": "Justice Map",
       "error": {},
       "max_zoom": 22,
       "msg": "Failed to load model class 'LeafletTileLayerModel' from module 'jupyter-leaflet'",
       "name": "JusticeMap.plurality",
       "options": [
        "attribution",
        "bounds",
        "detect_retina",
        "max_native_zoom",
        "max_zoom",
        "min_native_zoom",
        "min_zoom",
        "no_wrap",
        "tile_size",
        "tms",
        "zoom_offset"
       ],
       "url": "https://www.justicemap.org/tile/county/plural/{z}/{x}/{y}.png"
      }
     },
     "ac1e1ac0b89e41b9a231625ed01a3fde": {
      "model_module": "jupyter-leaflet",
      "model_module_version": "2.0.0",
      "model_name": "LeafletTileLayerModel",
      "state": {
       "_view_name": "ErrorWidgetView",
       "attribution": "Tiles (C) Esri -- Source: Esri, DeLorme, NAVTEQ, USGS, Intermap, iPC, NRCAN, Esri Japan, METI, Esri China (Hong Kong), Esri (Thailand), TomTom, 2012",
       "error": {},
       "max_zoom": 22,
       "msg": "Failed to load model class 'LeafletTileLayerModel' from module 'jupyter-leaflet'",
       "name": "Esri.WorldStreetMap",
       "options": [
        "attribution",
        "bounds",
        "detect_retina",
        "max_native_zoom",
        "max_zoom",
        "min_native_zoom",
        "min_zoom",
        "no_wrap",
        "tile_size",
        "tms",
        "zoom_offset"
       ],
       "url": "https://server.arcgisonline.com/ArcGIS/rest/services/World_Street_Map/MapServer/tile/{z}/{y}/{x}"
      }
     },
     "ac7bd026d36440ec99f068a97dd19ebc": {
      "model_module": "jupyter-leaflet",
      "model_module_version": "2.0.0",
      "model_name": "LeafletTileLayerModel",
      "state": {
       "_view_name": "ErrorWidgetView",
       "attribution": "Map tiles by Stamen Design, CC BY 3.0 -- Map data (C) OpenStreetMap contributors",
       "error": {},
       "max_zoom": 20,
       "msg": "Failed to load model class 'LeafletTileLayerModel' from module 'jupyter-leaflet'",
       "name": "Stamen.TonerLite",
       "options": [
        "attribution",
        "bounds",
        "detect_retina",
        "max_native_zoom",
        "max_zoom",
        "min_native_zoom",
        "min_zoom",
        "no_wrap",
        "tile_size",
        "tms",
        "zoom_offset"
       ],
       "url": "https://stamen-tiles-a.a.ssl.fastly.net/toner-lite/{z}/{x}/{y}.png"
      }
     },
     "ad390e66c574405e82791d4da6ed6252": {
      "model_module": "jupyter-leaflet",
      "model_module_version": "2.0.0",
      "model_name": "LeafletTileLayerModel",
      "state": {
       "_view_name": "ErrorWidgetView",
       "attribution": "![](https://docs.onemap.sg/maps/images/oneMap64-01.png) New OneMap | Map data (C) contributors, Singapore Land Authority",
       "error": {},
       "msg": "Failed to load model class 'LeafletTileLayerModel' from module 'jupyter-leaflet'",
       "name": "OneMapSG.Original",
       "options": [
        "attribution",
        "bounds",
        "detect_retina",
        "max_native_zoom",
        "max_zoom",
        "min_native_zoom",
        "min_zoom",
        "no_wrap",
        "tile_size",
        "tms",
        "zoom_offset"
       ],
       "url": "https://maps-a.onemap.sg/v3/Original/{z}/{x}/{y}.png"
      }
     },
     "aea9826a4850465d9c6c71d0b462115c": {
      "model_module": "jupyter-leaflet",
      "model_module_version": "2.0.0",
      "model_name": "LeafletTileLayerModel",
      "state": {
       "_view_name": "ErrorWidgetView",
       "attribution": "&copy; <a href=\"http://www.gaode.com/\">Gaode.com</a>",
       "error": {},
       "max_zoom": 19,
       "msg": "Failed to load model class 'LeafletTileLayerModel' from module 'jupyter-leaflet'",
       "name": "Gaode.Satellite",
       "options": [
        "attribution",
        "bounds",
        "detect_retina",
        "max_native_zoom",
        "max_zoom",
        "min_native_zoom",
        "min_zoom",
        "no_wrap",
        "tile_size",
        "tms",
        "zoom_offset"
       ],
       "url": "http://webst01.is.autonavi.com/appmaptile?style=6&x={x}&y={y}&z={z}"
      }
     },
     "af69c1e4ee6b41559d92fb8a0822b78c": {
      "model_module": "jupyter-leaflet",
      "model_module_version": "2.0.0",
      "model_name": "LeafletTileLayerModel",
      "state": {
       "_view_name": "ErrorWidgetView",
       "attribution": "Google",
       "error": {},
       "max_zoom": 22,
       "msg": "Failed to load model class 'LeafletTileLayerModel' from module 'jupyter-leaflet'",
       "name": "Google Maps",
       "options": [
        "attribution",
        "bounds",
        "detect_retina",
        "max_native_zoom",
        "max_zoom",
        "min_native_zoom",
        "min_zoom",
        "no_wrap",
        "tile_size",
        "tms",
        "zoom_offset"
       ],
       "url": "https://mt1.google.com/vt/lyrs=m&x={x}&y={y}&z={z}"
      }
     },
     "b328a8339ace483895ef4aea754dfde1": {
      "model_module": "jupyter-leaflet",
      "model_module_version": "2.0.0",
      "model_name": "LeafletTileLayerModel",
      "state": {
       "_view_name": "ErrorWidgetView",
       "attribution": "Justice Map",
       "error": {},
       "max_zoom": 22,
       "msg": "Failed to load model class 'LeafletTileLayerModel' from module 'jupyter-leaflet'",
       "name": "JusticeMap.income",
       "options": [
        "attribution",
        "bounds",
        "detect_retina",
        "max_native_zoom",
        "max_zoom",
        "min_native_zoom",
        "min_zoom",
        "no_wrap",
        "tile_size",
        "tms",
        "zoom_offset"
       ],
       "url": "https://www.justicemap.org/tile/county/income/{z}/{x}/{y}.png"
      }
     },
     "b4f77d8a066a420ea239b42487ad67a8": {
      "model_module": "@jupyter-widgets/base",
      "model_module_version": "2.0.0",
      "model_name": "LayoutModel",
      "state": {}
     },
     "b5bd2b82d53d4ba893c1ec76f6aa0e75": {
      "model_module": "jupyter-leaflet",
      "model_module_version": "2.0.0",
      "model_name": "LeafletTileLayerModel",
      "state": {
       "_view_name": "ErrorWidgetView",
       "attribution": "(C) OpenStreetMap contributors (C) CARTO",
       "error": {},
       "max_zoom": 20,
       "msg": "Failed to load model class 'LeafletTileLayerModel' from module 'jupyter-leaflet'",
       "name": "CartoDB.VoyagerLabelsUnder",
       "options": [
        "attribution",
        "bounds",
        "detect_retina",
        "max_native_zoom",
        "max_zoom",
        "min_native_zoom",
        "min_zoom",
        "no_wrap",
        "tile_size",
        "tms",
        "zoom_offset"
       ],
       "url": "https://a.basemaps.cartocdn.com/rastertiles/voyager_labels_under/{z}/{x}/{y}.png"
      }
     },
     "b67efd3ff159409098a0fa4505a3c1b1": {
      "model_module": "@jupyter-widgets/controls",
      "model_module_version": "2.0.0",
      "model_name": "HTMLModel",
      "state": {
       "layout": "IPY_MODEL_4d1d69aba4ff4392a0280303cede128c",
       "style": "IPY_MODEL_8cd86ea0043e4312b235242dc8f41ffc",
       "value": "s2_medoid_im.tif: "
      }
     },
     "b6f03fcf81d6460d9ac056070fdb23a3": {
      "model_module": "jupyter-leaflet",
      "model_module_version": "2.0.0",
      "model_name": "LeafletWMSLayerModel",
      "state": {
       "_view_name": "ErrorWidgetView",
       "attribution": "FWS",
       "crs": {
        "custom": false,
        "name": "EPSG3857"
       },
       "error": {},
       "format": "image/png",
       "layers": "0",
       "msg": "Failed to load model class 'LeafletWMSLayerModel' from module 'jupyter-leaflet'",
       "name": "FWS NWI Wetlands Raster",
       "options": [
        "attribution",
        "bounds",
        "detect_retina",
        "format",
        "layers",
        "max_native_zoom",
        "max_zoom",
        "min_native_zoom",
        "min_zoom",
        "no_wrap",
        "styles",
        "tile_size",
        "tms",
        "transparent",
        "uppercase",
        "zoom_offset"
       ],
       "transparent": true,
       "url": "https://www.fws.gov/wetlands/arcgis/services/Wetlands_Raster/ImageServer/WMSServer?"
      }
     },
     "b80a487b5a824084a4f306bb9f8221cc": {
      "model_module": "jupyter-leaflet",
      "model_module_version": "2.0.0",
      "model_name": "LeafletTileLayerModel",
      "state": {
       "_view_name": "ErrorWidgetView",
       "attribution": "Earthstar Geographics",
       "error": {},
       "max_zoom": 24,
       "msg": "Failed to load model class 'LeafletTileLayerModel' from module 'jupyter-leaflet'",
       "name": "Esri.AntarcticImagery",
       "options": [
        "attribution",
        "bounds",
        "detect_retina",
        "max_native_zoom",
        "max_zoom",
        "min_native_zoom",
        "min_zoom",
        "no_wrap",
        "tile_size",
        "tms",
        "zoom_offset"
       ],
       "url": "http://server.arcgisonline.com/ArcGIS/rest/services/Polar/Antarctic_Imagery/MapServer/tile/{z}/{y}/{x}"
      }
     },
     "b8df6bc15d094860974d1e81adfbcb3b": {
      "model_module": "jupyter-leaflet",
      "model_module_version": "2.0.0",
      "model_name": "LeafletTileLayerModel",
      "state": {
       "_view_name": "ErrorWidgetView",
       "attribution": "(C) Stadia Maps, (C) OpenMapTiles (C) OpenStreetMap contributors",
       "error": {},
       "max_zoom": 20,
       "msg": "Failed to load model class 'LeafletTileLayerModel' from module 'jupyter-leaflet'",
       "name": "Stadia.AlidadeSmoothDark",
       "options": [
        "attribution",
        "bounds",
        "detect_retina",
        "max_native_zoom",
        "max_zoom",
        "min_native_zoom",
        "min_zoom",
        "no_wrap",
        "tile_size",
        "tms",
        "zoom_offset"
       ],
       "url": "https://tiles.stadiamaps.com/tiles/alidade_smooth_dark/{z}/{x}/{y}.png"
      }
     },
     "b8e168f0cb014c1f9f02fbf26d3d2753": {
      "model_module": "jupyter-leaflet",
      "model_module_version": "2.0.0",
      "model_name": "LeafletTileLayerModel",
      "state": {
       "_view_name": "ErrorWidgetView",
       "attribution": "Tiles (C) Esri -- Sources: GEBCO, NOAA, CHS, OSU, UNH, CSUMB, National Geographic, DeLorme, NAVTEQ, and Esri",
       "error": {},
       "max_zoom": 13,
       "msg": "Failed to load model class 'LeafletTileLayerModel' from module 'jupyter-leaflet'",
       "name": "Esri.OceanBasemap",
       "options": [
        "attribution",
        "bounds",
        "detect_retina",
        "max_native_zoom",
        "max_zoom",
        "min_native_zoom",
        "min_zoom",
        "no_wrap",
        "tile_size",
        "tms",
        "zoom_offset"
       ],
       "url": "https://server.arcgisonline.com/ArcGIS/rest/services/Ocean_Basemap/MapServer/tile/{z}/{y}/{x}"
      }
     },
     "b9bba44516ad4d57856000a42c20e260": {
      "model_module": "jupyter-leaflet",
      "model_module_version": "2.0.0",
      "model_name": "LeafletTileLayerModel",
      "state": {
       "_view_name": "ErrorWidgetView",
       "attribution": "Justice Map",
       "error": {},
       "max_zoom": 22,
       "msg": "Failed to load model class 'LeafletTileLayerModel' from module 'jupyter-leaflet'",
       "name": "JusticeMap.asian",
       "options": [
        "attribution",
        "bounds",
        "detect_retina",
        "max_native_zoom",
        "max_zoom",
        "min_native_zoom",
        "min_zoom",
        "no_wrap",
        "tile_size",
        "tms",
        "zoom_offset"
       ],
       "url": "https://www.justicemap.org/tile/county/asian/{z}/{x}/{y}.png"
      }
     },
     "bbe777fd811347e5ad0ef157c3fc66c9": {
      "model_module": "jupyter-leaflet",
      "model_module_version": "2.0.0",
      "model_name": "LeafletTileLayerModel",
      "state": {
       "_view_name": "ErrorWidgetView",
       "attribution": "Map data: (C) OpenStreetMap contributors | Map style: (C) waymarkedtrails.org (CC-BY-SA)",
       "error": {},
       "msg": "Failed to load model class 'LeafletTileLayerModel' from module 'jupyter-leaflet'",
       "name": "WaymarkedTrails.cycling",
       "options": [
        "attribution",
        "bounds",
        "detect_retina",
        "max_native_zoom",
        "max_zoom",
        "min_native_zoom",
        "min_zoom",
        "no_wrap",
        "tile_size",
        "tms",
        "zoom_offset"
       ],
       "url": "https://tile.waymarkedtrails.org/cycling/{z}/{x}/{y}.png"
      }
     },
     "bc259018ef394552b43084f7d8caad42": {
      "model_module": "jupyter-leaflet",
      "model_module_version": "2.0.0",
      "model_name": "LeafletTileLayerModel",
      "state": {
       "_view_name": "ErrorWidgetView",
       "attribution": "Kaartgegevens (C) Kadaster",
       "error": {},
       "max_zoom": 19,
       "msg": "Failed to load model class 'LeafletTileLayerModel' from module 'jupyter-leaflet'",
       "name": "nlmaps.pastel",
       "options": [
        "attribution",
        "bounds",
        "detect_retina",
        "max_native_zoom",
        "max_zoom",
        "min_native_zoom",
        "min_zoom",
        "no_wrap",
        "tile_size",
        "tms",
        "zoom_offset"
       ],
       "url": "https://service.pdok.nl/brt/achtergrondkaart/wmts/v2_0/pastel/EPSG:3857/{z}/{x}/{y}.png"
      }
     },
     "bc49213330e34d1ba44e2d5e10e9a0af": {
      "model_module": "jupyter-leaflet",
      "model_module_version": "2.0.0",
      "model_name": "LeafletTileLayerModel",
      "state": {
       "_view_name": "ErrorWidgetView",
       "attribution": "![](https://docs.onemap.sg/maps/images/oneMap64-01.png) New OneMap | Map data (C) contributors, Singapore Land Authority",
       "error": {},
       "msg": "Failed to load model class 'LeafletTileLayerModel' from module 'jupyter-leaflet'",
       "name": "OneMapSG.LandLot",
       "options": [
        "attribution",
        "bounds",
        "detect_retina",
        "max_native_zoom",
        "max_zoom",
        "min_native_zoom",
        "min_zoom",
        "no_wrap",
        "tile_size",
        "tms",
        "zoom_offset"
       ],
       "url": "https://maps-a.onemap.sg/v3/LandLot/{z}/{x}/{y}.png"
      }
     },
     "bd06020187344a059345b976ed326d8e": {
      "model_module": "jupyter-leaflet",
      "model_module_version": "2.0.0",
      "model_name": "LeafletTileLayerModel",
      "state": {
       "_view_name": "ErrorWidgetView",
       "attribution": "(C) Stadia Maps, (C) OpenMapTiles (C) OpenStreetMap contributors",
       "error": {},
       "max_zoom": 20,
       "msg": "Failed to load model class 'LeafletTileLayerModel' from module 'jupyter-leaflet'",
       "name": "Stadia.Outdoors",
       "options": [
        "attribution",
        "bounds",
        "detect_retina",
        "max_native_zoom",
        "max_zoom",
        "min_native_zoom",
        "min_zoom",
        "no_wrap",
        "tile_size",
        "tms",
        "zoom_offset"
       ],
       "url": "https://tiles.stadiamaps.com/tiles/outdoors/{z}/{x}/{y}.png"
      }
     },
     "bdb4a2ebe5614259887662a90121aa16": {
      "model_module": "@jupyter-widgets/controls",
      "model_module_version": "2.0.0",
      "model_name": "HBoxModel",
      "state": {
       "children": [
        "IPY_MODEL_b67efd3ff159409098a0fa4505a3c1b1",
        "IPY_MODEL_a1a55e38255a4c489cad017c5ec35957",
        "IPY_MODEL_f2d3829d3a1647628ffafd4105e1618d"
       ],
       "layout": "IPY_MODEL_6f731e5e27444366b95528938448ab21"
      }
     },
     "be78eda94bd94971a0af5344eee9fe9d": {
      "model_module": "jupyter-leaflet",
      "model_module_version": "2.0.0",
      "model_name": "LeafletTileLayerModel",
      "state": {
       "_view_name": "ErrorWidgetView",
       "attribution": "Map tiles by Stamen Design, CC BY 3.0 -- Map data (C) OpenStreetMap contributors",
       "error": {},
       "max_zoom": 16,
       "msg": "Failed to load model class 'LeafletTileLayerModel' from module 'jupyter-leaflet'",
       "name": "Stamen.Watercolor",
       "options": [
        "attribution",
        "bounds",
        "detect_retina",
        "max_native_zoom",
        "max_zoom",
        "min_native_zoom",
        "min_zoom",
        "no_wrap",
        "tile_size",
        "tms",
        "zoom_offset"
       ],
       "url": "https://stamen-tiles-a.a.ssl.fastly.net/watercolor/{z}/{x}/{y}.jpg"
      }
     },
     "be86a6442eb04a7396d7af73c83c3248": {
      "model_module": "jupyter-leaflet",
      "model_module_version": "2.0.0",
      "model_name": "LeafletTileLayerModel",
      "state": {
       "_view_name": "ErrorWidgetView",
       "attribution": "Imagery provided by services from the Global Imagery Browse Services (GIBS), operated by the NASA/GSFC/Earth Science Data and Information System (ESDIS) with funding provided by NASA/HQ.",
       "error": {},
       "max_zoom": 9,
       "msg": "Failed to load model class 'LeafletTileLayerModel' from module 'jupyter-leaflet'",
       "name": "NASAGIBS.ModisAquaBands721CR",
       "options": [
        "attribution",
        "bounds",
        "detect_retina",
        "max_native_zoom",
        "max_zoom",
        "min_native_zoom",
        "min_zoom",
        "no_wrap",
        "tile_size",
        "tms",
        "zoom_offset"
       ],
       "url": "https://gibs.earthdata.nasa.gov/wmts/epsg3857/best/MODIS_Aqua_CorrectedReflectance_Bands721/default//GoogleMapsCompatible_Level9/{z}/{y}/{x}.jpg"
      }
     },
     "bf9b38be4e4a46b5bef6af30119ccffd": {
      "model_module": "jupyter-leaflet",
      "model_module_version": "2.0.0",
      "model_name": "LeafletTileLayerModel",
      "state": {
       "_view_name": "ErrorWidgetView",
       "attribution": "Map tiles by <a href=\"https://labs.strava.com/heatmap\">Strava 2021</a>",
       "error": {},
       "max_zoom": 15,
       "msg": "Failed to load model class 'LeafletTileLayerModel' from module 'jupyter-leaflet'",
       "name": "Strava.Winter",
       "options": [
        "attribution",
        "bounds",
        "detect_retina",
        "max_native_zoom",
        "max_zoom",
        "min_native_zoom",
        "min_zoom",
        "no_wrap",
        "tile_size",
        "tms",
        "zoom_offset"
       ],
       "url": "https://heatmap-external-a.strava.com/tiles/winter/hot/{z}/{x}/{y}.png"
      }
     },
     "bfc4557369ce4523863cd34b235e069c": {
      "model_module": "@jupyter-widgets/controls",
      "model_module_version": "2.0.0",
      "model_name": "ProgressStyleModel",
      "state": {
       "description_width": ""
      }
     },
     "c09537bb14d64841bdabc44dac43e21f": {
      "model_module": "jupyter-leaflet",
      "model_module_version": "2.0.0",
      "model_name": "LeafletWMSLayerModel",
      "state": {
       "_view_name": "ErrorWidgetView",
       "attribution": "USGS",
       "crs": {
        "custom": false,
        "name": "EPSG3857"
       },
       "error": {},
       "format": "image/png",
       "layers": "USGSNAIPImagery:NDVI_Color",
       "msg": "Failed to load model class 'LeafletWMSLayerModel' from module 'jupyter-leaflet'",
       "name": "USGS NAIP Imagery NDVI",
       "options": [
        "attribution",
        "bounds",
        "detect_retina",
        "format",
        "layers",
        "max_native_zoom",
        "max_zoom",
        "min_native_zoom",
        "min_zoom",
        "no_wrap",
        "styles",
        "tile_size",
        "tms",
        "transparent",
        "uppercase",
        "zoom_offset"
       ],
       "transparent": true,
       "url": "https://imagery.nationalmap.gov/arcgis/services/USGSNAIPImagery/ImageServer/WMSServer?"
      }
     },
     "c26a8b152d1148c8964d18b373c59454": {
      "model_module": "jupyter-leaflet",
      "model_module_version": "2.0.0",
      "model_name": "LeafletWMSLayerModel",
      "state": {
       "_view_name": "ErrorWidgetView",
       "attribution": "FWS",
       "crs": {
        "custom": false,
        "name": "EPSG3857"
       },
       "error": {},
       "format": "image/png",
       "layers": "1",
       "msg": "Failed to load model class 'LeafletWMSLayerModel' from module 'jupyter-leaflet'",
       "name": "FWS NWI Wetlands",
       "options": [
        "attribution",
        "bounds",
        "detect_retina",
        "format",
        "layers",
        "max_native_zoom",
        "max_zoom",
        "min_native_zoom",
        "min_zoom",
        "no_wrap",
        "styles",
        "tile_size",
        "tms",
        "transparent",
        "uppercase",
        "zoom_offset"
       ],
       "transparent": true,
       "url": "https://www.fws.gov/wetlands/arcgis/services/Wetlands/MapServer/WMSServer?"
      }
     },
     "c4f3405c724944cb903be76333300db3": {
      "model_module": "jupyter-leaflet",
      "model_module_version": "2.0.0",
      "model_name": "LeafletTileLayerModel",
      "state": {
       "_view_name": "ErrorWidgetView",
       "attribution": "Tiles (C) Esri -- Copyright: (C)2012 DeLorme",
       "error": {},
       "max_zoom": 11,
       "msg": "Failed to load model class 'LeafletTileLayerModel' from module 'jupyter-leaflet'",
       "name": "Esri.DeLorme",
       "options": [
        "attribution",
        "bounds",
        "detect_retina",
        "max_native_zoom",
        "max_zoom",
        "min_native_zoom",
        "min_zoom",
        "no_wrap",
        "tile_size",
        "tms",
        "zoom_offset"
       ],
       "url": "https://server.arcgisonline.com/ArcGIS/rest/services/Specialty/DeLorme_World_Base_Map/MapServer/tile/{z}/{y}/{x}"
      }
     },
     "c5374355a9354ae887317c8ff3d41250": {
      "model_module": "@jupyter-widgets/controls",
      "model_module_version": "2.0.0",
      "model_name": "HTMLStyleModel",
      "state": {
       "description_width": "",
       "font_size": null,
       "text_color": null
      }
     },
     "c59550707736421db30389135d604684": {
      "model_module": "jupyter-leaflet",
      "model_module_version": "2.0.0",
      "model_name": "LeafletTileLayerModel",
      "state": {
       "_view_name": "ErrorWidgetView",
       "attribution": "(C) OpenStreetMap contributors & USGS",
       "error": {},
       "max_zoom": 22,
       "msg": "Failed to load model class 'LeafletTileLayerModel' from module 'jupyter-leaflet'",
       "name": "MtbMap",
       "options": [
        "attribution",
        "bounds",
        "detect_retina",
        "max_native_zoom",
        "max_zoom",
        "min_native_zoom",
        "min_zoom",
        "no_wrap",
        "tile_size",
        "tms",
        "zoom_offset"
       ],
       "url": "http://tile.mtbmap.cz/mtbmap_tiles/{z}/{x}/{y}.png"
      }
     },
     "c5fda237e505448389028037f377aba2": {
      "model_module": "jupyter-leaflet",
      "model_module_version": "2.0.0",
      "model_name": "LeafletWMSLayerModel",
      "state": {
       "_view_name": "ErrorWidgetView",
       "attribution": "MRLC",
       "crs": {
        "custom": false,
        "name": "EPSG3857"
       },
       "error": {},
       "format": "image/png",
       "layers": "NLCD_2016_Land_Cover_L48",
       "msg": "Failed to load model class 'LeafletWMSLayerModel' from module 'jupyter-leaflet'",
       "name": "NLCD 2016 CONUS Land Cover",
       "options": [
        "attribution",
        "bounds",
        "detect_retina",
        "format",
        "layers",
        "max_native_zoom",
        "max_zoom",
        "min_native_zoom",
        "min_zoom",
        "no_wrap",
        "styles",
        "tile_size",
        "tms",
        "transparent",
        "uppercase",
        "zoom_offset"
       ],
       "transparent": true,
       "url": "https://www.mrlc.gov/geoserver/mrlc_display/NLCD_2016_Land_Cover_L48/wms?"
      }
     },
     "c8a267d6a66b4132bf526a516e3f2278": {
      "model_module": "@jupyter-widgets/controls",
      "model_module_version": "2.0.0",
      "model_name": "FloatProgressModel",
      "state": {
       "bar_style": "success",
       "layout": "IPY_MODEL_7b4d26ba0d5f4022bc76dd3931f7838c",
       "max": 1,
       "style": "IPY_MODEL_788b37c13ae049c7826a82167b7ccc0e",
       "value": 1
      }
     },
     "c8b6c4bdebd2442fb06ee99128d47a5b": {
      "model_module": "@jupyter-widgets/base",
      "model_module_version": "2.0.0",
      "model_name": "LayoutModel",
      "state": {}
     },
     "cb16b110a9244dfa90d7c9c530c109e6": {
      "model_module": "jupyter-leaflet",
      "model_module_version": "2.0.0",
      "model_name": "LeafletTileLayerModel",
      "state": {
       "_view_name": "ErrorWidgetView",
       "attribution": "Map tiles by Stamen Design, CC BY 3.0 -- Map data (C) OpenStreetMap contributors",
       "error": {},
       "msg": "Failed to load model class 'LeafletTileLayerModel' from module 'jupyter-leaflet'",
       "name": "Stamen.TerrainLabels",
       "options": [
        "attribution",
        "bounds",
        "detect_retina",
        "max_native_zoom",
        "max_zoom",
        "min_native_zoom",
        "min_zoom",
        "no_wrap",
        "tile_size",
        "tms",
        "zoom_offset"
       ],
       "url": "https://stamen-tiles-a.a.ssl.fastly.net/terrain-labels/{z}/{x}/{y}.png"
      }
     },
     "cb3d841725d947f8922659146d9a79c3": {
      "model_module": "@jupyter-widgets/base",
      "model_module_version": "2.0.0",
      "model_name": "LayoutModel",
      "state": {}
     },
     "cbe8b7918aae4cbfacc61b46e3e6a170": {
      "model_module": "jupyter-leaflet",
      "model_module_version": "2.0.0",
      "model_name": "LeafletTileLayerModel",
      "state": {
       "_view_name": "ErrorWidgetView",
       "attribution": "Tiles courtesy of the U.S. Geological Survey",
       "error": {},
       "max_zoom": 20,
       "msg": "Failed to load model class 'LeafletTileLayerModel' from module 'jupyter-leaflet'",
       "name": "USGS.USImagery",
       "options": [
        "attribution",
        "bounds",
        "detect_retina",
        "max_native_zoom",
        "max_zoom",
        "min_native_zoom",
        "min_zoom",
        "no_wrap",
        "tile_size",
        "tms",
        "zoom_offset"
       ],
       "url": "https://basemap.nationalmap.gov/arcgis/rest/services/USGSImageryOnly/MapServer/tile/{z}/{y}/{x}"
      }
     },
     "cd73c10387a94bf7b0e0b843c2c6f76e": {
      "model_module": "jupyter-leaflet",
      "model_module_version": "2.0.0",
      "model_name": "LeafletTileLayerModel",
      "state": {
       "_view_name": "ErrorWidgetView",
       "attribution": "Map data: (C) OpenStreetMap contributors | Map style: (C) OpenFireMap (CC-BY-SA)",
       "error": {},
       "max_zoom": 19,
       "msg": "Failed to load model class 'LeafletTileLayerModel' from module 'jupyter-leaflet'",
       "name": "OpenFireMap",
       "options": [
        "attribution",
        "bounds",
        "detect_retina",
        "max_native_zoom",
        "max_zoom",
        "min_native_zoom",
        "min_zoom",
        "no_wrap",
        "tile_size",
        "tms",
        "zoom_offset"
       ],
       "url": "http://openfiremap.org/hytiles/{z}/{x}/{y}.png"
      }
     },
     "cf4910a75c544f6688481561d3af7de5": {
      "model_module": "jupyter-leaflet",
      "model_module_version": "2.0.0",
      "model_name": "LeafletTileLayerModel",
      "state": {
       "_view_name": "ErrorWidgetView",
       "attribution": "(C) OpenStreetMap contributors (C) CARTO",
       "error": {},
       "max_zoom": 20,
       "msg": "Failed to load model class 'LeafletTileLayerModel' from module 'jupyter-leaflet'",
       "name": "CartoDB.VoyagerOnlyLabels",
       "options": [
        "attribution",
        "bounds",
        "detect_retina",
        "max_native_zoom",
        "max_zoom",
        "min_native_zoom",
        "min_zoom",
        "no_wrap",
        "tile_size",
        "tms",
        "zoom_offset"
       ],
       "url": "https://a.basemaps.cartocdn.com/rastertiles/voyager_only_labels/{z}/{x}/{y}.png"
      }
     },
     "d00fe490e5464e78bbd9ec71ba20236f": {
      "model_module": "jupyter-leaflet",
      "model_module_version": "2.0.0",
      "model_name": "LeafletTileLayerModel",
      "state": {
       "_view_name": "ErrorWidgetView",
       "attribution": "Justice Map",
       "error": {},
       "max_zoom": 22,
       "msg": "Failed to load model class 'LeafletTileLayerModel' from module 'jupyter-leaflet'",
       "name": "JusticeMap.multi",
       "options": [
        "attribution",
        "bounds",
        "detect_retina",
        "max_native_zoom",
        "max_zoom",
        "min_native_zoom",
        "min_zoom",
        "no_wrap",
        "tile_size",
        "tms",
        "zoom_offset"
       ],
       "url": "https://www.justicemap.org/tile/county/multi/{z}/{x}/{y}.png"
      }
     },
     "d1475bca1d334047bb219db903069ef3": {
      "model_module": "@jupyter-widgets/controls",
      "model_module_version": "2.0.0",
      "model_name": "HBoxModel",
      "state": {
       "children": [
        "IPY_MODEL_7687cbfc04b24918b564223f8929102d",
        "IPY_MODEL_c8a267d6a66b4132bf526a516e3f2278",
        "IPY_MODEL_a57a7639c34f4d9e988193958af06e0f"
       ],
       "layout": "IPY_MODEL_d82698c1ca56487bb7b184446f5e1294"
      }
     },
     "d26ac23ccd4b432b9bdb93c0afda4152": {
      "model_module": "jupyter-leaflet",
      "model_module_version": "2.0.0",
      "model_name": "LeafletTileLayerModel",
      "state": {
       "_view_name": "ErrorWidgetView",
       "attribution": "Map tiles by Stamen Design, CC BY 3.0 -- Map data (C) OpenStreetMap contributors",
       "error": {},
       "msg": "Failed to load model class 'LeafletTileLayerModel' from module 'jupyter-leaflet'",
       "name": "Stamen.TerrainBackground",
       "options": [
        "attribution",
        "bounds",
        "detect_retina",
        "max_native_zoom",
        "max_zoom",
        "min_native_zoom",
        "min_zoom",
        "no_wrap",
        "tile_size",
        "tms",
        "zoom_offset"
       ],
       "url": "https://stamen-tiles-a.a.ssl.fastly.net/terrain-background/{z}/{x}/{y}.png"
      }
     },
     "d3112468c7414951afb2320a73fcedc1": {
      "model_module": "jupyter-leaflet",
      "model_module_version": "2.0.0",
      "model_name": "LeafletTileLayerModel",
      "state": {
       "_view_name": "ErrorWidgetView",
       "attribution": "Tiles (C) Esri -- Esri, DeLorme, NAVTEQ",
       "error": {},
       "max_zoom": 16,
       "msg": "Failed to load model class 'LeafletTileLayerModel' from module 'jupyter-leaflet'",
       "name": "Esri.WorldGrayCanvas",
       "options": [
        "attribution",
        "bounds",
        "detect_retina",
        "max_native_zoom",
        "max_zoom",
        "min_native_zoom",
        "min_zoom",
        "no_wrap",
        "tile_size",
        "tms",
        "zoom_offset"
       ],
       "url": "https://server.arcgisonline.com/ArcGIS/rest/services/Canvas/World_Light_Gray_Base/MapServer/tile/{z}/{y}/{x}"
      }
     },
     "d3d3bce783c34ff68aeff1e9356d4e11": {
      "model_module": "jupyter-leaflet",
      "model_module_version": "2.0.0",
      "model_name": "LeafletTileLayerModel",
      "state": {
       "_view_name": "ErrorWidgetView",
       "attribution": "Datenquelle: basemap.at",
       "error": {},
       "max_zoom": 19,
       "msg": "Failed to load model class 'LeafletTileLayerModel' from module 'jupyter-leaflet'",
       "name": "BasemapAT.highdpi",
       "options": [
        "attribution",
        "bounds",
        "detect_retina",
        "max_native_zoom",
        "max_zoom",
        "min_native_zoom",
        "min_zoom",
        "no_wrap",
        "tile_size",
        "tms",
        "zoom_offset"
       ],
       "url": "https://maps.wien.gv.at/basemap/bmaphidpi/normal/google3857/{z}/{y}/{x}.jpeg"
      }
     },
     "d82698c1ca56487bb7b184446f5e1294": {
      "model_module": "@jupyter-widgets/base",
      "model_module_version": "2.0.0",
      "model_name": "LayoutModel",
      "state": {
       "display": "inline-flex",
       "flex_flow": "row wrap",
       "width": "100%"
      }
     },
     "da8baf500177455796c951468d69e1c0": {
      "model_module": "jupyter-leaflet",
      "model_module_version": "2.0.0",
      "model_name": "LeafletTileLayerModel",
      "state": {
       "_view_name": "ErrorWidgetView",
       "attribution": "© swisstopo",
       "error": {},
       "msg": "Failed to load model class 'LeafletTileLayerModel' from module 'jupyter-leaflet'",
       "name": "SwissFederalGeoportal.JourneyThroughTime",
       "options": [
        "attribution",
        "bounds",
        "detect_retina",
        "max_native_zoom",
        "max_zoom",
        "min_native_zoom",
        "min_zoom",
        "no_wrap",
        "tile_size",
        "tms",
        "zoom_offset"
       ],
       "url": "https://wmts.geo.admin.ch/1.0.0/ch.swisstopo.zeitreihen/default/18641231/3857/{z}/{x}/{y}.png"
      }
     },
     "daa4eea8a3f048358dcc5b5b222c6966": {
      "model_module": "jupyter-leaflet",
      "model_module_version": "2.0.0",
      "model_name": "LeafletTileLayerModel",
      "state": {
       "_view_name": "ErrorWidgetView",
       "attribution": "Tiles (C) Esri -- Source: US National Park Service",
       "error": {},
       "max_zoom": 8,
       "msg": "Failed to load model class 'LeafletTileLayerModel' from module 'jupyter-leaflet'",
       "name": "Esri.WorldPhysical",
       "options": [
        "attribution",
        "bounds",
        "detect_retina",
        "max_native_zoom",
        "max_zoom",
        "min_native_zoom",
        "min_zoom",
        "no_wrap",
        "tile_size",
        "tms",
        "zoom_offset"
       ],
       "url": "https://server.arcgisonline.com/ArcGIS/rest/services/World_Physical_Map/MapServer/tile/{z}/{y}/{x}"
      }
     },
     "dc3a0fded3214fdb977fe1d440da5dd8": {
      "model_module": "jupyter-leaflet",
      "model_module_version": "2.0.0",
      "model_name": "LeafletTileLayerModel",
      "state": {
       "_view_name": "ErrorWidgetView",
       "attribution": "(C) OpenStreetMap contributors (C) CARTO",
       "error": {},
       "max_zoom": 20,
       "msg": "Failed to load model class 'LeafletTileLayerModel' from module 'jupyter-leaflet'",
       "name": "CartoDB.DarkMatterOnlyLabels",
       "options": [
        "attribution",
        "bounds",
        "detect_retina",
        "max_native_zoom",
        "max_zoom",
        "min_native_zoom",
        "min_zoom",
        "no_wrap",
        "tile_size",
        "tms",
        "zoom_offset"
       ],
       "url": "https://a.basemaps.cartocdn.com/dark_only_labels/{z}/{x}/{y}.png"
      }
     },
     "dcddf21ca4ac4c359d4d56a26c4efdf2": {
      "model_module": "jupyter-leaflet",
      "model_module_version": "2.0.0",
      "model_name": "LeafletTileLayerModel",
      "state": {
       "_view_name": "ErrorWidgetView",
       "attribution": "Geoportail France",
       "error": {},
       "max_zoom": 19,
       "msg": "Failed to load model class 'LeafletTileLayerModel' from module 'jupyter-leaflet'",
       "name": "GeoportailFrance.orthos",
       "options": [
        "attribution",
        "bounds",
        "detect_retina",
        "max_native_zoom",
        "max_zoom",
        "min_native_zoom",
        "min_zoom",
        "no_wrap",
        "tile_size",
        "tms",
        "zoom_offset"
       ],
       "url": "https://wxs.ign.fr/choisirgeoportail/geoportail/wmts?REQUEST=GetTile&SERVICE=WMTS&VERSION=1.0.0&STYLE=normal&TILEMATRIXSET=PM&FORMAT=image/jpeg&LAYER=ORTHOIMAGERY.ORTHOPHOTOS&TILEMATRIX={z}&TILEROW={y}&TILECOL={x}"
      }
     },
     "e04e2168983d4c81a9cd0955d6f293f3": {
      "model_module": "jupyter-leaflet",
      "model_module_version": "2.0.0",
      "model_name": "LeafletTileLayerModel",
      "state": {
       "_view_name": "ErrorWidgetView",
       "attribution": "Geoportail France",
       "error": {},
       "msg": "Failed to load model class 'LeafletTileLayerModel' from module 'jupyter-leaflet'",
       "name": "GeoportailFrance.plan",
       "options": [
        "attribution",
        "bounds",
        "detect_retina",
        "max_native_zoom",
        "max_zoom",
        "min_native_zoom",
        "min_zoom",
        "no_wrap",
        "tile_size",
        "tms",
        "zoom_offset"
       ],
       "url": "https://wxs.ign.fr/choisirgeoportail/geoportail/wmts?REQUEST=GetTile&SERVICE=WMTS&VERSION=1.0.0&STYLE=normal&TILEMATRIXSET=PM&FORMAT=image/png&LAYER=GEOGRAPHICALGRIDSYSTEMS.PLANIGNV2&TILEMATRIX={z}&TILEROW={y}&TILECOL={x}"
      }
     },
     "e190c599b12543c9ab6c11c91a534f02": {
      "model_module": "jupyter-leaflet",
      "model_module_version": "2.0.0",
      "model_name": "LeafletTileLayerModel",
      "state": {
       "_view_name": "ErrorWidgetView",
       "attribution": "OpenStreetMap",
       "error": {},
       "max_zoom": 22,
       "msg": "Failed to load model class 'LeafletTileLayerModel' from module 'jupyter-leaflet'",
       "name": "OpenStreetMap",
       "options": [
        "attribution",
        "bounds",
        "detect_retina",
        "max_native_zoom",
        "max_zoom",
        "min_native_zoom",
        "min_zoom",
        "no_wrap",
        "tile_size",
        "tms",
        "zoom_offset"
       ]
      }
     },
     "e1cedd4f07704fbbbf480c45be7a4f6e": {
      "model_module": "jupyter-leaflet",
      "model_module_version": "2.0.0",
      "model_name": "LeafletWMSLayerModel",
      "state": {
       "_view_name": "ErrorWidgetView",
       "attribution": "MRLC",
       "crs": {
        "custom": false,
        "name": "EPSG3857"
       },
       "error": {},
       "format": "image/png",
       "layers": "NLCD_2011_Land_Cover_L48",
       "msg": "Failed to load model class 'LeafletWMSLayerModel' from module 'jupyter-leaflet'",
       "name": "NLCD 2011 CONUS Land Cover",
       "options": [
        "attribution",
        "bounds",
        "detect_retina",
        "format",
        "layers",
        "max_native_zoom",
        "max_zoom",
        "min_native_zoom",
        "min_zoom",
        "no_wrap",
        "styles",
        "tile_size",
        "tms",
        "transparent",
        "uppercase",
        "zoom_offset"
       ],
       "transparent": true,
       "url": "https://www.mrlc.gov/geoserver/mrlc_display/NLCD_2011_Land_Cover_L48/wms?"
      }
     },
     "e3b2bd0b21374fe4a6f3e4dfcbc5449a": {
      "model_module": "jupyter-leaflet",
      "model_module_version": "2.0.0",
      "model_name": "LeafletTileLayerModel",
      "state": {
       "_view_name": "ErrorWidgetView",
       "attribution": "Map data: (C) OpenStreetMap contributors | Map style: (C) OpenRailwayMap (CC-BY-SA)",
       "error": {},
       "max_zoom": 19,
       "msg": "Failed to load model class 'LeafletTileLayerModel' from module 'jupyter-leaflet'",
       "name": "OpenRailwayMap",
       "options": [
        "attribution",
        "bounds",
        "detect_retina",
        "max_native_zoom",
        "max_zoom",
        "min_native_zoom",
        "min_zoom",
        "no_wrap",
        "tile_size",
        "tms",
        "zoom_offset"
       ],
       "url": "https://a.tiles.openrailwaymap.org/standard/{z}/{x}/{y}.png"
      }
     },
     "e3c8826fb5ae430390b4b288e6b365a7": {
      "model_module": "jupyter-leaflet",
      "model_module_version": "2.0.0",
      "model_name": "LeafletTileLayerModel",
      "state": {
       "_view_name": "ErrorWidgetView",
       "attribution": "Imagery provided by services from the Global Imagery Browse Services (GIBS), operated by the NASA/GSFC/Earth Science Data and Information System (ESDIS) with funding provided by NASA/HQ.",
       "error": {},
       "max_zoom": 8,
       "msg": "Failed to load model class 'LeafletTileLayerModel' from module 'jupyter-leaflet'",
       "name": "NASAGIBS.ViirsEarthAtNight2012",
       "options": [
        "attribution",
        "bounds",
        "detect_retina",
        "max_native_zoom",
        "max_zoom",
        "min_native_zoom",
        "min_zoom",
        "no_wrap",
        "tile_size",
        "tms",
        "zoom_offset"
       ],
       "url": "https://map1.vis.earthdata.nasa.gov/wmts-webmerc/VIIRS_CityLights_2012/default//GoogleMapsCompatible_Level8/{z}/{y}/{x}.jpg"
      }
     },
     "e6d46b02990d46d4b51ce0a5bfa556ef": {
      "model_module": "jupyter-leaflet",
      "model_module_version": "2.0.0",
      "model_name": "LeafletTileLayerModel",
      "state": {
       "_view_name": "ErrorWidgetView",
       "attribution": "Map data: (C) OpenStreetMap contributors | Map style: (C) waymarkedtrails.org (CC-BY-SA)",
       "error": {},
       "msg": "Failed to load model class 'LeafletTileLayerModel' from module 'jupyter-leaflet'",
       "name": "WaymarkedTrails.slopes",
       "options": [
        "attribution",
        "bounds",
        "detect_retina",
        "max_native_zoom",
        "max_zoom",
        "min_native_zoom",
        "min_zoom",
        "no_wrap",
        "tile_size",
        "tms",
        "zoom_offset"
       ],
       "url": "https://tile.waymarkedtrails.org/slopes/{z}/{x}/{y}.png"
      }
     },
     "e713b42d5aec4721a1268c659d42a829": {
      "model_module": "jupyter-leaflet",
      "model_module_version": "2.0.0",
      "model_name": "LeafletTileLayerModel",
      "state": {
       "_view_name": "ErrorWidgetView",
       "attribution": "Map tiles by <a href=\"https://labs.strava.com/heatmap\">Strava 2021</a>",
       "error": {},
       "max_zoom": 15,
       "msg": "Failed to load model class 'LeafletTileLayerModel' from module 'jupyter-leaflet'",
       "name": "Strava.Ride",
       "options": [
        "attribution",
        "bounds",
        "detect_retina",
        "max_native_zoom",
        "max_zoom",
        "min_native_zoom",
        "min_zoom",
        "no_wrap",
        "tile_size",
        "tms",
        "zoom_offset"
       ],
       "url": "https://heatmap-external-a.strava.com/tiles/ride/hot/{z}/{x}/{y}.png"
      }
     },
     "e8f273a1448a486a9e0f5d7d0bc4fae6": {
      "model_module": "jupyter-leaflet",
      "model_module_version": "2.0.0",
      "model_name": "LeafletTileLayerModel",
      "state": {
       "_view_name": "ErrorWidgetView",
       "attribution": "Earthstar Geographics",
       "error": {},
       "max_zoom": 24,
       "msg": "Failed to load model class 'LeafletTileLayerModel' from module 'jupyter-leaflet'",
       "name": "Esri.ArcticImagery",
       "options": [
        "attribution",
        "bounds",
        "detect_retina",
        "max_native_zoom",
        "max_zoom",
        "min_native_zoom",
        "min_zoom",
        "no_wrap",
        "tile_size",
        "tms",
        "zoom_offset"
       ],
       "url": "http://server.arcgisonline.com/ArcGIS/rest/services/Polar/Arctic_Imagery/MapServer/tile/{z}/{y}/{x}"
      }
     },
     "e9e62decfdad4a1ca0ee34c0deed5865": {
      "model_module": "jupyter-leaflet",
      "model_module_version": "2.0.0",
      "model_name": "LeafletWMSLayerModel",
      "state": {
       "_view_name": "ErrorWidgetView",
       "attribution": "MRLC",
       "crs": {
        "custom": false,
        "name": "EPSG3857"
       },
       "error": {},
       "format": "image/png",
       "layers": "NLCD_2013_Land_Cover_L48",
       "msg": "Failed to load model class 'LeafletWMSLayerModel' from module 'jupyter-leaflet'",
       "name": "NLCD 2013 CONUS Land Cover",
       "options": [
        "attribution",
        "bounds",
        "detect_retina",
        "format",
        "layers",
        "max_native_zoom",
        "max_zoom",
        "min_native_zoom",
        "min_zoom",
        "no_wrap",
        "styles",
        "tile_size",
        "tms",
        "transparent",
        "uppercase",
        "zoom_offset"
       ],
       "transparent": true,
       "url": "https://www.mrlc.gov/geoserver/mrlc_display/NLCD_2013_Land_Cover_L48/wms?"
      }
     },
     "ea6feb2791b847d49faef95cd60d4c4a": {
      "model_module": "jupyter-leaflet",
      "model_module_version": "2.0.0",
      "model_name": "LeafletTileLayerModel",
      "state": {
       "_view_name": "ErrorWidgetView",
       "attribution": "(C) OpenStreetMap contributors",
       "error": {},
       "msg": "Failed to load model class 'LeafletTileLayerModel' from module 'jupyter-leaflet'",
       "name": "OpenStreetMap.CH",
       "options": [
        "attribution",
        "bounds",
        "detect_retina",
        "max_native_zoom",
        "max_zoom",
        "min_native_zoom",
        "min_zoom",
        "no_wrap",
        "tile_size",
        "tms",
        "zoom_offset"
       ],
       "url": "https://tile.osm.ch/switzerland/{z}/{x}/{y}.png"
      }
     },
     "ead93acd8d484ccc9f0e75c66d8e0272": {
      "model_module": "jupyter-leaflet",
      "model_module_version": "2.0.0",
      "model_name": "LeafletTileLayerModel",
      "state": {
       "_view_name": "ErrorWidgetView",
       "attribution": "(C) OpenStreetMap contributors",
       "error": {},
       "msg": "Failed to load model class 'LeafletTileLayerModel' from module 'jupyter-leaflet'",
       "name": "OpenStreetMap.BlackAndWhite",
       "options": [
        "attribution",
        "bounds",
        "detect_retina",
        "max_native_zoom",
        "max_zoom",
        "min_native_zoom",
        "min_zoom",
        "no_wrap",
        "tile_size",
        "tms",
        "zoom_offset"
       ],
       "url": "http://a.tiles.wmflabs.org/bw-mapnik/{z}/{x}/{y}.png"
      }
     },
     "ed97a2cfa08b44cc9cd2c61701ec5dcf": {
      "model_module": "@jupyter-widgets/controls",
      "model_module_version": "2.0.0",
      "model_name": "HTMLStyleModel",
      "state": {
       "description_width": "",
       "font_size": null,
       "text_color": null
      }
     },
     "ede50f3d0204466bbbaf8081a4f0451b": {
      "model_module": "jupyter-leaflet",
      "model_module_version": "2.0.0",
      "model_name": "LeafletTileLayerModel",
      "state": {
       "_view_name": "ErrorWidgetView",
       "attribution": "Imagery provided by services from the Global Imagery Browse Services (GIBS), operated by the NASA/GSFC/Earth Science Data and Information System (ESDIS) with funding provided by NASA/HQ.",
       "error": {},
       "max_zoom": 8,
       "msg": "Failed to load model class 'LeafletTileLayerModel' from module 'jupyter-leaflet'",
       "name": "NASAGIBS.ModisTerraSnowCover",
       "options": [
        "attribution",
        "bounds",
        "detect_retina",
        "max_native_zoom",
        "max_zoom",
        "min_native_zoom",
        "min_zoom",
        "no_wrap",
        "tile_size",
        "tms",
        "zoom_offset"
       ],
       "url": "https://map1.vis.earthdata.nasa.gov/wmts-webmerc/MODIS_Terra_NDSI_Snow_Cover/default//GoogleMapsCompatible_Level8/{z}/{y}/{x}.png"
      }
     },
     "eedddf1bb86d4be8aa2043da235ef8b6": {
      "model_module": "jupyter-leaflet",
      "model_module_version": "2.0.0",
      "model_name": "LeafletTileLayerModel",
      "state": {
       "_view_name": "ErrorWidgetView",
       "attribution": "Imagery provided by services from the Global Imagery Browse Services (GIBS), operated by the NASA/GSFC/Earth Science Data and Information System (ESDIS) with funding provided by NASA/HQ.",
       "error": {},
       "max_zoom": 8,
       "msg": "Failed to load model class 'LeafletTileLayerModel' from module 'jupyter-leaflet'",
       "name": "NASAGIBS.BlueMarble",
       "options": [
        "attribution",
        "bounds",
        "detect_retina",
        "max_native_zoom",
        "max_zoom",
        "min_native_zoom",
        "min_zoom",
        "no_wrap",
        "tile_size",
        "tms",
        "zoom_offset"
       ],
       "url": "https://gibs.earthdata.nasa.gov/wmts/epsg3857/best/BlueMarble_NextGeneration/default/EPSG3857_500m/{z}/{y}/{x}.jpeg"
      }
     },
     "ef3baaec543a455ea1c0cc76ee9161bb": {
      "model_module": "jupyter-leaflet",
      "model_module_version": "2.0.0",
      "model_name": "LeafletTileLayerModel",
      "state": {
       "_view_name": "ErrorWidgetView",
       "attribution": "(C) OpenStreetMap contributors (C) CARTO",
       "error": {},
       "max_zoom": 20,
       "msg": "Failed to load model class 'LeafletTileLayerModel' from module 'jupyter-leaflet'",
       "name": "CartoDB.Voyager",
       "options": [
        "attribution",
        "bounds",
        "detect_retina",
        "max_native_zoom",
        "max_zoom",
        "min_native_zoom",
        "min_zoom",
        "no_wrap",
        "tile_size",
        "tms",
        "zoom_offset"
       ],
       "url": "https://a.basemaps.cartocdn.com/rastertiles/voyager/{z}/{x}/{y}.png"
      }
     },
     "f1400a13c80b4738aa2e229a6364942f": {
      "model_module": "jupyter-leaflet",
      "model_module_version": "2.0.0",
      "model_name": "LeafletTileLayerModel",
      "state": {
       "_view_name": "ErrorWidgetView",
       "attribution": "Imagery provided by services from the Global Imagery Browse Services (GIBS), operated by the NASA/GSFC/Earth Science Data and Information System (ESDIS) with funding provided by NASA/HQ.",
       "error": {},
       "max_zoom": 6,
       "msg": "Failed to load model class 'LeafletTileLayerModel' from module 'jupyter-leaflet'",
       "name": "NASAGIBS.ModisTerraAOD",
       "options": [
        "attribution",
        "bounds",
        "detect_retina",
        "max_native_zoom",
        "max_zoom",
        "min_native_zoom",
        "min_zoom",
        "no_wrap",
        "tile_size",
        "tms",
        "zoom_offset"
       ],
       "url": "https://map1.vis.earthdata.nasa.gov/wmts-webmerc/MODIS_Terra_Aerosol/default//GoogleMapsCompatible_Level6/{z}/{y}/{x}.png"
      }
     },
     "f17410c4e4d2455495bf04af0de8f33a": {
      "model_module": "@jupyter-widgets/base",
      "model_module_version": "2.0.0",
      "model_name": "LayoutModel",
      "state": {}
     },
     "f1e66528f1b04571be857631f73ab4dd": {
      "model_module": "jupyter-leaflet",
      "model_module_version": "2.0.0",
      "model_name": "LeafletTileLayerModel",
      "state": {
       "_view_name": "ErrorWidgetView",
       "attribution": "© swisstopo",
       "error": {},
       "max_zoom": 19,
       "msg": "Failed to load model class 'LeafletTileLayerModel' from module 'jupyter-leaflet'",
       "name": "SwissFederalGeoportal.SWISSIMAGE",
       "options": [
        "attribution",
        "bounds",
        "detect_retina",
        "max_native_zoom",
        "max_zoom",
        "min_native_zoom",
        "min_zoom",
        "no_wrap",
        "tile_size",
        "tms",
        "zoom_offset"
       ],
       "url": "https://wmts.geo.admin.ch/1.0.0/ch.swisstopo.swissimage/default/current/3857/{z}/{x}/{y}.jpeg"
      }
     },
     "f1eaadb1c01540dc83bf2c38d0bfd1b8": {
      "model_module": "jupyter-leaflet",
      "model_module_version": "2.0.0",
      "model_name": "LeafletTileLayerModel",
      "state": {
       "_view_name": "ErrorWidgetView",
       "attribution": "Imagery provided by services from the Global Imagery Browse Services (GIBS), operated by the NASA/GSFC/Earth Science Data and Information System (ESDIS) with funding provided by NASA/HQ.",
       "error": {},
       "max_zoom": 5,
       "msg": "Failed to load model class 'LeafletTileLayerModel' from module 'jupyter-leaflet'",
       "name": "NASAGIBS.BlueMarble3031",
       "options": [
        "attribution",
        "bounds",
        "detect_retina",
        "max_native_zoom",
        "max_zoom",
        "min_native_zoom",
        "min_zoom",
        "no_wrap",
        "tile_size",
        "tms",
        "zoom_offset"
       ],
       "url": "https://gibs.earthdata.nasa.gov/wmts/epsg3031/best/BlueMarble_NextGeneration/default/EPSG3031_500m/{z}/{y}/{x}.jpeg"
      }
     },
     "f2330164ab4f45af922d88f9862cccd5": {
      "model_module": "jupyter-leaflet",
      "model_module_version": "2.0.0",
      "model_name": "LeafletTileLayerModel",
      "state": {
       "_view_name": "ErrorWidgetView",
       "attribution": "Tiles (C) Esri -- Source: Esri, i-cubed, USDA, USGS, AEX, GeoEye, Getmapping, Aerogrid, IGN, IGP, UPR-EGP, and the GIS User Community",
       "error": {},
       "max_zoom": 22,
       "msg": "Failed to load model class 'LeafletTileLayerModel' from module 'jupyter-leaflet'",
       "name": "Esri.WorldImagery",
       "options": [
        "attribution",
        "bounds",
        "detect_retina",
        "max_native_zoom",
        "max_zoom",
        "min_native_zoom",
        "min_zoom",
        "no_wrap",
        "tile_size",
        "tms",
        "zoom_offset"
       ],
       "url": "https://server.arcgisonline.com/ArcGIS/rest/services/World_Imagery/MapServer/tile/{z}/{y}/{x}"
      }
     },
     "f2d3829d3a1647628ffafd4105e1618d": {
      "model_module": "@jupyter-widgets/controls",
      "model_module_version": "2.0.0",
      "model_name": "HTMLModel",
      "state": {
       "layout": "IPY_MODEL_cb3d841725d947f8922659146d9a79c3",
       "style": "IPY_MODEL_c5374355a9354ae887317c8ff3d41250",
       "value": " 951M/951M (raw) [100.0%] in 06:23 (eta: 00:00)"
      }
     },
     "f3670cd9c9b84b268cd1b9ad3f119cfc": {
      "model_module": "jupyter-leaflet",
      "model_module_version": "2.0.0",
      "model_name": "LeafletTileLayerModel",
      "state": {
       "_view_name": "ErrorWidgetView",
       "attribution": "(C) OpenStreetMap contributors",
       "error": {},
       "msg": "Failed to load model class 'LeafletTileLayerModel' from module 'jupyter-leaflet'",
       "name": "OpenStreetMap.DE",
       "options": [
        "attribution",
        "bounds",
        "detect_retina",
        "max_native_zoom",
        "max_zoom",
        "min_native_zoom",
        "min_zoom",
        "no_wrap",
        "tile_size",
        "tms",
        "zoom_offset"
       ],
       "url": "https://a.tile.openstreetmap.de/{z}/{x}/{y}.png"
      }
     },
     "f4c986db7cfd4b6e929606b435f36f22": {
      "model_module": "jupyter-leaflet",
      "model_module_version": "2.0.0",
      "model_name": "LeafletWMSLayerModel",
      "state": {
       "_view_name": "ErrorWidgetView",
       "attribution": "MRLC",
       "crs": {
        "custom": false,
        "name": "EPSG3857"
       },
       "error": {},
       "format": "image/png",
       "layers": "NLCD_2006_Land_Cover_L48",
       "msg": "Failed to load model class 'LeafletWMSLayerModel' from module 'jupyter-leaflet'",
       "name": "NLCD 2006 CONUS Land Cover",
       "options": [
        "attribution",
        "bounds",
        "detect_retina",
        "format",
        "layers",
        "max_native_zoom",
        "max_zoom",
        "min_native_zoom",
        "min_zoom",
        "no_wrap",
        "styles",
        "tile_size",
        "tms",
        "transparent",
        "uppercase",
        "zoom_offset"
       ],
       "transparent": true,
       "url": "https://www.mrlc.gov/geoserver/mrlc_display/NLCD_2006_Land_Cover_L48/wms?"
      }
     },
     "f4e01a76ac9949cf8b4527f63de188b2": {
      "model_module": "@jupyter-widgets/controls",
      "model_module_version": "2.0.0",
      "model_name": "HBoxModel",
      "state": {
       "children": [
        "IPY_MODEL_6d59087c069740149fd4f70d469901a0",
        "IPY_MODEL_6a93b9d2ac5745d9a1503abdd0097976",
        "IPY_MODEL_0046d915033c4a348423b6830ea40858"
       ],
       "layout": "IPY_MODEL_9aeafa397af948bd9326ca47493c3e0c"
      }
     },
     "f5e8241cd3ea4fbb93dd708bc2675bb5": {
      "model_module": "jupyter-leaflet",
      "model_module_version": "2.0.0",
      "model_name": "LeafletTileLayerModel",
      "state": {
       "_view_name": "ErrorWidgetView",
       "attribution": "(C) OpenStreetMap contributors (C) CARTO",
       "error": {},
       "max_zoom": 20,
       "msg": "Failed to load model class 'LeafletTileLayerModel' from module 'jupyter-leaflet'",
       "name": "CartoDB.PositronNoLabels",
       "options": [
        "attribution",
        "bounds",
        "detect_retina",
        "max_native_zoom",
        "max_zoom",
        "min_native_zoom",
        "min_zoom",
        "no_wrap",
        "tile_size",
        "tms",
        "zoom_offset"
       ],
       "url": "https://a.basemaps.cartocdn.com/light_nolabels/{z}/{x}/{y}.png"
      }
     },
     "f5f722ce03be4a5a8ec66503c9926de4": {
      "model_module": "jupyter-leaflet",
      "model_module_version": "2.0.0",
      "model_name": "LeafletTileLayerModel",
      "state": {
       "_view_name": "ErrorWidgetView",
       "attribution": "Datenquelle: basemap.at",
       "error": {},
       "max_zoom": 20,
       "msg": "Failed to load model class 'LeafletTileLayerModel' from module 'jupyter-leaflet'",
       "name": "BasemapAT.basemap",
       "options": [
        "attribution",
        "bounds",
        "detect_retina",
        "max_native_zoom",
        "max_zoom",
        "min_native_zoom",
        "min_zoom",
        "no_wrap",
        "tile_size",
        "tms",
        "zoom_offset"
       ],
       "url": "https://maps.wien.gv.at/basemap/geolandbasemap/normal/google3857/{z}/{y}/{x}.png"
      }
     },
     "f6ab13cfe8064a37936c227831743f2c": {
      "model_module": "jupyter-leaflet",
      "model_module_version": "2.0.0",
      "model_name": "LeafletTileLayerModel",
      "state": {
       "_view_name": "ErrorWidgetView",
       "attribution": "Imagery provided by services from the Global Imagery Browse Services (GIBS), operated by the NASA/GSFC/Earth Science Data and Information System (ESDIS) with funding provided by NASA/HQ.",
       "error": {},
       "max_zoom": 9,
       "msg": "Failed to load model class 'LeafletTileLayerModel' from module 'jupyter-leaflet'",
       "name": "NASAGIBS.ModisTerraBands721CR",
       "options": [
        "attribution",
        "bounds",
        "detect_retina",
        "max_native_zoom",
        "max_zoom",
        "min_native_zoom",
        "min_zoom",
        "no_wrap",
        "tile_size",
        "tms",
        "zoom_offset"
       ],
       "url": "https://gibs.earthdata.nasa.gov/wmts/epsg3857/best/MODIS_Terra_CorrectedReflectance_Bands721/default//GoogleMapsCompatible_Level9/{z}/{y}/{x}.jpg"
      }
     },
     "fbeff9c277c542fbb86883ebd972201e": {
      "model_module": "jupyter-leaflet",
      "model_module_version": "2.0.0",
      "model_name": "LeafletTileLayerModel",
      "state": {
       "_view_name": "ErrorWidgetView",
       "attribution": "Tiles (C) Esri -- Source: USGS, Esri, TANA, DeLorme, and NPS",
       "error": {},
       "max_zoom": 13,
       "msg": "Failed to load model class 'LeafletTileLayerModel' from module 'jupyter-leaflet'",
       "name": "Esri.WorldTerrain",
       "options": [
        "attribution",
        "bounds",
        "detect_retina",
        "max_native_zoom",
        "max_zoom",
        "min_native_zoom",
        "min_zoom",
        "no_wrap",
        "tile_size",
        "tms",
        "zoom_offset"
       ],
       "url": "https://server.arcgisonline.com/ArcGIS/rest/services/World_Terrain_Base/MapServer/tile/{z}/{y}/{x}"
      }
     },
     "fc92ed808ca04c4abb7b623c1c39caa3": {
      "model_module": "jupyter-leaflet",
      "model_module_version": "2.0.0",
      "model_name": "LeafletTileLayerModel",
      "state": {
       "_view_name": "ErrorWidgetView",
       "attribution": "openAIP Data (CC-BY-NC-SA)",
       "error": {},
       "max_zoom": 14,
       "msg": "Failed to load model class 'LeafletTileLayerModel' from module 'jupyter-leaflet'",
       "name": "OpenAIP",
       "options": [
        "attribution",
        "bounds",
        "detect_retina",
        "max_native_zoom",
        "max_zoom",
        "min_native_zoom",
        "min_zoom",
        "no_wrap",
        "tile_size",
        "tms",
        "zoom_offset"
       ],
       "url": "https://1.tile.maps.openaip.net/geowebcache/service/tms/1.0.0/openaip_basemap@EPSG%3A900913@png/{z}/{x}/{y}.png"
      }
     },
     "ff758207968e4df8848ecce6ddd34c84": {
      "model_module": "jupyter-leaflet",
      "model_module_version": "2.0.0",
      "model_name": "LeafletTileLayerModel",
      "state": {
       "_view_name": "ErrorWidgetView",
       "attribution": "Map tiles by Stamen Design, CC BY 3.0 -- Map data (C) OpenStreetMap contributors",
       "error": {},
       "max_zoom": 20,
       "msg": "Failed to load model class 'LeafletTileLayerModel' from module 'jupyter-leaflet'",
       "name": "Stamen.TonerLabels",
       "options": [
        "attribution",
        "bounds",
        "detect_retina",
        "max_native_zoom",
        "max_zoom",
        "min_native_zoom",
        "min_zoom",
        "no_wrap",
        "tile_size",
        "tms",
        "zoom_offset"
       ],
       "url": "https://stamen-tiles-a.a.ssl.fastly.net/toner-labels/{z}/{x}/{y}.png"
      }
     }
    },
    "version_major": 2,
    "version_minor": 0
   }
  }
 },
 "nbformat": 4,
 "nbformat_minor": 4
}
